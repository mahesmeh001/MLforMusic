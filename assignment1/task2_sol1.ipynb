{
 "cells": [
  {
   "cell_type": "markdown",
   "source": [
    "Task: next sequence prediction. \n",
    "Would the next midi file follow this one? \n",
    "\n",
    "baseline acc is about .6"
   ],
   "metadata": {
    "collapsed": false
   },
   "id": "87b1eaf0dbac4c10"
  },
  {
   "cell_type": "code",
   "outputs": [],
   "source": [
    "# Probably more imports than are really necessary...\n",
    "import os\n",
    "import torch\n",
    "import torchaudio\n",
    "from torch.utils.data import Dataset, DataLoader, random_split\n",
    "import torch.nn as nn\n",
    "import torch.nn.functional as F\n",
    "from torchaudio.transforms import MelSpectrogram, AmplitudeToDB\n",
    "from tqdm import tqdm\n",
    "import librosa\n",
    "import numpy as np\n",
    "import miditoolkit\n",
    "from sklearn.linear_model import LogisticRegression\n",
    "from sklearn.metrics import f1_score, average_precision_score, accuracy_score\n",
    "import random"
   ],
   "metadata": {
    "collapsed": true,
    "ExecuteTime": {
     "end_time": "2025-05-12T23:24:24.712196Z",
     "start_time": "2025-05-12T23:24:24.671760Z"
    }
   },
   "id": "initial_id",
   "execution_count": 23
  },
  {
   "cell_type": "code",
   "outputs": [],
   "source": [
    "def accuracy2(groundtruth, predictions):\n",
    "    correct = 0\n",
    "    for k in groundtruth:\n",
    "        if not (k in predictions):\n",
    "            print(\"Missing \" + str(k) + \" from predictions\")\n",
    "            return 0\n",
    "        if predictions[k] == groundtruth[k]:\n",
    "            correct += 1\n",
    "    return correct / len(groundtruth)"
   ],
   "metadata": {
    "collapsed": false,
    "ExecuteTime": {
     "end_time": "2025-05-12T23:24:26.290900Z",
     "start_time": "2025-05-12T23:24:26.264816Z"
    }
   },
   "id": "47d276a06fe6de94",
   "execution_count": 24
  },
  {
   "cell_type": "code",
   "outputs": [],
   "source": [
    "dataroot2 = \"data/student_files/task2_next_sequence_prediction/\""
   ],
   "metadata": {
    "collapsed": false,
    "ExecuteTime": {
     "end_time": "2025-05-12T23:46:21.374832Z",
     "start_time": "2025-05-12T23:46:21.370417Z"
    }
   },
   "id": "244f761bd04ed087",
   "execution_count": 76
  },
  {
   "cell_type": "code",
   "outputs": [],
   "source": [
    "class model2():\n",
    "    def __init__(self):\n",
    "        pass\n",
    "\n",
    "    def features(self, path):\n",
    "        midi_obj = miditoolkit.midi.parser.MidiFile(dataroot2 + '/' + path)\n",
    "        notes = midi_obj.instruments[0].notes\n",
    "        num_notes = len(notes)\n",
    "        average_pitch = sum([note.pitch for note in notes]) / num_notes\n",
    "        features = [average_pitch]\n",
    "        return features\n",
    "    \n",
    "    def train(self, path):\n",
    "        # This baseline doesn't use any model (it just measures feature similarity)\n",
    "        # You can use this approach but *probably* you'll want to implement a model\n",
    "        pass\n",
    "\n",
    "    def predict(self, path, outpath=None):\n",
    "        d = eval(open(path, 'r').read())\n",
    "        predictions = {}\n",
    "        for k in d:\n",
    "            path1,path2 = k # Keys are pairs of paths\n",
    "            x1 = self.features(path1)\n",
    "            x2 = self.features(path2)\n",
    "            # Note: hardcoded difference between features\n",
    "            if abs(x1[0] - x2[0]) < 5:\n",
    "                predictions[k] = True\n",
    "            else:\n",
    "                predictions[k] = False\n",
    "        if outpath:\n",
    "            with open(outpath, \"w\") as z:\n",
    "                z.write(str(predictions) + '\\n')\n",
    "        return predictions"
   ],
   "metadata": {
    "collapsed": false,
    "ExecuteTime": {
     "end_time": "2025-05-12T23:24:27.497919Z",
     "start_time": "2025-05-12T23:24:27.488441Z"
    }
   },
   "id": "6a5a30de1001f24f",
   "execution_count": 26
  },
  {
   "cell_type": "code",
   "outputs": [],
   "source": [
    "def run2():\n",
    "    model = model2()\n",
    "    model.train(dataroot2 + \"/train.json\")\n",
    "    train_preds = model.predict(dataroot2 + \"/train.json\")\n",
    "    test_preds = model.predict(dataroot2 + \"/test.json\", \"predictions2.json\")\n",
    "    \n",
    "    train_labels = eval(open(dataroot2 + \"/train.json\").read())\n",
    "    acc2 = accuracy2(train_labels, train_preds)\n",
    "    print(\"Task 2 training accuracy = \" + str(acc2))"
   ],
   "metadata": {
    "collapsed": false,
    "ExecuteTime": {
     "end_time": "2025-05-12T23:24:29.212351Z",
     "start_time": "2025-05-12T23:24:29.205592Z"
    }
   },
   "id": "bdb78dc3ab23dee7",
   "execution_count": 27
  },
  {
   "cell_type": "code",
   "outputs": [
    {
     "name": "stdout",
     "output_type": "stream",
     "text": [
      "Task 2 training accuracy = 0.5981376857083072\n"
     ]
    }
   ],
   "source": [
    "# run2()"
   ],
   "metadata": {
    "collapsed": false,
    "ExecuteTime": {
     "end_time": "2025-05-12T23:25:06.780645Z",
     "start_time": "2025-05-12T23:24:34.585982Z"
    }
   },
   "id": "64b478197681eaa7",
   "execution_count": 29
  },
  {
   "cell_type": "markdown",
   "source": [
    "CUSTOM MODEL\n",
    "\n",
    "note: even basic feature similarity seems to be doing pretty good"
   ],
   "metadata": {
    "collapsed": false
   },
   "id": "5ab284f47700d1c3"
  },
  {
   "cell_type": "markdown",
   "source": [
    "First, load in data. \n",
    "Create a small dataset for overfitting, and an actual large one\n",
    "\n",
    "data is coming in as {(file1,file2):T/F,....}\n",
    "convert to X = [similarity scores, raw features1, raw features2] and y=t/f"
   ],
   "metadata": {
    "collapsed": false
   },
   "id": "b177d95f45251d0c"
  },
  {
   "cell_type": "code",
   "outputs": [],
   "source": [
    "from mido import MidiFile\n",
    "\n",
    "SAMPLE_RATE = 25000\n",
    "\n",
    "# create train loader \n",
    "\n",
    "\n",
    "def get_lowest_pitch(file_path):\n",
    "    # Initialize lowest_note to a high value (since MIDI notes are from 0 to 127)\n",
    "    lowest_note = 128  \n",
    "    mid = MidiFile(file_path)\n",
    "    \n",
    "    for track in mid.tracks:\n",
    "        for msg in track:\n",
    "            if msg.type == 'note_on' and msg.velocity > 0:\n",
    "                if msg.note < lowest_note:\n",
    "                    lowest_note = msg.note\n",
    "    \n",
    "    # Return None if no note is found\n",
    "    return lowest_note if lowest_note != 128 else None\n",
    "\n",
    "def get_highest_pitch(file_path):\n",
    "    # Initialize highest_note to a low value (since MIDI notes are from 0 to 127)\n",
    "    highest_note = -1  \n",
    "    mid = MidiFile(file_path)\n",
    "    \n",
    "    for track in mid.tracks:\n",
    "        for msg in track:\n",
    "            if msg.type == 'note_on' and msg.velocity > 0:\n",
    "                if msg.note > highest_note:\n",
    "                    highest_note = msg.note\n",
    "                    \n",
    "    # Return None if no note is found\n",
    "    return highest_note if highest_note != -1 else None\n",
    "\n",
    "def get_unique_pitch_num(file_path):\n",
    "    mid = MidiFile(file_path)\n",
    "    notes = set()\n",
    "    \n",
    "    for track in mid.tracks:\n",
    "        for msg in track:\n",
    "            if msg.type == 'note_on' and msg.velocity > 0:\n",
    "                notes.add(msg.note)\n",
    "    \n",
    "    return len(notes)\n",
    "\n",
    "def get_average_pitch_value(file_path):\n",
    "    #Q8: Your code goes here\n",
    "    mid = MidiFile(file_path)\n",
    "    \n",
    "    notes = []\n",
    "    for track in mid.tracks:\n",
    "        for msg in track:\n",
    "            if msg.type == 'note_on' and msg.velocity > 0:\n",
    "                notes.append(msg.note)\n",
    "    \n",
    "    if notes:\n",
    "        return sum(notes) / len(notes)\n",
    "    else:\n",
    "        return None\n",
    "\n",
    "def extract_waveform(path):\n",
    "    # Your code here\n",
    "    wave, sr = librosa.load(path, sr=SAMPLE_RATE)\n",
    "    return wave \n",
    "\n",
    "def extract_q(w):\n",
    "    # Your code here\n",
    "    result = librosa.cqt(y=w, sr=SAMPLE_RATE)\n",
    "    result = librosa.amplitude_to_db(np.abs(result))\n",
    "    \n",
    "    return torch.FloatTensor(result)\n",
    "\n",
    "def extract_mfcc(w):\n",
    "    # Your code here:\n",
    "    # load using librosa.feature.mfcc\n",
    "    mfcc = librosa.feature.mfcc(y=w, sr=SAMPLE_RATE, n_mfcc = 13)\n",
    "    # extract mean and \n",
    "    means = np.mean(mfcc, axis=1)\n",
    "    \n",
    "    stds = np.std(mfcc, axis=1)\n",
    "    # concatenate\n",
    "    features = np.concatenate([means, stds])\n",
    "    \n",
    "    return torch.FloatTensor(features)\n",
    "\n",
    "def extract_spec(w):\n",
    "    # Your code here\n",
    "    # load\n",
    "    stft = librosa.stft(y=w)\n",
    "    # take squared absolute values\n",
    "    spec = np.abs(stft) ** 2\n",
    "    \n",
    "    return torch.FloatTensor(spec)\n",
    "\n",
    "\n",
    "def pad_or_truncate(spec, max_time=500):\n",
    "    freq_bins, time_bins = spec.shape\n",
    "    if time_bins > max_time:\n",
    "        return spec[:, :max_time]\n",
    "    elif time_bins < max_time:\n",
    "        pad_width = max_time - time_bins\n",
    "        return F.pad(spec, (0, pad_width), mode='constant', value=0)\n",
    "    return spec\n",
    "\n",
    "from mido import MidiFile\n",
    "\n",
    "def pitch_class_profile(path):\n",
    "    # Initialize an array to count occurrences of each pitch class (12 semitones)\n",
    "    pitch_class_counts = [0] * 12\n",
    "    \n",
    "    # Load the MIDI file\n",
    "    mid = MidiFile(path)\n",
    "    \n",
    "    # Iterate through each track in the MIDI file\n",
    "    for track in mid.tracks:\n",
    "        # Track MIDI events\n",
    "        time = 0\n",
    "        for msg in track:\n",
    "            time += msg.time  # accumulate time (not used directly here, but part of the MIDI structure)\n",
    "            \n",
    "            # Process note-on and note-off events\n",
    "            if msg.type in ['note_on', 'note_off']:\n",
    "                # We care about note_on events to track pitches\n",
    "                if msg.type == 'note_on' and msg.velocity > 0:  # Only count note_on with non-zero velocity\n",
    "                    pitch = msg.note  # MIDI note number (e.g., 60 is Middle C)\n",
    "                    # Convert to pitch class (0-11)\n",
    "                    pitch_class = pitch % 12\n",
    "                    pitch_class_counts[pitch_class] += 1\n",
    "    \n",
    "    # Normalize the pitch class counts to get a distribution\n",
    "    total_notes = sum(pitch_class_counts)\n",
    "    if total_notes > 0:\n",
    "        pitch_class_profile = [count / total_notes for count in pitch_class_counts]\n",
    "    else:\n",
    "        pitch_class_profile = [0] * 12  # If no notes are found, return an all-zero vector\n",
    "    \n",
    "    \n",
    "    return torch.tensor(pitch_class_profile)\n",
    "\n",
    "\n",
    "def get_key_signature(path):\n",
    "    # Load the MIDI file\n",
    "    midi = MidiFile(path)\n",
    "    \n",
    "    # Iterate through all tracks in the MIDI file\n",
    "    for track in midi.tracks:\n",
    "        for msg in track:\n",
    "            # Look for meta events of type 'key_signature'\n",
    "            if msg.type == 'key_signature':\n",
    "                # Extract the key and mode from the key_signature meta message\n",
    "                key = msg.key\n",
    "                \n",
    "                return key  # Return key and mode\n",
    "    \n",
    "    # Return None if no key_signature meta message was found\n",
    "    print('no key found')\n",
    "    return None\n"
   ],
   "metadata": {
    "collapsed": false,
    "ExecuteTime": {
     "end_time": "2025-05-13T00:12:21.599917Z",
     "start_time": "2025-05-13T00:12:21.589460Z"
    }
   },
   "id": "31626f47cc79a7cf",
   "execution_count": 144
  },
  {
   "cell_type": "code",
   "outputs": [],
   "source": [
    "def features(path):\n",
    "    full_path = dataroot2 + '/' + path\n",
    "    try:\n",
    "        midi_obj = pretty_midi.PrettyMIDI(full_path)\n",
    "        w = midi_obj.fluidsynth()\n",
    "\n",
    "        mfcc = extract_mfcc(w)\n",
    "        spec = extract_spec(w).mean(dim=1)\n",
    "        q = extract_q(w).mean(dim=1)\n",
    "        pitch_distribution = pitch_class_profile(full_path)\n",
    "        key_signature = get_key_signature(full_path)\n",
    "\n",
    "        \n",
    "        # want things like... \n",
    "        # key signature\n",
    "        # pitch interval analysis -> average size of intervals between notes\n",
    "        \n",
    "        \n",
    "        extra = torch.tensor([\n",
    "            get_lowest_pitch(full_path) or 0,\n",
    "            get_highest_pitch(full_path) or 0,\n",
    "            get_unique_pitch_num(full_path),\n",
    "            get_average_pitch_value(full_path) or 0\n",
    "        ], dtype=torch.float64)\n",
    "\n",
    "        # return torch.cat([mfcc, spec, q, extra])\n",
    "        return mfcc, spec, q, pitch_distribution, key_signature, extra\n",
    "    except Exception as e:\n",
    "        print(f\"Failed to process {full_path}: {e}\")\n",
    "        return None"
   ],
   "metadata": {
    "collapsed": false,
    "ExecuteTime": {
     "end_time": "2025-05-13T00:12:22.085680Z",
     "start_time": "2025-05-13T00:12:22.079038Z"
    }
   },
   "id": "6e8a100d11755964",
   "execution_count": 145
  },
  {
   "cell_type": "code",
   "outputs": [],
   "source": [
    "def test_features():\n",
    "    path = 'midis/0.mid'\n",
    "    feats = features(path)\n",
    "    \n",
    "    if feats is None:\n",
    "        print(\"Feature extraction failed.\")\n",
    "        return\n",
    "\n",
    "    mfcc, spec, q, pitch_dist, key_sig, extra = feats\n",
    "\n",
    "    print(\"MFCC shape:\", mfcc.shape)\n",
    "    print(\"Spectrogram shape:\", spec.shape)\n",
    "    print(\"Q-Transform shape:\", q.shape)\n",
    "    print(\"Pitch distribution shape:\", pitch_dist.shape)\n",
    "    print(\"Key signature:\", key_sig)\n",
    "    print(\"Extra shape:\", extra.shape)\n",
    "\n",
    "    # Basic sanity checks (can be modified to assert instead of print if desired)\n",
    "    assert isinstance(mfcc, torch.Tensor)\n",
    "    assert isinstance(spec, torch.Tensor)\n",
    "    assert isinstance(q, torch.Tensor)\n",
    "    assert isinstance(pitch_dist, torch.Tensor)\n",
    "    assert isinstance(extra, torch.Tensor)\n",
    "    assert extra.shape[0] == 4\n",
    "\n",
    "    print(\"All feature checks passed.\")"
   ],
   "metadata": {
    "collapsed": false,
    "ExecuteTime": {
     "end_time": "2025-05-13T00:12:22.528611Z",
     "start_time": "2025-05-13T00:12:22.523266Z"
    }
   },
   "id": "ab5a792a3b1e769b",
   "execution_count": 146
  },
  {
   "cell_type": "code",
   "outputs": [
    {
     "name": "stdout",
     "output_type": "stream",
     "text": [
      "MFCC shape: torch.Size([26])\n",
      "Spectrogram shape: torch.Size([1025])\n",
      "Q-Transform shape: torch.Size([84])\n",
      "Pitch distribution shape: torch.Size([12])\n",
      "Key signature: F#\n",
      "Extra shape: torch.Size([4])\n",
      "All feature checks passed.\n"
     ]
    }
   ],
   "source": [
    "test_features()"
   ],
   "metadata": {
    "collapsed": false,
    "ExecuteTime": {
     "end_time": "2025-05-12T23:54:27.490435Z",
     "start_time": "2025-05-12T23:54:27.287810Z"
    }
   },
   "id": "ed23e427b9e289e5",
   "execution_count": 110
  },
  {
   "cell_type": "code",
   "outputs": [],
   "source": [
    "import scipy\n",
    "from scipy.spatial.distance import euclidean\n",
    "import ast\n",
    "import pretty_midi\n",
    "from sklearn.metrics.pairwise import cosine_similarity\n",
    "from scipy.stats import wasserstein_distance\n",
    "from fastdtw import fastdtw\n",
    "from joblib import Parallel, delayed\n",
    "from functools import partial\n",
    "import tqdm.notebook as tqdm\n",
    "\n",
    "\n",
    "\n",
    "X_data_small, Y_data_small = [],[]\n",
    "X_data, Y_data = [], []\n",
    "\n",
    "\n",
    "def process_pair_predict(tuple, features_func):\n",
    "    \"\"\"Process a single pair of files and compute similarity metrics\"\"\"\n",
    "    file1, file2 = tuple[0], tuple[1]\n",
    "    \n",
    "    # Extract features for each file\n",
    "    mfcc1, spec1, q1, pitch1, key1, extra1 = features_func(file1)\n",
    "    mfcc2, spec2, q2, pitch2, key2, extra2 = features_func(file2)\n",
    "    \n",
    "    # Calculate similarity metrics\n",
    "    sim_mfcc = euclidean(mfcc1, mfcc2)\n",
    "    sim_spec = cosine_similarity(mfcc1.reshape(1, -1), mfcc2.reshape(1, -1))[0][0]\n",
    "    sim_pitch = wasserstein_distance(pitch1, pitch2)\n",
    "    sim_key = 1 if str(key1) == str(key2) else 0\n",
    "    sim_extra = cosine_similarity(extra1.reshape(1, -1), extra2.reshape(1, -1))[0][0]\n",
    "    \n",
    "    # Create feature vector\n",
    "    features_vector = [sim_mfcc, sim_spec, sim_pitch, sim_key, sim_extra]\n",
    "    \n",
    "    # Add statistical features\n",
    "    features_vector.extend([mfcc1.mean(), mfcc2.mean(), mfcc1.std(), mfcc2.std(),\n",
    "                           spec1.mean(), spec2.mean(), spec1.std(), spec2.std()])\n",
    "    \n",
    "    # Add extra features\n",
    "    features_vector.extend(extra1.tolist())\n",
    "    features_vector.extend(extra2.tolist())\n",
    "    \n",
    "    return features_vector\n",
    "\n",
    "def process_pair(key_value_pair, features_func):\n",
    "    \"\"\"Process a single pair of files and compute similarity metrics\"\"\"\n",
    "    key, value = key_value_pair\n",
    "    file1, file2 = key[0], key[1]\n",
    "    y = value\n",
    "    \n",
    "    # Extract features for each file\n",
    "    mfcc1, spec1, q1, pitch1, key1, extra1 = features_func(file1)\n",
    "    mfcc2, spec2, q2, pitch2, key2, extra2 = features_func(file2)\n",
    "    \n",
    "    # Calculate similarity metrics\n",
    "    sim_mfcc = euclidean(mfcc1, mfcc2)\n",
    "    sim_spec = cosine_similarity(mfcc1.reshape(1, -1), mfcc2.reshape(1, -1))[0][0]\n",
    "    sim_pitch = wasserstein_distance(pitch1, pitch2)\n",
    "    sim_key = 1 if str(key1) == str(key2) else 0\n",
    "    sim_extra = cosine_similarity(extra1.reshape(1, -1), extra2.reshape(1, -1))[0][0]\n",
    "    \n",
    "    # Create feature vector\n",
    "    features_vector = [sim_mfcc, sim_spec, sim_pitch, sim_key, sim_extra]\n",
    "    \n",
    "    # Add statistical features\n",
    "    features_vector.extend([mfcc1.mean(), mfcc2.mean(), mfcc1.std(), mfcc2.std(),\n",
    "                           spec1.mean(), spec2.mean(), spec1.std(), spec2.std()])\n",
    "    \n",
    "    # Add extra features\n",
    "    features_vector.extend(extra1.tolist())\n",
    "    features_vector.extend(extra2.tolist())\n",
    "    \n",
    "    return features_vector, y\n",
    "\n",
    "def create_datasets(size=None, n_jobs=4):\n",
    "    \"\"\"\n",
    "    Create datasets with parallelized processing\n",
    "    \n",
    "    Args:\n",
    "        size: Optional limit on number of samples to process\n",
    "        n_jobs: Number of parallel jobs to run\n",
    "        \n",
    "    Returns:\n",
    "        X_data, Y_data: Features and labels\n",
    "    \"\"\"\n",
    "    # Load data\n",
    "    with open(dataroot2 + \"/train.json\", 'r') as f:\n",
    "        data = ast.literal_eval(f.read())\n",
    "    \n",
    "    # Shuffle and crop data if size limit\n",
    "    if size:\n",
    "        items = list(data.items())\n",
    "        random.shuffle(items)\n",
    "        items = items[:size]\n",
    "        data = dict(items)\n",
    "    \n",
    "    # Create list of key-value pairs for parallel processing\n",
    "    items = list(data.items())\n",
    "    \n",
    "    # Create a partial function with the features function\n",
    "    process_func = partial(process_pair, features_func=features)\n",
    "    \n",
    "    # Process pairs in parallel\n",
    "    # Process pairs in parallel with progress bar\n",
    "    print(f\"Processing {len(items)} file pairs using {n_jobs} parallel jobs...\")\n",
    "    results = Parallel(n_jobs=n_jobs)(\n",
    "        delayed(process_func)(item) for item in tqdm.tqdm(items, desc=\"Processing file pairs\")\n",
    "    )\n",
    "    \n",
    "    # Count and filter failed results\n",
    "    num_failed = sum(r is None for r in results)\n",
    "    results = [r for r in results if r is not None]\n",
    "    \n",
    "    print(f\"{num_failed} items failed to process and were skipped.\")\n",
    "    \n",
    "    # Split results into X and Y\n",
    "    X_data, Y_data = zip(*results) if results else ([], [])\n",
    "    \n",
    "    # Print class distribution\n",
    "    positive_count = sum(Y_data)\n",
    "    negative_count = len(Y_data) - positive_count\n",
    "    print(f\"Positive examples: {positive_count}, Negative examples: {negative_count}\")\n",
    "    \n",
    "    return list(X_data), list(Y_data)"
   ],
   "metadata": {
    "collapsed": false,
    "ExecuteTime": {
     "end_time": "2025-05-13T01:57:07.028770Z",
     "start_time": "2025-05-13T01:57:06.912001Z"
    }
   },
   "id": "63c8bfce6fb8513b",
   "execution_count": 162
  },
  {
   "cell_type": "code",
   "outputs": [],
   "source": [
    "# can i load in data thats been precomputed, or do i need to re-load it?\n",
    "\n",
    "# check if pickle file exists. if not, run create_datasets and save to pickle"
   ],
   "metadata": {
    "collapsed": false,
    "ExecuteTime": {
     "end_time": "2025-05-13T00:12:26.507347Z",
     "start_time": "2025-05-13T00:12:26.490938Z"
    }
   },
   "id": "2fd2a7c96bf2cd",
   "execution_count": 148
  },
  {
   "cell_type": "code",
   "outputs": [
    {
     "name": "stdout",
     "output_type": "stream",
     "text": [
      "Processing 9558 file pairs using 4 parallel jobs...\n"
     ]
    },
    {
     "data": {
      "text/plain": "Processing file pairs:   0%|          | 0/9558 [00:00<?, ?it/s]",
      "application/vnd.jupyter.widget-view+json": {
       "version_major": 2,
       "version_minor": 0,
       "model_id": "1d81c08f02b1478ea3f0d793a21b6842"
      }
     },
     "metadata": {},
     "output_type": "display_data"
    },
    {
     "name": "stdout",
     "output_type": "stream",
     "text": [
      "||PaMacCore (AUHAL)|| Error on line 668: err=''who?'', msg=Audio Hardware: Unknown Property\n",
      "||PaMacCore (AUHAL)|| Error on line 672: err=''who?'', msg=Audio Hardware: Unknown Property\n",
      "||PaMacCore (AUHAL)|| Error on line 668: err=''who?'', msg=Audio Hardware: Unknown Property\n",
      "||PaMacCore (AUHAL)|| Error on line 668: err=''who?'', msg=Audio Hardware: Unknown Property\n",
      "||PaMacCore (AUHAL)|| Error on line 672: err=''who?'', msg=Audio Hardware: Unknown Property\n",
      "||PaMacCore (AUHAL)|| Error on line 672: err=''who?'', msg=Audio Hardware: Unknown Property\n",
      "||PaMacCore (AUHAL)|| Error on line 668: err=''who?'', msg=Audio Hardware: Unknown Property\n",
      "||PaMacCore (AUHAL)|| Error on line 672: err=''who?'', msg=Audio Hardware: Unknown Property\n",
      "||PaMacCore (AUHAL)|| Error on line 668: err=''who?'', msg=Audio Hardware: Unknown Property\n",
      "||PaMacCore (AUHAL)|| Error on line 672: err=''who?'', msg=Audio Hardware: Unknown Property\n",
      "||PaMacCore (AUHAL)|| Error on line 668: err=''who?'', msg=Audio Hardware: Unknown Property\n",
      "||PaMacCore (AUHAL)|| Error on line 672: err=''who?'', msg=Audio Hardware: Unknown Property\n",
      "||PaMacCore (AUHAL)|| Error on line 668: err=''!obj'', msg=Unknown Error\n",
      "||PaMacCore (AUHAL)|| Error on line 672: err=''!obj'', msg=Unknown Error\n",
      "||PaMacCore (AUHAL)|| Error on line 668: err=''!obj'', msg=Unknown Error\n",
      "||PaMacCore (AUHAL)|| Error on line 672: err=''!obj'', msg=Unknown Error\n",
      "0 items failed to process and were skipped.\n",
      "Positive examples: 4779, Negative examples: 4779\n",
      "Feature size: 21\n",
      "Data size: 9558\n"
     ]
    }
   ],
   "source": [
    "X_data, y_data = create_datasets()  # comes back as a list\n",
    "feature_size = len(X_data[0])\n",
    "print(f\"Feature size: {feature_size}\")\n",
    "print(f\"Data size: {len(X_data)}\")"
   ],
   "metadata": {
    "collapsed": false,
    "ExecuteTime": {
     "end_time": "2025-05-13T00:21:29.512190Z",
     "start_time": "2025-05-13T00:12:27.376624Z"
    }
   },
   "id": "4c9d4e99dbaedb9",
   "execution_count": 149
  },
  {
   "cell_type": "code",
   "outputs": [
    {
     "data": {
      "text/plain": "21"
     },
     "execution_count": 150,
     "metadata": {},
     "output_type": "execute_result"
    }
   ],
   "source": [
    "len(X_data[0])"
   ],
   "metadata": {
    "collapsed": false,
    "ExecuteTime": {
     "end_time": "2025-05-13T00:21:29.560574Z",
     "start_time": "2025-05-13T00:21:29.513378Z"
    }
   },
   "id": "76208fb91a062ad9",
   "execution_count": 150
  },
  {
   "cell_type": "code",
   "outputs": [
    {
     "name": "stdout",
     "output_type": "stream",
     "text": [
      "validation distribution split: 0.5005230125523012\n",
      "training distribution split: 0.4998692126602145\n"
     ]
    }
   ],
   "source": [
    "# Zip and shuffle together to maintain correspondence\n",
    "combined = list(zip(X_data, y_data))\n",
    "random.shuffle(combined)\n",
    "\n",
    "# Split index for 80/20\n",
    "split_idx = int(0.8 * len(combined))\n",
    "\n",
    "# Unzip into train and val sets\n",
    "train_data = combined[:split_idx]\n",
    "val_data = combined[split_idx:]\n",
    "\n",
    "X_train, y_train = zip(*train_data)\n",
    "X_val, y_val = zip(*val_data)\n",
    "\n",
    "# Optionally convert back to lists\n",
    "X_train, y_train = list(X_train), list(y_train)\n",
    "X_val, y_val = list(X_val), list(y_val)\n",
    "    \n",
    "# check that the distribution is still 50-50 between true and false \n",
    "print('validation distribution split:', sum(y_val) / len(y_val))\n",
    "print('training distribution split:', sum(y_train) / len(y_train))"
   ],
   "metadata": {
    "collapsed": false,
    "ExecuteTime": {
     "end_time": "2025-05-13T00:21:29.717022Z",
     "start_time": "2025-05-13T00:21:29.521394Z"
    }
   },
   "id": "ac44ab9e0738a295",
   "execution_count": 151
  },
  {
   "cell_type": "code",
   "outputs": [],
   "source": [
    "X_train = torch.tensor(X_train, dtype=torch.float32)\n",
    "y_train = torch.tensor(y_train, dtype=torch.int)  # or float if doing regression\n",
    "\n",
    "X_val = torch.tensor(X_val, dtype=torch.float32)\n",
    "y_val = torch.tensor(y_val, dtype=torch.int)"
   ],
   "metadata": {
    "collapsed": false,
    "ExecuteTime": {
     "end_time": "2025-05-13T00:21:29.748445Z",
     "start_time": "2025-05-13T00:21:29.543865Z"
    }
   },
   "id": "90c814270e85ccfa",
   "execution_count": 152
  },
  {
   "cell_type": "code",
   "outputs": [],
   "source": [
    "from torch.utils.data import TensorDataset, DataLoader\n",
    "\n",
    "train_dataset = TensorDataset(X_train, y_train)\n",
    "train_loader = DataLoader(train_dataset, batch_size=32, shuffle=True)\n",
    "\n",
    "val_dataset = TensorDataset(X_val, y_val)\n",
    "val_loader = DataLoader(val_dataset, batch_size=32, shuffle=True)"
   ],
   "metadata": {
    "collapsed": false,
    "ExecuteTime": {
     "end_time": "2025-05-13T00:21:29.761968Z",
     "start_time": "2025-05-13T00:21:29.649806Z"
    }
   },
   "id": "c2d1e903841e42c9",
   "execution_count": 153
  },
  {
   "cell_type": "code",
   "outputs": [],
   "source": [
    "# # save full dataset if computed\n",
    "# \n",
    "# import pickle\n",
    "# with open('fullTrainData.pkl', 'wb') as f:\n",
    "#     data = {'train_loader': train_loader, 'val_loader':val_loader, 'train_dataset': train_dataset, 'val_dataset':val_dataset}\n",
    "#     pickle.dump(data, f)"
   ],
   "metadata": {
    "collapsed": false,
    "ExecuteTime": {
     "end_time": "2025-05-13T00:21:29.763457Z",
     "start_time": "2025-05-13T00:21:29.652985Z"
    }
   },
   "id": "5619bde0236bedf0",
   "execution_count": 154
  },
  {
   "cell_type": "markdown",
   "source": [
    "Model Business "
   ],
   "metadata": {
    "collapsed": false
   },
   "id": "5931f234a9cc5fbb"
  },
  {
   "cell_type": "code",
   "outputs": [],
   "source": [
    "class MLPClassifier(nn.Module):\n",
    "    def __init__(self, input_dim=feature_size, num_classes=2):\n",
    "        super().__init__()\n",
    "        self.__init_args__ = (input_dim,)\n",
    "        self.__init_kwargs__ = {'num_classes': num_classes}\n",
    "        self.input_dim = input_dim\n",
    "        \n",
    "        # Feature processing network\n",
    "        self.feature_net = nn.Sequential(\n",
    "            nn.Linear(self.input_dim, 128),\n",
    "            nn.BatchNorm1d(128),\n",
    "            nn.LeakyReLU(0.2),\n",
    "            # nn.Dropout(0.5),\n",
    "            \n",
    "            # nn.Linear(128, 128),\n",
    "            # nn.BatchNorm1d(128),\n",
    "            # nn.LeakyReLU(0.2),\n",
    "            # nn.Dropout(0.4)\n",
    "        )\n",
    "        \n",
    "        # Attention mechanism for feature weighting\n",
    "        # self.attention = nn.Sequential(\n",
    "        #     nn.Linear(128, 256),\n",
    "        #     nn.Tanh(),\n",
    "        #     nn.Linear(256, 1)\n",
    "        # )\n",
    "        \n",
    "        # Classification head\n",
    "        self.classifier = nn.Sequential(\n",
    "            # nn.Linear(512, 256),\n",
    "            # nn.BatchNorm1d(256),\n",
    "            # nn.LeakyReLU(0.2),\n",
    "            # nn.Dropout(0.3),\n",
    "            \n",
    "            nn.Linear(128, 128),\n",
    "            nn.BatchNorm1d(128),\n",
    "            nn.LeakyReLU(0.2),\n",
    "            # nn.Dropout(0.4),\n",
    "            nn.Linear(128, num_classes)\n",
    "        )\n",
    "\n",
    "    def forward(self, x):\n",
    "        # Process features\n",
    "        features = self.feature_net(x)\n",
    "        \n",
    "        # Apply attention (optional branch)\n",
    "        # attention_weights = torch.sigmoid(self.attention(features))\n",
    "        # weighted_features = features * attention_weights\n",
    "        \n",
    "        # Final classification\n",
    "        logits = self.classifier(features)\n",
    "        return logits\n",
    "        \n",
    "    def extract_features(self, x):\n",
    "        \"\"\"Return intermediate feature representation\"\"\"\n",
    "        return self.feature_net(x)"
   ],
   "metadata": {
    "collapsed": false,
    "ExecuteTime": {
     "end_time": "2025-05-13T00:21:29.764710Z",
     "start_time": "2025-05-13T00:21:29.662003Z"
    }
   },
   "id": "ea3c63fca9c93299",
   "execution_count": 155
  },
  {
   "cell_type": "code",
   "outputs": [],
   "source": [
    "def save_model(model, filepath='sol_1.pt'):\n",
    "    \"\"\"Save a PyTorch model to a file\"\"\"\n",
    "    torch.save(model.state_dict(), filepath)\n",
    "    print(f\"Model saved to {filepath}\")\n",
    "\n",
    "def load_model(model_class, filepath='sol_1.pt', *args, **kwargs):\n",
    "    \"\"\"Load a PyTorch model from a file\"\"\"\n",
    "    model = model_class(*args, **kwargs)  # instantiate the model\n",
    "    model.load_state_dict(torch.load(filepath))\n",
    "    model.eval()  # optional: sets dropout/batchnorm to eval mode\n",
    "    print(f\"Model loaded from {filepath}\")\n",
    "    return model\n"
   ],
   "metadata": {
    "collapsed": false,
    "ExecuteTime": {
     "end_time": "2025-05-13T00:21:29.768203Z",
     "start_time": "2025-05-13T00:21:29.666339Z"
    }
   },
   "id": "faecdbd673ea422b",
   "execution_count": 156
  },
  {
   "cell_type": "code",
   "outputs": [],
   "source": [
    "from torch.optim.lr_scheduler import ReduceLROnPlateau\n",
    "from torch import optim\n",
    "from joblib import Parallel, delayed\n",
    "from functools import partial\n",
    "import tqdm\n",
    "import torch\n",
    "\n",
    "class model1():\n",
    "    def __init__(self):\n",
    "        self.model = MLPClassifier()\n",
    "        self.train_acc = []\n",
    "        self.val_acc = []\n",
    "        return\n",
    "\n",
    "    def predict(self, path, outpath=None, n_jobs=4):\n",
    "        import ast  # safer than eval if JSON is formatted weirdly\n",
    "        device = torch.device(\"cpu\")\n",
    "        model = self.model\n",
    "        model.to(device)\n",
    "        model.eval()\n",
    "    \n",
    "        print(\"Loading test data...\")\n",
    "        with open(path, 'r') as f:\n",
    "            data = ast.literal_eval(f.read())\n",
    "        \n",
    "        keys = list(data.keys())\n",
    "        print(f\"Total test samples: {len(keys)}\")\n",
    "    \n",
    "        # Parallelize feature processing\n",
    "        print(f\"Extracting features in parallel using {n_jobs} workers...\")\n",
    "        process_func = partial(process_pair_predict, features_func=features)\n",
    "        \n",
    "        results = Parallel(n_jobs=n_jobs)(\n",
    "            delayed(process_func)(key) for key in tqdm.tqdm(keys, desc=\"Processing test pairs\")\n",
    "        )\n",
    "        \n",
    "        # Filter out failed results\n",
    "        results = [r for r in results if r is not None]\n",
    "        if len(results) < len(keys):\n",
    "            print(f\"Warning: {len(keys) - len(results)} samples failed during feature extraction.\")\n",
    "        \n",
    "        # Convert to tensor\n",
    "        xTest = torch.tensor(results, dtype=torch.float32).to(device)\n",
    "    \n",
    "        # Make predictions\n",
    "        print(\"Running predictions...\")\n",
    "        with torch.no_grad():\n",
    "            outputs = model(xTest)\n",
    "            predicted = torch.argmax(outputs, dim=1).tolist()\n",
    "    \n",
    "        # Map predictions to keys\n",
    "        predictions = dict(zip(keys, predicted))\n",
    "    \n",
    "        # Optionally write output\n",
    "        if outpath:\n",
    "            with open(outpath, \"w\") as z:\n",
    "                z.write(str(predictions) + '\\n')\n",
    "            print(f\"Predictions written to {outpath}\")\n",
    "        \n",
    "        print(\"Prediction process completed.\")\n",
    "        return predictions\n",
    "\n",
    "\n",
    "\n",
    "    # Train your model. Note that this function will not be called from the autograder:\n",
    "    # instead you should upload your saved model using save()\n",
    "    import torch\n",
    "\n",
    "    def train(self, train_loader, val_loader, epochs=100):\n",
    "        torch.mps.empty_cache()\n",
    "\n",
    "        device = torch.device(\"mps\" if torch.backends.mps.is_available() else \"cpu\")\n",
    "\n",
    "        model = self.model\n",
    "        model.to(device)\n",
    "\n",
    "        criterion = nn.CrossEntropyLoss()  \n",
    "        optimizer = optim.Adam(model.parameters(), lr=0.001)\n",
    "        scheduler = ReduceLROnPlateau(optimizer, mode='max', factor=0.1, patience=3)\n",
    "        \n",
    "    \n",
    "        train_acc = []\n",
    "        val_acc = []\n",
    "    \n",
    "        best_val_acc = 0.0\n",
    "        patience_counter = 0\n",
    "        patience=10\n",
    "    \n",
    "        for epoch in range(epochs):\n",
    "            model.train()\n",
    "            correct_train = 0\n",
    "            total_train = 0\n",
    "            for batch_x, batch_y in train_loader:\n",
    "                batch_x = batch_x.to(device)\n",
    "                batch_y = batch_y.to(device)\n",
    "                optimizer.zero_grad()\n",
    "                outputs = model(batch_x)\n",
    "                loss = criterion(outputs, batch_y)\n",
    "                loss.backward()\n",
    "                optimizer.step()\n",
    "                _, predicted = torch.max(outputs.data, 1)\n",
    "                total_train += batch_y.size(0)\n",
    "                correct_train += (predicted == batch_y).sum().item()\n",
    "    \n",
    "            train_accuracy = correct_train / total_train\n",
    "            train_acc.append(train_accuracy)\n",
    "    \n",
    "            # Validation\n",
    "            model.eval()\n",
    "            correct_val = 0\n",
    "            total_val = 0\n",
    "            with torch.no_grad():\n",
    "                for batch_x, batch_y in val_loader:\n",
    "                    batch_x = batch_x.to(device)\n",
    "                    batch_y = batch_y.to(device)\n",
    "                    outputs = model(batch_x)\n",
    "                    _, predicted = torch.max(outputs.data, 1)\n",
    "                    total_val += batch_y.size(0)\n",
    "                    correct_val += (predicted == batch_y).sum().item()\n",
    "    \n",
    "            val_accuracy = correct_val / total_val\n",
    "            val_acc.append(val_accuracy)\n",
    "            \n",
    "            print(f'Epoch [{epoch+1}/{epochs}], Train Accuracy: {train_accuracy:.4f}, Validation Accuracy: {val_accuracy:.4f}')\n",
    "    \n",
    "            # Step the LR scheduler\n",
    "            scheduler.step(val_accuracy)\n",
    "    \n",
    "            # Early Stopping\n",
    "            if val_accuracy > best_val_acc:\n",
    "                best_val_acc = val_accuracy\n",
    "                patience_counter = 0\n",
    "                best_model_state = model.state_dict()  # Save best model\n",
    "                save_model(model, 'sol1_MLP_2.pt')\n",
    "            else:\n",
    "                patience_counter += 1\n",
    "                if patience_counter >= patience:\n",
    "                    print(\"Early stopping triggered.\")\n",
    "                    break\n",
    "    \n",
    "        # Load best model state\n",
    "        model.load_state_dict(best_model_state)\n",
    "    \n",
    "        self.train_acc = train_acc\n",
    "        self.val_acc = val_acc\n",
    "        self.model = model\n",
    "                \n",
    "    def get_train_acc(self):\n",
    "        return self.train_acc, self.val_acc\n",
    "    \n",
    "    def _get_model_copy(self, model):\n",
    "        \"\"\"Create a deep copy of the model.\"\"\"\n",
    "        model_copy = type(model)(*model.__init_args__, **model.__init_kwargs__)\n",
    "        model_copy.load_state_dict(model.state_dict())\n",
    "        return model_copy"
   ],
   "metadata": {
    "collapsed": false,
    "ExecuteTime": {
     "end_time": "2025-05-13T02:21:19.380307Z",
     "start_time": "2025-05-13T02:21:19.368196Z"
    }
   },
   "id": "1e0479a1e4d64ec4",
   "execution_count": 190
  },
  {
   "cell_type": "code",
   "outputs": [
    {
     "name": "stdout",
     "output_type": "stream",
     "text": [
      "Epoch [1/100], Train Accuracy: 0.6958, Validation Accuracy: 0.7390\n",
      "Model saved to sol1_MLP_2.pt\n",
      "Epoch [2/100], Train Accuracy: 0.8021, Validation Accuracy: 0.6763\n",
      "Epoch [3/100], Train Accuracy: 0.9010, Validation Accuracy: 0.7767\n",
      "Model saved to sol1_MLP_2.pt\n",
      "Epoch [4/100], Train Accuracy: 0.9196, Validation Accuracy: 0.8389\n",
      "Model saved to sol1_MLP_2.pt\n",
      "Epoch [5/100], Train Accuracy: 0.9258, Validation Accuracy: 0.9085\n",
      "Model saved to sol1_MLP_2.pt\n",
      "Epoch [6/100], Train Accuracy: 0.9261, Validation Accuracy: 0.8509\n",
      "Epoch [7/100], Train Accuracy: 0.9273, Validation Accuracy: 0.9210\n",
      "Model saved to sol1_MLP_2.pt\n",
      "Epoch [8/100], Train Accuracy: 0.9266, Validation Accuracy: 0.9278\n",
      "Model saved to sol1_MLP_2.pt\n",
      "Epoch [9/100], Train Accuracy: 0.9303, Validation Accuracy: 0.9247\n",
      "Epoch [10/100], Train Accuracy: 0.9299, Validation Accuracy: 0.9226\n",
      "Epoch [11/100], Train Accuracy: 0.9306, Validation Accuracy: 0.9268\n",
      "Epoch [12/100], Train Accuracy: 0.9295, Validation Accuracy: 0.9252\n",
      "Epoch [13/100], Train Accuracy: 0.9330, Validation Accuracy: 0.9268\n",
      "Epoch [14/100], Train Accuracy: 0.9377, Validation Accuracy: 0.9289\n",
      "Model saved to sol1_MLP_2.pt\n",
      "Epoch [15/100], Train Accuracy: 0.9380, Validation Accuracy: 0.9289\n",
      "Epoch [16/100], Train Accuracy: 0.9353, Validation Accuracy: 0.9273\n",
      "Epoch [17/100], Train Accuracy: 0.9371, Validation Accuracy: 0.9283\n",
      "Epoch [18/100], Train Accuracy: 0.9342, Validation Accuracy: 0.9289\n",
      "Epoch [19/100], Train Accuracy: 0.9376, Validation Accuracy: 0.9289\n",
      "Epoch [20/100], Train Accuracy: 0.9362, Validation Accuracy: 0.9278\n",
      "Epoch [21/100], Train Accuracy: 0.9358, Validation Accuracy: 0.9289\n",
      "Epoch [22/100], Train Accuracy: 0.9380, Validation Accuracy: 0.9283\n",
      "Epoch [23/100], Train Accuracy: 0.9396, Validation Accuracy: 0.9299\n",
      "Model saved to sol1_MLP_2.pt\n",
      "Epoch [24/100], Train Accuracy: 0.9360, Validation Accuracy: 0.9283\n",
      "Epoch [25/100], Train Accuracy: 0.9367, Validation Accuracy: 0.9310\n",
      "Model saved to sol1_MLP_2.pt\n",
      "Epoch [26/100], Train Accuracy: 0.9377, Validation Accuracy: 0.9289\n",
      "Epoch [27/100], Train Accuracy: 0.9385, Validation Accuracy: 0.9289\n",
      "Epoch [28/100], Train Accuracy: 0.9374, Validation Accuracy: 0.9273\n",
      "Epoch [29/100], Train Accuracy: 0.9353, Validation Accuracy: 0.9273\n",
      "Epoch [30/100], Train Accuracy: 0.9357, Validation Accuracy: 0.9304\n",
      "Epoch [31/100], Train Accuracy: 0.9383, Validation Accuracy: 0.9289\n",
      "Epoch [32/100], Train Accuracy: 0.9366, Validation Accuracy: 0.9283\n",
      "Epoch [33/100], Train Accuracy: 0.9376, Validation Accuracy: 0.9294\n",
      "Epoch [34/100], Train Accuracy: 0.9362, Validation Accuracy: 0.9283\n",
      "Epoch [35/100], Train Accuracy: 0.9387, Validation Accuracy: 0.9273\n",
      "Early stopping triggered.\n"
     ]
    }
   ],
   "source": [
    "EPOCHS = 100\n",
    "model = model1()\n",
    "model.train(train_loader, val_loader, EPOCHS)"
   ],
   "metadata": {
    "collapsed": false,
    "ExecuteTime": {
     "end_time": "2025-05-13T02:21:53.024270Z",
     "start_time": "2025-05-13T02:21:24.346986Z"
    }
   },
   "id": "62032119941914e3",
   "execution_count": 191
  },
  {
   "cell_type": "code",
   "outputs": [
    {
     "data": {
      "text/plain": "<Figure size 640x480 with 1 Axes>",
      "image/png": "[encoded data removed]"
     },
     "metadata": {},
     "output_type": "display_data"
    }
   ],
   "source": [
    "import matplotlib.pyplot as plt\n",
    "\n",
    "train_acc, val_acc = model.get_train_acc()\n",
    "\n",
    "\n",
    "\n",
    "x = range(1, len(train_acc) + 1)\n",
    "\n",
    "# Plot training accuracy\n",
    "plt.plot(x, train_acc, label='Training Accuracy', color='blue', linestyle='-', marker='o')\n",
    "\n",
    "# Plot validation accuracy\n",
    "plt.plot(x, val_acc, label='Validation Accuracy', color='red', linestyle='--', marker='x')\n",
    "\n",
    "# Adding labels and title\n",
    "plt.xlabel('Epochs')\n",
    "plt.ylabel('Accuracy')\n",
    "plt.title('Training and Validation Accuracy per Epoch')\n",
    "\n",
    "# Add a legend\n",
    "plt.legend()\n",
    "\n",
    "# Show the plot\n",
    "plt.grid(True)\n",
    "plt.show()"
   ],
   "metadata": {
    "collapsed": false,
    "ExecuteTime": {
     "end_time": "2025-05-13T02:21:53.615855Z",
     "start_time": "2025-05-13T02:21:53.504599Z"
    }
   },
   "id": "49b62fdffa592c03",
   "execution_count": 192
  },
  {
   "cell_type": "code",
   "outputs": [],
   "source": [
    "# do predictions on the test data "
   ],
   "metadata": {
    "collapsed": false,
    "ExecuteTime": {
     "end_time": "2025-05-13T02:21:57.104372Z",
     "start_time": "2025-05-13T02:21:57.089449Z"
    }
   },
   "id": "2070bdd5dbc59425",
   "execution_count": 193
  },
  {
   "cell_type": "code",
   "outputs": [],
   "source": [
    "def run2():\n",
    "    train_preds = model.predict(dataroot2 + \"/train.json\")\n",
    "    test_preds = model.predict(dataroot2 + \"/test.json\", \"predictions2.json\")\n",
    "    \n",
    "    train_labels = eval(open(dataroot2 + \"/train.json\").read())\n",
    "    acc2 = accuracy2(train_labels, train_preds)\n",
    "    print(\"Task 2 training accuracy = \" + str(acc2))"
   ],
   "metadata": {
    "collapsed": false,
    "ExecuteTime": {
     "end_time": "2025-05-13T02:21:58.525127Z",
     "start_time": "2025-05-13T02:21:58.505773Z"
    }
   },
   "id": "a383ff20d96fc49e",
   "execution_count": 194
  },
  {
   "cell_type": "code",
   "outputs": [
    {
     "name": "stdout",
     "output_type": "stream",
     "text": [
      "Loading test data...\n",
      "Total test samples: 9558\n",
      "Extracting features in parallel using 4 workers...\n"
     ]
    },
    {
     "name": "stderr",
     "output_type": "stream",
     "text": [
      "Processing test pairs:  24%|██▍       | 2280/9558 [02:11<09:53, 12.26it/s]"
     ]
    }
   ],
   "source": [
    "run2()"
   ],
   "metadata": {
    "collapsed": false,
    "is_executing": true,
    "ExecuteTime": {
     "start_time": "2025-05-13T02:21:59.622644Z"
    }
   },
   "id": "9dd0c781814d1198",
   "execution_count": null
  },
  {
   "cell_type": "code",
   "outputs": [],
   "source": [],
   "metadata": {
    "collapsed": false
   },
   "id": "f8488e81b0c94f85"
  }
 ],
 "metadata": {
  "kernelspec": {
   "display_name": "Python 3",
   "language": "python",
   "name": "python3"
  },
  "language_info": {
   "codemirror_mode": {
    "name": "ipython",
    "version": 2
   },
   "file_extension": ".py",
   "mimetype": "text/x-python",
   "name": "python",
   "nbconvert_exporter": "python",
   "pygments_lexer": "ipython2",
   "version": "2.7.6"
  }
 },
 "nbformat": 4,
 "nbformat_minor": 5
}
