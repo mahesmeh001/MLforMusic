{
 "cells": [
  {
   "cell_type": "markdown",
   "source": [
    "TASK 1\n",
    "About .7 perc acc w/ MLP based model "
   ],
   "metadata": {
    "collapsed": false
   },
   "id": "365d89d443f65455"
  },
  {
   "cell_type": "code",
   "execution_count": 2,
   "id": "initial_id",
   "metadata": {
    "collapsed": true,
    "ExecuteTime": {
     "end_time": "2025-05-08T01:19:04.538801Z",
     "start_time": "2025-05-08T01:19:04.419528Z"
    }
   },
   "outputs": [],
   "source": [
    "# Probably more imports than are really necessary...\n",
    "import os\n",
    "import torch\n",
    "import torchaudio\n",
    "from torch.utils.data import Dataset, DataLoader, random_split\n",
    "import torch.nn as nn\n",
    "import torch.nn.functional as F\n",
    "from torchaudio.transforms import MelSpectrogram, AmplitudeToDB\n",
    "from tqdm import tqdm\n",
    "import librosa\n",
    "import numpy as np\n",
    "import miditoolkit\n",
    "from sklearn.linear_model import LogisticRegression\n",
    "from sklearn.metrics import f1_score, average_precision_score, accuracy_score\n",
    "import random"
   ]
  },
  {
   "cell_type": "code",
   "outputs": [],
   "source": [
    "def accuracy1(groundtruth, predictions):\n",
    "    correct = 0\n",
    "    for k in groundtruth:\n",
    "        if not (k in predictions):\n",
    "            print(\"Missing \" + str(k) + \" from predictions\")\n",
    "            return 0\n",
    "        if predictions[k] == groundtruth[k]:\n",
    "            correct += 1\n",
    "    return correct / len(groundtruth)"
   ],
   "metadata": {
    "collapsed": false,
    "ExecuteTime": {
     "end_time": "2025-05-07T20:33:36.317465Z",
     "start_time": "2025-05-07T20:33:36.315445Z"
    }
   },
   "id": "4a81a8214c46e4e8",
   "execution_count": 2
  },
  {
   "cell_type": "code",
   "outputs": [],
   "source": [
    "dataroot1 = \"data/student_files/task1_composer_classification/\""
   ],
   "metadata": {
    "collapsed": false,
    "ExecuteTime": {
     "end_time": "2025-05-08T01:19:08.015562Z",
     "start_time": "2025-05-08T01:19:08.000390Z"
    }
   },
   "id": "57f7725253a006ad",
   "execution_count": 3
  },
  {
   "cell_type": "code",
   "outputs": [],
   "source": [
    "class model1():\n",
    "    def __init__(self):\n",
    "        pass\n",
    "\n",
    "    def features(self, path):\n",
    "        midi_obj = miditoolkit.midi.parser.MidiFile(dataroot1 + '/' + path)\n",
    "        notes = midi_obj.instruments[0].notes\n",
    "        num_notes = len(notes)\n",
    "        average_pitch = sum([note.pitch for note in notes]) / num_notes\n",
    "        average_duration = sum([note.end - note.start for note in notes]) / num_notes\n",
    "        features = [average_pitch, average_duration]\n",
    "        return features\n",
    "    \n",
    "    def predict(self, path, outpath=None):\n",
    "        d = eval(open(path, 'r').read())\n",
    "        predictions = {}\n",
    "        for k in d:\n",
    "            x = self.features(k)\n",
    "            pred = self.model.predict([x])\n",
    "            predictions[k] = str(pred[0])\n",
    "        if outpath:\n",
    "            with open(outpath, \"w\") as z:\n",
    "                z.write(str(predictions) + '\\n')\n",
    "        return predictions\n",
    "\n",
    "    # Train your model. Note that this function will not be called from the autograder:\n",
    "    # instead you should upload your saved model using save()\n",
    "    def train(self, path):\n",
    "        with open(path, 'r') as f:\n",
    "            train_json = eval(f.read())\n",
    "        X_train = [self.features(k) for k in train_json]\n",
    "        y_train = [train_json[k] for k in train_json]\n",
    "        \n",
    "        model = LogisticRegression(max_iter=1000)\n",
    "        model.fit(X_train, y_train)\n",
    "        self.model = model"
   ],
   "metadata": {
    "collapsed": false,
    "ExecuteTime": {
     "end_time": "2025-05-06T23:34:50.753837Z",
     "start_time": "2025-05-06T23:34:50.749138Z"
    }
   },
   "id": "75259b79043412a",
   "execution_count": 6
  },
  {
   "cell_type": "code",
   "outputs": [],
   "source": [
    "def run1():\n",
    "    model = model1()\n",
    "    model.train(dataroot1 + \"/train.json\")\n",
    "    train_preds = model.predict(dataroot1 + \"/train.json\")\n",
    "    test_preds = model.predict(dataroot1 + \"/test.json\", \"predictions1.json\")\n",
    "    \n",
    "    train_labels = eval(open(dataroot1 + \"/train.json\").read())\n",
    "    acc1 = accuracy1(train_labels, train_preds)\n",
    "    print(\"Task 1 training accuracy = \" + str(acc1))"
   ],
   "metadata": {
    "collapsed": false,
    "ExecuteTime": {
     "end_time": "2025-05-06T23:34:52.201686Z",
     "start_time": "2025-05-06T23:34:52.200331Z"
    }
   },
   "id": "37995c2bbe95759b",
   "execution_count": 7
  },
  {
   "cell_type": "markdown",
   "source": [
    "Custom Model "
   ],
   "metadata": {
    "collapsed": false
   },
   "id": "f83ae1a2b10f10d8"
  },
  {
   "cell_type": "code",
   "outputs": [],
   "source": [
    "import ast\n",
    "\n",
    "def create_artist_mapping(json_path):\n",
    "    with open(json_path, 'r') as f:\n",
    "        midi_to_artist = ast.literal_eval(f.read())\n",
    "        \n",
    "\n",
    "    unique_artists = sorted(set(midi_to_artist.values()))\n",
    "    id_to_artist = {i: artist for i, artist in enumerate(unique_artists)}\n",
    "\n",
    "    \n",
    "    return id_to_artist\n",
    "idToArtist = create_artist_mapping(\"data/student_files/task1_composer_classification/train.json\")"
   ],
   "metadata": {
    "collapsed": false,
    "ExecuteTime": {
     "end_time": "2025-05-08T01:19:11.616777Z",
     "start_time": "2025-05-08T01:19:11.601665Z"
    }
   },
   "id": "1eb051a850ec9ec0",
   "execution_count": 4
  },
  {
   "cell_type": "code",
   "outputs": [
    {
     "name": "stdout",
     "output_type": "stream",
     "text": [
      "8\n",
      "{0: 'Bach', 1: 'Beethoven', 2: 'Chopin', 3: 'Haydn', 4: 'Liszt', 5: 'Mozart', 6: 'Schubert', 7: 'Schumann'}\n",
      "{'Bach': 0, 'Beethoven': 1, 'Chopin': 2, 'Haydn': 3, 'Liszt': 4, 'Mozart': 5, 'Schubert': 6, 'Schumann': 7}\n"
     ]
    }
   ],
   "source": [
    "print(len(idToArtist))\n",
    "print(idToArtist)\n",
    "\n",
    "artistToId={}\n",
    "for key,value in idToArtist.items():\n",
    "    artistToId[value] = key\n",
    "print(artistToId)"
   ],
   "metadata": {
    "collapsed": false,
    "ExecuteTime": {
     "end_time": "2025-05-08T01:19:12.116236Z",
     "start_time": "2025-05-08T01:19:12.111777Z"
    }
   },
   "id": "8021ccd014c5168b",
   "execution_count": 5
  },
  {
   "cell_type": "code",
   "outputs": [],
   "source": [
    "def save_model(model, filepath='sol_1.pt'):\n",
    "    \"\"\"Save a PyTorch model to a file\"\"\"\n",
    "    torch.save(model.state_dict(), filepath)\n",
    "    print(f\"Model saved to {filepath}\")\n",
    "\n",
    "def load_model(model_class, filepath='sol_1.pt', *args, **kwargs):\n",
    "    \"\"\"Load a PyTorch model from a file\"\"\"\n",
    "    model = model_class(*args, **kwargs)  # instantiate the model\n",
    "    model.load_state_dict(torch.load(filepath))\n",
    "    model.eval()  # optional: sets dropout/batchnorm to eval mode\n",
    "    print(f\"Model loaded from {filepath}\")\n",
    "    return model\n"
   ],
   "metadata": {
    "collapsed": false,
    "ExecuteTime": {
     "end_time": "2025-05-08T01:19:12.985557Z",
     "start_time": "2025-05-08T01:19:12.983134Z"
    }
   },
   "id": "f51285f1e304fee5",
   "execution_count": 6
  },
  {
   "cell_type": "code",
   "outputs": [
    {
     "name": "stderr",
     "output_type": "stream",
     "text": [
      "python(37517) MallocStackLogging: can't turn off malloc stack logging because it was not enabled.\n",
      "python(37518) MallocStackLogging: can't turn off malloc stack logging because it was not enabled.\n",
      "python(37520) MallocStackLogging: can't turn off malloc stack logging because it was not enabled.\n",
      "python(37521) MallocStackLogging: can't turn off malloc stack logging because it was not enabled.\n",
      "/Users/mehul/Documents/UCSD Classes/ML for Music/MLforMusic/.venv/lib/python3.9/site-packages/joblib/externals/loky/process_executor.py:752: UserWarning: A worker stopped while some jobs were given to the executor. This can be caused by a too short worker timeout or by a memory leak.\n",
      "  warnings.warn(\n",
      "python(37552) MallocStackLogging: can't turn off malloc stack logging because it was not enabled.\n",
      "python(37560) MallocStackLogging: can't turn off malloc stack logging because it was not enabled.\n"
     ]
    },
    {
     "name": "stdout",
     "output_type": "stream",
     "text": [
      "tensor([-300.4792,  216.7483,   20.6168,  ...,  101.0000,   55.0000,\n",
      "          70.3854])\n",
      "tensor(2)\n"
     ]
    },
    {
     "name": "stderr",
     "output_type": "stream",
     "text": [
      "/var/folders/wv/j6ybhf8906j4bmnp171wtn680000gn/T/ipykernel_34041/331546199.py:148: UserWarning: To copy construct from a tensor, it is recommended to use sourceTensor.detach().clone() or sourceTensor.detach().clone().requires_grad_(True), rather than torch.tensor(sourceTensor).\n",
      "  X = torch.stack([torch.tensor(x, dtype=torch.float32) for x in X])\n"
     ]
    }
   ],
   "source": [
    "from mido import MidiFile\n",
    "from sklearn.model_selection import train_test_split\n",
    "from itertools import islice\n",
    "import fluidsynth\n",
    "\n",
    "SAMPLE_RATE = 25000\n",
    "\n",
    "# create train loader \n",
    "\n",
    "\n",
    "def get_lowest_pitch(file_path):\n",
    "    # Initialize lowest_note to a high value (since MIDI notes are from 0 to 127)\n",
    "    lowest_note = 128  \n",
    "    mid = MidiFile(file_path)\n",
    "    \n",
    "    for track in mid.tracks:\n",
    "        for msg in track:\n",
    "            if msg.type == 'note_on' and msg.velocity > 0:\n",
    "                if msg.note < lowest_note:\n",
    "                    lowest_note = msg.note\n",
    "    \n",
    "    # Return None if no note is found\n",
    "    return lowest_note if lowest_note != 128 else None\n",
    "\n",
    "def get_highest_pitch(file_path):\n",
    "    # Initialize highest_note to a low value (since MIDI notes are from 0 to 127)\n",
    "    highest_note = -1  \n",
    "    mid = MidiFile(file_path)\n",
    "    \n",
    "    for track in mid.tracks:\n",
    "        for msg in track:\n",
    "            if msg.type == 'note_on' and msg.velocity > 0:\n",
    "                if msg.note > highest_note:\n",
    "                    highest_note = msg.note\n",
    "                    \n",
    "    # Return None if no note is found\n",
    "    return highest_note if highest_note != -1 else None\n",
    "\n",
    "def get_unique_pitch_num(file_path):\n",
    "    mid = MidiFile(file_path)\n",
    "    notes = set()\n",
    "    \n",
    "    for track in mid.tracks:\n",
    "        for msg in track:\n",
    "            if msg.type == 'note_on' and msg.velocity > 0:\n",
    "                notes.add(msg.note)\n",
    "    \n",
    "    return len(notes)\n",
    "\n",
    "def get_average_pitch_value(file_path):\n",
    "    #Q8: Your code goes here\n",
    "    mid = MidiFile(file_path)\n",
    "    \n",
    "    notes = []\n",
    "    for track in mid.tracks:\n",
    "        for msg in track:\n",
    "            if msg.type == 'note_on' and msg.velocity > 0:\n",
    "                notes.append(msg.note)\n",
    "    \n",
    "    if notes:\n",
    "        return sum(notes) / len(notes)\n",
    "    else:\n",
    "        return None\n",
    "\n",
    "def extract_waveform(path):\n",
    "    # Your code here\n",
    "    wave, sr = librosa.load(path, sr=SAMPLE_RATE)\n",
    "    return wave \n",
    "\n",
    "def extract_q(w):\n",
    "    # Your code here\n",
    "    result = librosa.cqt(y=w, sr=SAMPLE_RATE)\n",
    "    result = librosa.amplitude_to_db(np.abs(result))\n",
    "    \n",
    "    return torch.FloatTensor(result)\n",
    "\n",
    "def extract_mfcc(w):\n",
    "    # Your code here:\n",
    "    # load using librosa.feature.mfcc\n",
    "    mfcc = librosa.feature.mfcc(y=w, sr=SAMPLE_RATE, n_mfcc = 13)\n",
    "    # extract mean and \n",
    "    means = np.mean(mfcc, axis=1)\n",
    "    \n",
    "    stds = np.std(mfcc, axis=1)\n",
    "    # concatenate\n",
    "    features = np.concatenate([means, stds])\n",
    "    \n",
    "    return torch.FloatTensor(features)\n",
    "\n",
    "def extract_spec(w):\n",
    "    # Your code here\n",
    "    # load\n",
    "    stft = librosa.stft(y=w)\n",
    "    # take squared absolute values\n",
    "    spec = np.abs(stft) ** 2\n",
    "    \n",
    "    return torch.FloatTensor(spec)\n",
    "\n",
    "\n",
    "import torch\n",
    "import pretty_midi\n",
    "from sklearn.model_selection import train_test_split\n",
    "\n",
    "def features(path):\n",
    "    full_path = dataroot1 + '/' + path\n",
    "    try:\n",
    "        midi_obj = pretty_midi.PrettyMIDI(full_path)\n",
    "        w = midi_obj.fluidsynth()\n",
    "\n",
    "        mfcc = extract_mfcc(w)\n",
    "        spec = extract_spec(w).mean(dim=1)\n",
    "        q = extract_q(w).mean(dim=1)\n",
    "\n",
    "        extra = torch.tensor([\n",
    "            get_lowest_pitch(full_path) or 0,\n",
    "            get_highest_pitch(full_path) or 0,\n",
    "            get_unique_pitch_num(full_path),\n",
    "            get_average_pitch_value(full_path) or 0\n",
    "        ], dtype=torch.float64)\n",
    "\n",
    "        return torch.cat([mfcc, spec, q, extra])\n",
    "    except Exception as e:\n",
    "        print(f\"Failed to process {full_path}: {e}\")\n",
    "        return None\n",
    "\n",
    "\n",
    "from joblib import Parallel, delayed\n",
    "\n",
    "def create_train_features(size=None, val_split=0.2, n_jobs=4):\n",
    "    # Load data\n",
    "    with open(dataroot1 + \"/train.json\", 'r') as f:\n",
    "        train_json = eval(f.read())\n",
    "    \n",
    "    # Limit size if specified\n",
    "    if size is not None:\n",
    "        train_json = dict(list(train_json.items())[:size])\n",
    "    \n",
    "    # Parallel feature extraction\n",
    "    keys = list(train_json.keys())\n",
    "    values = list(train_json.values())\n",
    "\n",
    "    X = Parallel(n_jobs=n_jobs)(\n",
    "        delayed(features)(key) for key in keys\n",
    "    )\n",
    "    Y = [artistToId[value] for value in values]\n",
    "    \n",
    "    # Convert lists to tensors\n",
    "    X = torch.stack([torch.tensor(x, dtype=torch.float32) for x in X])\n",
    "    Y = torch.tensor(Y, dtype=torch.int64)\n",
    "    \n",
    "    # Return all data if no validation split needed\n",
    "    if val_split <= 0:\n",
    "        return X, Y\n",
    "    \n",
    "    # Split into training and validation sets\n",
    "    X_train, X_val, Y_train, Y_val = train_test_split(\n",
    "        X, Y, test_size=val_split, random_state=42, shuffle=True\n",
    "    )\n",
    "    \n",
    "    return X_train, Y_train, X_val, Y_val\n",
    "\n",
    "\n",
    "    \n",
    "X_train, y_train, X_val, y_val = create_train_features()\n",
    "\n",
    "print(X_train[0])\n",
    "print(y_train[0])\n"
   ],
   "metadata": {
    "collapsed": false,
    "ExecuteTime": {
     "end_time": "2025-05-08T01:42:28.487118Z",
     "start_time": "2025-05-08T01:40:26.454261Z"
    }
   },
   "id": "90c4c5c466e04515",
   "execution_count": 10
  },
  {
   "cell_type": "code",
   "outputs": [
    {
     "name": "stdout",
     "output_type": "stream",
     "text": [
      "1139\n"
     ]
    }
   ],
   "source": [
    "print(len(X_train[0]))\n",
    "feature_size = (len(X_train[0]))\n"
   ],
   "metadata": {
    "collapsed": false,
    "ExecuteTime": {
     "end_time": "2025-05-08T01:44:07.091567Z",
     "start_time": "2025-05-08T01:44:07.082872Z"
    }
   },
   "id": "d34bd676d4b4bef3",
   "execution_count": 11
  },
  {
   "cell_type": "code",
   "outputs": [],
   "source": [
    "from torch.utils.data import TensorDataset, DataLoader\n",
    "\n",
    "train_dataset = TensorDataset(X_train, y_train)\n",
    "train_loader = DataLoader(train_dataset, batch_size=32, shuffle=True)\n",
    "\n",
    "val_dataset = TensorDataset(X_val, y_val)\n",
    "val_loader = DataLoader(val_dataset, batch_size=32, shuffle=True)"
   ],
   "metadata": {
    "collapsed": false,
    "ExecuteTime": {
     "end_time": "2025-05-08T01:44:09.695981Z",
     "start_time": "2025-05-08T01:44:09.690808Z"
    }
   },
   "id": "27edf1843d4b8595",
   "execution_count": 12
  },
  {
   "cell_type": "code",
   "outputs": [],
   "source": [
    "class MLPClassifier(nn.Module):\n",
    "    def __init__(self, input_dim=feature_size, num_classes=8):\n",
    "        super().__init__()\n",
    "        self.__init_args__ = (input_dim,)\n",
    "        self.__init_kwargs__ = {'num_classes': num_classes}\n",
    "        self.input_dim = input_dim\n",
    "        \n",
    "        # Feature processing network\n",
    "        self.feature_net = nn.Sequential(\n",
    "            nn.Linear(self.input_dim, 128),\n",
    "            nn.BatchNorm1d(128),\n",
    "            nn.LeakyReLU(0.2),\n",
    "            nn.Dropout(0.5),\n",
    "            \n",
    "            # nn.Linear(128, 128),\n",
    "            # nn.BatchNorm1d(128),\n",
    "            # nn.LeakyReLU(0.2),\n",
    "            # nn.Dropout(0.4)\n",
    "        )\n",
    "        \n",
    "        # Attention mechanism for feature weighting\n",
    "        self.attention = nn.Sequential(\n",
    "            nn.Linear(128, 256),\n",
    "            nn.Tanh(),\n",
    "            nn.Linear(256, 1)\n",
    "        )\n",
    "        \n",
    "        # Classification head\n",
    "        self.classifier = nn.Sequential(\n",
    "            # nn.Linear(512, 256),\n",
    "            # nn.BatchNorm1d(256),\n",
    "            # nn.LeakyReLU(0.2),\n",
    "            # nn.Dropout(0.3),\n",
    "            \n",
    "            nn.Linear(128, 128),\n",
    "            nn.BatchNorm1d(128),\n",
    "            nn.LeakyReLU(0.2),\n",
    "            nn.Dropout(0.4),\n",
    "            nn.Linear(128, num_classes)\n",
    "        )\n",
    "\n",
    "    def forward(self, x):\n",
    "        # Process features\n",
    "        features = self.feature_net(x)\n",
    "        \n",
    "        # Apply attention (optional branch)\n",
    "        attention_weights = torch.sigmoid(self.attention(features))\n",
    "        weighted_features = features * attention_weights\n",
    "        \n",
    "        # Final classification\n",
    "        logits = self.classifier(weighted_features)\n",
    "        return logits\n",
    "        \n",
    "    def extract_features(self, x):\n",
    "        \"\"\"Return intermediate feature representation\"\"\"\n",
    "        return self.feature_net(x)"
   ],
   "metadata": {
    "collapsed": false,
    "ExecuteTime": {
     "end_time": "2025-05-08T02:02:05.938225Z",
     "start_time": "2025-05-08T02:02:05.924654Z"
    }
   },
   "id": "53207266d5e6acff",
   "execution_count": 53
  },
  {
   "cell_type": "code",
   "outputs": [],
   "source": [
    "from torch.optim.lr_scheduler import ReduceLROnPlateau\n",
    "from torch import optim\n",
    "\n",
    "\n",
    "class model2():\n",
    "    def __init__(self):\n",
    "        self.model = MLPClassifier()\n",
    "        self.train_acc = []\n",
    "        self.val_acc = []\n",
    "        return\n",
    "    \n",
    "    def predict(self, path, outpath=None):\n",
    "        d = eval(open(path, 'r').read())\n",
    "        predictions = {}\n",
    "        for k in d:\n",
    "            x = (torch.tensor(features(k), dtype=torch.float32))\n",
    "            pred = self.model.predict([x])\n",
    "            predictions[k] = str(idToArtist[pred[0]])\n",
    "        if outpath:\n",
    "            with open(outpath, \"w\") as z:\n",
    "                z.write(str(predictions) + '\\n')\n",
    "        return predictions\n",
    "\n",
    "    # Train your model. Note that this function will not be called from the autograder:\n",
    "    # instead you should upload your saved model using save()\n",
    "    import torch\n",
    "\n",
    "    def train(self, train_loader, val_loader, epochs=5):\n",
    "        torch.mps.empty_cache()\n",
    "\n",
    "        device = torch.device(\"mps\" if torch.backends.mps.is_available() else \"cpu\")\n",
    "\n",
    "        model = self.model\n",
    "        model.to(device)\n",
    "\n",
    "        criterion = nn.CrossEntropyLoss()  \n",
    "        optimizer = optim.Adam(model.parameters(), lr=0.001)\n",
    "        scheduler = ReduceLROnPlateau(optimizer, mode='max', factor=0.9, patience=3)\n",
    "        \n",
    "    \n",
    "        train_acc = []\n",
    "        val_acc = []\n",
    "    \n",
    "        best_val_acc = 0.0\n",
    "        patience_counter = 0\n",
    "        patience=20\n",
    "    \n",
    "        for epoch in range(epochs):\n",
    "            model.train()\n",
    "            correct_train = 0\n",
    "            total_train = 0\n",
    "            for batch_x, batch_y in train_loader:\n",
    "                batch_x = batch_x.to(device)\n",
    "                batch_y = batch_y.to(device)\n",
    "                optimizer.zero_grad()\n",
    "                outputs = model(batch_x)\n",
    "                loss = criterion(outputs, batch_y)\n",
    "                loss.backward()\n",
    "                optimizer.step()\n",
    "                _, predicted = torch.max(outputs.data, 1)\n",
    "                total_train += batch_y.size(0)\n",
    "                correct_train += (predicted == batch_y).sum().item()\n",
    "    \n",
    "            train_accuracy = correct_train / total_train\n",
    "            train_acc.append(train_accuracy)\n",
    "    \n",
    "            # Validation\n",
    "            model.eval()\n",
    "            correct_val = 0\n",
    "            total_val = 0\n",
    "            with torch.no_grad():\n",
    "                for batch_x, batch_y in val_loader:\n",
    "                    batch_x = batch_x.to(device)\n",
    "                    batch_y = batch_y.to(device)\n",
    "                    outputs = model(batch_x)\n",
    "                    _, predicted = torch.max(outputs.data, 1)\n",
    "                    total_val += batch_y.size(0)\n",
    "                    correct_val += (predicted == batch_y).sum().item()\n",
    "    \n",
    "            val_accuracy = correct_val / total_val\n",
    "            val_acc.append(val_accuracy)\n",
    "            \n",
    "            print(f'Epoch [{epoch+1}/{epochs}], Train Accuracy: {train_accuracy:.4f}, Validation Accuracy: {val_accuracy:.4f}')\n",
    "    \n",
    "            # Step the LR scheduler\n",
    "            scheduler.step(val_accuracy)\n",
    "    \n",
    "            # Early Stopping\n",
    "            if val_accuracy > best_val_acc:\n",
    "                best_val_acc = val_accuracy\n",
    "                patience_counter = 0\n",
    "                best_model_state = model.state_dict()  # Save best model\n",
    "                save_model(model, 'sol1_MLP_2.pt')\n",
    "            else:\n",
    "                patience_counter += 1\n",
    "                if patience_counter >= patience:\n",
    "                    print(\"Early stopping triggered.\")\n",
    "                    break\n",
    "    \n",
    "        # Load best model state\n",
    "        model.load_state_dict(best_model_state)\n",
    "    \n",
    "        self.train_acc = train_acc\n",
    "        self.val_acc = val_acc\n",
    "        self.model = model\n",
    "                \n",
    "    def get_train_acc(self):\n",
    "        return self.train_acc, self.val_acc\n",
    "    \n",
    "    def _get_model_copy(self, model):\n",
    "        \"\"\"Create a deep copy of the model.\"\"\"\n",
    "        model_copy = type(model)(*model.__init_args__, **model.__init_kwargs__)\n",
    "        model_copy.load_state_dict(model.state_dict())\n",
    "        return model_copy"
   ],
   "metadata": {
    "collapsed": false,
    "ExecuteTime": {
     "end_time": "2025-05-08T02:03:28.414773Z",
     "start_time": "2025-05-08T02:03:28.402997Z"
    }
   },
   "id": "e5df887fd03f94ad",
   "execution_count": 61
  },
  {
   "cell_type": "code",
   "outputs": [
    {
     "name": "stdout",
     "output_type": "stream",
     "text": [
      "Epoch [1/100], Train Accuracy: 0.3936, Validation Accuracy: 0.4876\n",
      "Model saved to sol1_MLP_2.pt\n",
      "Epoch [2/100], Train Accuracy: 0.5103, Validation Accuracy: 0.5331\n",
      "Model saved to sol1_MLP_2.pt\n",
      "Epoch [3/100], Train Accuracy: 0.5217, Validation Accuracy: 0.5620\n",
      "Model saved to sol1_MLP_2.pt\n",
      "Epoch [4/100], Train Accuracy: 0.5393, Validation Accuracy: 0.5702\n",
      "Model saved to sol1_MLP_2.pt\n",
      "Epoch [5/100], Train Accuracy: 0.5579, Validation Accuracy: 0.5785\n",
      "Model saved to sol1_MLP_2.pt\n",
      "Epoch [6/100], Train Accuracy: 0.5723, Validation Accuracy: 0.5744\n",
      "Epoch [7/100], Train Accuracy: 0.5950, Validation Accuracy: 0.5620\n",
      "Epoch [8/100], Train Accuracy: 0.5857, Validation Accuracy: 0.5661\n",
      "Epoch [9/100], Train Accuracy: 0.5950, Validation Accuracy: 0.5909\n",
      "Model saved to sol1_MLP_2.pt\n",
      "Epoch [10/100], Train Accuracy: 0.6105, Validation Accuracy: 0.5868\n",
      "Epoch [11/100], Train Accuracy: 0.5981, Validation Accuracy: 0.6033\n",
      "Model saved to sol1_MLP_2.pt\n",
      "Epoch [12/100], Train Accuracy: 0.6012, Validation Accuracy: 0.6157\n",
      "Model saved to sol1_MLP_2.pt\n",
      "Epoch [13/100], Train Accuracy: 0.6250, Validation Accuracy: 0.5992\n",
      "Epoch [14/100], Train Accuracy: 0.6209, Validation Accuracy: 0.6116\n",
      "Epoch [15/100], Train Accuracy: 0.6209, Validation Accuracy: 0.6116\n",
      "Epoch [16/100], Train Accuracy: 0.6157, Validation Accuracy: 0.6157\n",
      "Epoch [17/100], Train Accuracy: 0.6467, Validation Accuracy: 0.6240\n",
      "Model saved to sol1_MLP_2.pt\n",
      "Epoch [18/100], Train Accuracy: 0.6271, Validation Accuracy: 0.5992\n",
      "Epoch [19/100], Train Accuracy: 0.6364, Validation Accuracy: 0.6116\n",
      "Epoch [20/100], Train Accuracy: 0.6229, Validation Accuracy: 0.6074\n",
      "Epoch [21/100], Train Accuracy: 0.6426, Validation Accuracy: 0.6405\n",
      "Model saved to sol1_MLP_2.pt\n",
      "Epoch [22/100], Train Accuracy: 0.6519, Validation Accuracy: 0.6116\n",
      "Epoch [23/100], Train Accuracy: 0.6488, Validation Accuracy: 0.6446\n",
      "Model saved to sol1_MLP_2.pt\n",
      "Epoch [24/100], Train Accuracy: 0.6395, Validation Accuracy: 0.6116\n",
      "Epoch [25/100], Train Accuracy: 0.6601, Validation Accuracy: 0.6488\n",
      "Model saved to sol1_MLP_2.pt\n",
      "Epoch [26/100], Train Accuracy: 0.6581, Validation Accuracy: 0.6364\n",
      "Epoch [27/100], Train Accuracy: 0.6756, Validation Accuracy: 0.6198\n",
      "Epoch [28/100], Train Accuracy: 0.6529, Validation Accuracy: 0.5950\n",
      "Epoch [29/100], Train Accuracy: 0.6767, Validation Accuracy: 0.6570\n",
      "Model saved to sol1_MLP_2.pt\n",
      "Epoch [30/100], Train Accuracy: 0.6560, Validation Accuracy: 0.6033\n",
      "Epoch [31/100], Train Accuracy: 0.6694, Validation Accuracy: 0.6240\n",
      "Epoch [32/100], Train Accuracy: 0.6591, Validation Accuracy: 0.6612\n",
      "Model saved to sol1_MLP_2.pt\n",
      "Epoch [33/100], Train Accuracy: 0.6694, Validation Accuracy: 0.6198\n",
      "Epoch [34/100], Train Accuracy: 0.6870, Validation Accuracy: 0.6446\n",
      "Epoch [35/100], Train Accuracy: 0.6870, Validation Accuracy: 0.6777\n",
      "Model saved to sol1_MLP_2.pt\n",
      "Epoch [36/100], Train Accuracy: 0.6829, Validation Accuracy: 0.6570\n",
      "Epoch [37/100], Train Accuracy: 0.6756, Validation Accuracy: 0.6157\n",
      "Epoch [38/100], Train Accuracy: 0.6653, Validation Accuracy: 0.6405\n",
      "Epoch [39/100], Train Accuracy: 0.6901, Validation Accuracy: 0.6281\n",
      "Epoch [40/100], Train Accuracy: 0.7025, Validation Accuracy: 0.6818\n",
      "Model saved to sol1_MLP_2.pt\n",
      "Epoch [41/100], Train Accuracy: 0.6818, Validation Accuracy: 0.6364\n",
      "Epoch [42/100], Train Accuracy: 0.7190, Validation Accuracy: 0.6653\n",
      "Epoch [43/100], Train Accuracy: 0.7025, Validation Accuracy: 0.6364\n",
      "Epoch [44/100], Train Accuracy: 0.7149, Validation Accuracy: 0.6653\n",
      "Epoch [45/100], Train Accuracy: 0.7066, Validation Accuracy: 0.6570\n",
      "Epoch [46/100], Train Accuracy: 0.7200, Validation Accuracy: 0.6818\n",
      "Epoch [47/100], Train Accuracy: 0.7056, Validation Accuracy: 0.6653\n",
      "Epoch [48/100], Train Accuracy: 0.7118, Validation Accuracy: 0.6405\n",
      "Epoch [49/100], Train Accuracy: 0.7221, Validation Accuracy: 0.6612\n",
      "Epoch [50/100], Train Accuracy: 0.7149, Validation Accuracy: 0.6322\n",
      "Epoch [51/100], Train Accuracy: 0.7149, Validation Accuracy: 0.6405\n",
      "Epoch [52/100], Train Accuracy: 0.7169, Validation Accuracy: 0.6488\n",
      "Epoch [53/100], Train Accuracy: 0.7149, Validation Accuracy: 0.6653\n",
      "Epoch [54/100], Train Accuracy: 0.7056, Validation Accuracy: 0.6529\n",
      "Epoch [55/100], Train Accuracy: 0.7273, Validation Accuracy: 0.6405\n",
      "Epoch [56/100], Train Accuracy: 0.7324, Validation Accuracy: 0.6777\n",
      "Epoch [57/100], Train Accuracy: 0.7211, Validation Accuracy: 0.6488\n",
      "Epoch [58/100], Train Accuracy: 0.7479, Validation Accuracy: 0.6736\n",
      "Epoch [59/100], Train Accuracy: 0.7417, Validation Accuracy: 0.6612\n",
      "Epoch [60/100], Train Accuracy: 0.7169, Validation Accuracy: 0.6901\n",
      "Model saved to sol1_MLP_2.pt\n",
      "Epoch [61/100], Train Accuracy: 0.7335, Validation Accuracy: 0.6612\n",
      "Epoch [62/100], Train Accuracy: 0.7417, Validation Accuracy: 0.6818\n",
      "Epoch [63/100], Train Accuracy: 0.7428, Validation Accuracy: 0.6736\n",
      "Epoch [64/100], Train Accuracy: 0.7686, Validation Accuracy: 0.6653\n",
      "Epoch [65/100], Train Accuracy: 0.7335, Validation Accuracy: 0.6777\n",
      "Epoch [66/100], Train Accuracy: 0.7490, Validation Accuracy: 0.6818\n",
      "Epoch [67/100], Train Accuracy: 0.7583, Validation Accuracy: 0.6612\n",
      "Epoch [68/100], Train Accuracy: 0.7531, Validation Accuracy: 0.6653\n",
      "Epoch [69/100], Train Accuracy: 0.7717, Validation Accuracy: 0.6612\n",
      "Epoch [70/100], Train Accuracy: 0.7490, Validation Accuracy: 0.6736\n",
      "Epoch [71/100], Train Accuracy: 0.7603, Validation Accuracy: 0.6736\n",
      "Epoch [72/100], Train Accuracy: 0.7521, Validation Accuracy: 0.6529\n",
      "Epoch [73/100], Train Accuracy: 0.7624, Validation Accuracy: 0.6529\n",
      "Epoch [74/100], Train Accuracy: 0.7614, Validation Accuracy: 0.6860\n",
      "Epoch [75/100], Train Accuracy: 0.7572, Validation Accuracy: 0.6942\n",
      "Model saved to sol1_MLP_2.pt\n",
      "Epoch [76/100], Train Accuracy: 0.7500, Validation Accuracy: 0.6653\n",
      "Epoch [77/100], Train Accuracy: 0.7562, Validation Accuracy: 0.6653\n",
      "Epoch [78/100], Train Accuracy: 0.7738, Validation Accuracy: 0.6818\n",
      "Epoch [79/100], Train Accuracy: 0.7469, Validation Accuracy: 0.6818\n",
      "Epoch [80/100], Train Accuracy: 0.7562, Validation Accuracy: 0.6653\n",
      "Epoch [81/100], Train Accuracy: 0.7531, Validation Accuracy: 0.6364\n",
      "Epoch [82/100], Train Accuracy: 0.7490, Validation Accuracy: 0.6570\n",
      "Epoch [83/100], Train Accuracy: 0.7645, Validation Accuracy: 0.6612\n",
      "Epoch [84/100], Train Accuracy: 0.7686, Validation Accuracy: 0.6570\n",
      "Epoch [85/100], Train Accuracy: 0.7696, Validation Accuracy: 0.6901\n",
      "Epoch [86/100], Train Accuracy: 0.7572, Validation Accuracy: 0.6818\n",
      "Epoch [87/100], Train Accuracy: 0.7800, Validation Accuracy: 0.6901\n",
      "Epoch [88/100], Train Accuracy: 0.7541, Validation Accuracy: 0.6612\n",
      "Epoch [89/100], Train Accuracy: 0.7758, Validation Accuracy: 0.6860\n",
      "Epoch [90/100], Train Accuracy: 0.7738, Validation Accuracy: 0.6942\n",
      "Epoch [91/100], Train Accuracy: 0.7686, Validation Accuracy: 0.6818\n",
      "Epoch [92/100], Train Accuracy: 0.7748, Validation Accuracy: 0.6777\n",
      "Epoch [93/100], Train Accuracy: 0.7903, Validation Accuracy: 0.6612\n",
      "Epoch [94/100], Train Accuracy: 0.8027, Validation Accuracy: 0.6983\n",
      "Model saved to sol1_MLP_2.pt\n",
      "Epoch [95/100], Train Accuracy: 0.7851, Validation Accuracy: 0.6818\n",
      "Epoch [96/100], Train Accuracy: 0.7862, Validation Accuracy: 0.6777\n",
      "Epoch [97/100], Train Accuracy: 0.7831, Validation Accuracy: 0.7025\n",
      "Model saved to sol1_MLP_2.pt\n",
      "Epoch [98/100], Train Accuracy: 0.7779, Validation Accuracy: 0.6653\n",
      "Epoch [99/100], Train Accuracy: 0.7738, Validation Accuracy: 0.6736\n",
      "Epoch [100/100], Train Accuracy: 0.7779, Validation Accuracy: 0.6570\n"
     ]
    }
   ],
   "source": [
    "\n",
    "EPOCHS = 100\n",
    "model = model2()\n",
    "model.train(train_loader, val_loader, EPOCHS)\n",
    "\n",
    "\n",
    "# train_preds = model.predict(dataroot1 + \"/train.json\")\n",
    "# test_preds = model.predict(dataroot1 + \"/test.json\", \"predictions1.json\")\n",
    "# \n",
    "# train_labels = eval(open(dataroot1 + \"/train.json\").read())\n",
    "# acc1 = accuracy1(train_labels, train_preds)\n",
    "# print(\"Task 1 training accuracy = \" + str(acc1))"
   ],
   "metadata": {
    "collapsed": false,
    "ExecuteTime": {
     "end_time": "2025-05-08T02:03:44.988818Z",
     "start_time": "2025-05-08T02:03:29.025305Z"
    }
   },
   "id": "c179b4e57e8ca203",
   "execution_count": 62
  },
  {
   "cell_type": "code",
   "outputs": [
    {
     "data": {
      "text/plain": "<Figure size 640x480 with 1 Axes>",
      "image/png": "[encoded data removed]"
     },
     "metadata": {},
     "output_type": "display_data"
    }
   ],
   "source": [
    "import matplotlib.pyplot as plt\n",
    "\n",
    "train_acc, val_acc = model.get_train_acc()\n",
    "\n",
    "\n",
    "\n",
    "x = range(1, len(train_acc) + 1)\n",
    "\n",
    "# Plot training accuracy\n",
    "plt.plot(x, train_acc, label='Training Accuracy', color='blue', linestyle='-', marker='o')\n",
    "\n",
    "# Plot validation accuracy\n",
    "plt.plot(x, val_acc, label='Validation Accuracy', color='red', linestyle='--', marker='x')\n",
    "\n",
    "# Adding labels and title\n",
    "plt.xlabel('Epochs')\n",
    "plt.ylabel('Accuracy')\n",
    "plt.title('Training and Validation Accuracy per Epoch')\n",
    "\n",
    "# Add a legend\n",
    "plt.legend()\n",
    "\n",
    "# Show the plot\n",
    "plt.grid(True)\n",
    "plt.show()"
   ],
   "metadata": {
    "collapsed": false,
    "ExecuteTime": {
     "end_time": "2025-05-08T02:03:45.053605Z",
     "start_time": "2025-05-08T02:03:45.003461Z"
    }
   },
   "id": "3f5934c6ae1de768",
   "execution_count": 63
  },
  {
   "cell_type": "code",
   "outputs": [],
   "source": [
    "import pickle\n",
    "with open('fullTrainData.pkl', 'wb') as f:\n",
    "    data = {'train_loader': train_loader, 'val_loader':val_loader, 'train_dataset': train_dataset, 'val_dataset':val_dataset}\n",
    "    pickle.dump(data, f)"
   ],
   "metadata": {
    "collapsed": false,
    "ExecuteTime": {
     "end_time": "2025-05-07T21:23:46.424405Z",
     "start_time": "2025-05-07T21:23:46.415515Z"
    }
   },
   "id": "6c6a974b5c41f249",
   "execution_count": 65
  },
  {
   "cell_type": "code",
   "outputs": [],
   "source": [],
   "metadata": {
    "collapsed": false
   },
   "id": "61a40bac39e9e8e7"
  }
 ],
 "metadata": {
  "kernelspec": {
   "display_name": "Python 3",
   "language": "python",
   "name": "python3"
  },
  "language_info": {
   "codemirror_mode": {
    "name": "ipython",
    "version": 2
   },
   "file_extension": ".py",
   "mimetype": "text/x-python",
   "name": "python",
   "nbconvert_exporter": "python",
   "pygments_lexer": "ipython2",
   "version": "2.7.6"
  }
 },
 "nbformat": 4,
 "nbformat_minor": 5
}
