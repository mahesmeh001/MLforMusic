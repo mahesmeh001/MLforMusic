{
 "cells": [
  {
   "cell_type": "markdown",
   "source": [
    "TASK 1\n",
    "About .7 perc acc w/ MLP based model "
   ],
   "metadata": {
    "collapsed": false
   },
   "id": "365d89d443f65455"
  },
  {
   "cell_type": "code",
   "execution_count": 1,
   "id": "initial_id",
   "metadata": {
    "collapsed": true,
    "ExecuteTime": {
     "end_time": "2025-05-20T19:34:45.735352Z",
     "start_time": "2025-05-20T19:34:44.521648Z"
    }
   },
   "outputs": [],
   "source": [
    "# Probably more imports than are really necessary...\n",
    "import os\n",
    "import torch\n",
    "import torchaudio\n",
    "from torch.utils.data import Dataset, DataLoader, random_split\n",
    "import torch.nn as nn\n",
    "import torch.nn.functional as F\n",
    "from torchaudio.transforms import MelSpectrogram, AmplitudeToDB\n",
    "from tqdm import tqdm\n",
    "import librosa\n",
    "import numpy as np\n",
    "import miditoolkit\n",
    "from sklearn.linear_model import LogisticRegression\n",
    "from sklearn.metrics import f1_score, average_precision_score, accuracy_score\n",
    "import random"
   ]
  },
  {
   "cell_type": "code",
   "outputs": [],
   "source": [
    "def accuracy1(groundtruth, predictions):\n",
    "    correct = 0\n",
    "    for k in groundtruth:\n",
    "        if not (k in predictions):\n",
    "            print(\"Missing \" + str(k) + \" from predictions\")\n",
    "            return 0\n",
    "        if predictions[k] == groundtruth[k]:\n",
    "            correct += 1\n",
    "    return correct / len(groundtruth)"
   ],
   "metadata": {
    "collapsed": false,
    "ExecuteTime": {
     "end_time": "2025-05-20T19:34:45.742536Z",
     "start_time": "2025-05-20T19:34:45.736886Z"
    }
   },
   "id": "4a81a8214c46e4e8",
   "execution_count": 2
  },
  {
   "cell_type": "code",
   "outputs": [],
   "source": [
    "dataroot1 = \"data/student_files/task1_composer_classification/\""
   ],
   "metadata": {
    "collapsed": false,
    "ExecuteTime": {
     "end_time": "2025-05-20T19:34:45.743180Z",
     "start_time": "2025-05-20T19:34:45.738839Z"
    }
   },
   "id": "57f7725253a006ad",
   "execution_count": 3
  },
  {
   "cell_type": "code",
   "outputs": [],
   "source": [
    "class model1():\n",
    "    def __init__(self):\n",
    "        pass\n",
    "\n",
    "    def features(self, path):\n",
    "        midi_obj = miditoolkit.midi.parser.MidiFile(dataroot1 + '/' + path)\n",
    "        notes = midi_obj.instruments[0].notes\n",
    "        num_notes = len(notes)\n",
    "        average_pitch = sum([note.pitch for note in notes]) / num_notes\n",
    "        average_duration = sum([note.end - note.start for note in notes]) / num_notes\n",
    "        features = [average_pitch, average_duration]\n",
    "        return features\n",
    "    \n",
    "    def predict(self, path, outpath=None):\n",
    "        d = eval(open(path, 'r').read())\n",
    "        predictions = {}\n",
    "        for k in d:\n",
    "            x = self.features(k)\n",
    "            pred = self.model.predict([x])\n",
    "            predictions[k] = str(pred[0])\n",
    "        if outpath:\n",
    "            with open(outpath, \"w\") as z:\n",
    "                z.write(str(predictions) + '\\n')\n",
    "        return predictions\n",
    "\n",
    "    # Train your model. Note that this function will not be called from the autograder:\n",
    "    # instead you should upload your saved model using save()\n",
    "    def train(self, path):\n",
    "        with open(path, 'r') as f:\n",
    "            train_json = eval(f.read())\n",
    "        X_train = [self.features(k) for k in train_json]\n",
    "        y_train = [train_json[k] for k in train_json]\n",
    "        \n",
    "        model = LogisticRegression(max_iter=1000)\n",
    "        model.fit(X_train, y_train)\n",
    "        self.model = model"
   ],
   "metadata": {
    "collapsed": false,
    "ExecuteTime": {
     "end_time": "2025-05-20T19:34:45.745921Z",
     "start_time": "2025-05-20T19:34:45.744138Z"
    }
   },
   "id": "75259b79043412a",
   "execution_count": 4
  },
  {
   "cell_type": "code",
   "outputs": [],
   "source": [
    "def run1():\n",
    "    model = model1()\n",
    "    model.train(dataroot1 + \"/train.json\")\n",
    "    train_preds = model.predict(dataroot1 + \"/train.json\")\n",
    "    test_preds = model.predict(dataroot1 + \"/test.json\", \"predictions1.json\")\n",
    "    \n",
    "    train_labels = eval(open(dataroot1 + \"/train.json\").read())\n",
    "    acc1 = accuracy1(train_labels, train_preds)\n",
    "    print(\"Task 1 training accuracy = \" + str(acc1))"
   ],
   "metadata": {
    "collapsed": false,
    "ExecuteTime": {
     "end_time": "2025-05-20T19:34:45.753745Z",
     "start_time": "2025-05-20T19:34:45.746784Z"
    }
   },
   "id": "37995c2bbe95759b",
   "execution_count": 5
  },
  {
   "cell_type": "markdown",
   "source": [
    "Custom Model "
   ],
   "metadata": {
    "collapsed": false
   },
   "id": "f83ae1a2b10f10d8"
  },
  {
   "cell_type": "code",
   "outputs": [],
   "source": [
    "import ast\n",
    "\n",
    "def create_artist_mapping(json_path):\n",
    "    with open(json_path, 'r') as f:\n",
    "        midi_to_artist = ast.literal_eval(f.read())\n",
    "        \n",
    "\n",
    "    unique_artists = sorted(set(midi_to_artist.values()))\n",
    "    id_to_artist = {i: artist for i, artist in enumerate(unique_artists)}\n",
    "\n",
    "    \n",
    "    return id_to_artist\n",
    "idToArtist = create_artist_mapping(\"data/student_files/task1_composer_classification/train.json\")"
   ],
   "metadata": {
    "collapsed": false,
    "ExecuteTime": {
     "end_time": "2025-05-20T19:34:45.763076Z",
     "start_time": "2025-05-20T19:34:45.749307Z"
    }
   },
   "id": "1eb051a850ec9ec0",
   "execution_count": 6
  },
  {
   "cell_type": "code",
   "outputs": [
    {
     "name": "stdout",
     "output_type": "stream",
     "text": [
      "8\n",
      "{0: 'Bach', 1: 'Beethoven', 2: 'Chopin', 3: 'Haydn', 4: 'Liszt', 5: 'Mozart', 6: 'Schubert', 7: 'Schumann'}\n",
      "{'Bach': 0, 'Beethoven': 1, 'Chopin': 2, 'Haydn': 3, 'Liszt': 4, 'Mozart': 5, 'Schubert': 6, 'Schumann': 7}\n"
     ]
    }
   ],
   "source": [
    "print(len(idToArtist))\n",
    "print(idToArtist)\n",
    "\n",
    "artistToId={}\n",
    "for key,value in idToArtist.items():\n",
    "    artistToId[value] = key\n",
    "print(artistToId)"
   ],
   "metadata": {
    "collapsed": false,
    "ExecuteTime": {
     "end_time": "2025-05-20T19:34:45.764033Z",
     "start_time": "2025-05-20T19:34:45.757357Z"
    }
   },
   "id": "8021ccd014c5168b",
   "execution_count": 7
  },
  {
   "cell_type": "code",
   "outputs": [],
   "source": [
    "def save_model(model, filepath='sol_1.pt'):\n",
    "    \"\"\"Save a PyTorch model to a file\"\"\"\n",
    "    torch.save(model.state_dict(), filepath)\n",
    "    print(f\"Model saved to {filepath}\")\n",
    "\n",
    "def load_model(model_class, filepath='sol_1.pt', *args, **kwargs):\n",
    "    \"\"\"Load a PyTorch model from a file\"\"\"\n",
    "    model = model_class(*args, **kwargs)  # instantiate the model\n",
    "    model.load_state_dict(torch.load(filepath))\n",
    "    model.eval()  # optional: sets dropout/batchnorm to eval mode\n",
    "    print(f\"Model loaded from {filepath}\")\n",
    "    return model\n"
   ],
   "metadata": {
    "collapsed": false,
    "ExecuteTime": {
     "end_time": "2025-05-20T19:34:45.811552Z",
     "start_time": "2025-05-20T19:34:45.763494Z"
    }
   },
   "id": "f51285f1e304fee5",
   "execution_count": 8
  },
  {
   "cell_type": "code",
   "outputs": [
    {
     "name": "stdout",
     "output_type": "stream",
     "text": [
      "tensor([-255.9119,  140.4222,  -41.8253,  ...,   89.0000,   39.0000,\n",
      "          62.8079])\n",
      "tensor(1)\n"
     ]
    },
    {
     "name": "stderr",
     "output_type": "stream",
     "text": [
      "/var/folders/wv/j6ybhf8906j4bmnp171wtn680000gn/T/ipykernel_9272/2094906300.py:167: UserWarning: To copy construct from a tensor, it is recommended to use sourceTensor.detach().clone() or sourceTensor.detach().clone().requires_grad_(True), rather than torch.tensor(sourceTensor).\n",
      "  X = torch.stack([torch.tensor(x, dtype=torch.float32) for x in X])\n"
     ]
    }
   ],
   "source": [
    "from mido import MidiFile\n",
    "from sklearn.model_selection import train_test_split\n",
    "from itertools import islice\n",
    "import fluidsynth\n",
    "\n",
    "SAMPLE_RATE = 16000\n",
    "\n",
    "# create train loader \n",
    "\n",
    "\n",
    "def get_lowest_pitch(file_path):\n",
    "    # Initialize lowest_note to a high value (since MIDI notes are from 0 to 127)\n",
    "    lowest_note = 128  \n",
    "    mid = MidiFile(file_path)\n",
    "    \n",
    "    for track in mid.tracks:\n",
    "        for msg in track:\n",
    "            if msg.type == 'note_on' and msg.velocity > 0:\n",
    "                if msg.note < lowest_note:\n",
    "                    lowest_note = msg.note\n",
    "    \n",
    "    # Return None if no note is found\n",
    "    return lowest_note if lowest_note != 128 else None\n",
    "\n",
    "def get_highest_pitch(file_path):\n",
    "    # Initialize highest_note to a low value (since MIDI notes are from 0 to 127)\n",
    "    highest_note = -1  \n",
    "    mid = MidiFile(file_path)\n",
    "    \n",
    "    for track in mid.tracks:\n",
    "        for msg in track:\n",
    "            if msg.type == 'note_on' and msg.velocity > 0:\n",
    "                if msg.note > highest_note:\n",
    "                    highest_note = msg.note\n",
    "                    \n",
    "    # Return None if no note is found\n",
    "    return highest_note if highest_note != -1 else None\n",
    "\n",
    "def get_unique_pitch_num(file_path):\n",
    "    mid = MidiFile(file_path)\n",
    "    notes = set()\n",
    "    \n",
    "    for track in mid.tracks:\n",
    "        for msg in track:\n",
    "            if msg.type == 'note_on' and msg.velocity > 0:\n",
    "                notes.add(msg.note)\n",
    "    \n",
    "    return len(notes)\n",
    "\n",
    "def get_average_pitch_value(file_path):\n",
    "    #Q8: Your code goes here\n",
    "    mid = MidiFile(file_path)\n",
    "    \n",
    "    notes = []\n",
    "    for track in mid.tracks:\n",
    "        for msg in track:\n",
    "            if msg.type == 'note_on' and msg.velocity > 0:\n",
    "                notes.append(msg.note)\n",
    "    \n",
    "    if notes:\n",
    "        return sum(notes) / len(notes)\n",
    "    else:\n",
    "        return None\n",
    "\n",
    "def extract_waveform(path):\n",
    "    # Your code here\n",
    "    wave, sr = librosa.load(path, sr=SAMPLE_RATE)\n",
    "    return wave \n",
    "\n",
    "def extract_q(w):\n",
    "    # Your code here\n",
    "    result = librosa.cqt(y=w, sr=SAMPLE_RATE)\n",
    "    result = librosa.amplitude_to_db(np.abs(result))\n",
    "    q =torch.FloatTensor(result)\n",
    "    \n",
    "    mean = q.mean(dim=1)  # shape: (84,)\n",
    "    std = q.std(dim=1)    # shape: (84,)\n",
    "    return torch.cat([mean, std], dim=0)  # shape: (168,)\n",
    "\n",
    "def extract_mfcc(w):\n",
    "    # Your code here:\n",
    "    # load using librosa.feature.mfcc\n",
    "    mfcc = librosa.feature.mfcc(y=w, sr=SAMPLE_RATE, n_mfcc = 64)\n",
    "    # extract mean and \n",
    "    means = np.mean(mfcc, axis=1)\n",
    "    \n",
    "    stds = np.std(mfcc, axis=1)\n",
    "    # concatenate\n",
    "    features = np.concatenate([means, stds])\n",
    "    \n",
    "    return torch.FloatTensor(features)\n",
    "\n",
    "def extract_spec(w):\n",
    "    # Your code here\n",
    "    # load\n",
    "    stft = librosa.stft(y=w)\n",
    "    # take squared absolute values\n",
    "    spec = np.abs(stft) ** 2\n",
    "    \n",
    "    spec = torch.FloatTensor(spec)\n",
    "    \n",
    "    mean = spec.mean(dim=1)  # shape (128,)\n",
    "    std = spec.std(dim=1)    # shape (128,)\n",
    "    return torch.cat([mean, std], dim=0)  # shape (256,)\n",
    "\n",
    "\n",
    "import torch\n",
    "import pretty_midi\n",
    "from sklearn.model_selection import train_test_split\n",
    "\n",
    "def features(path):\n",
    "    full_path = dataroot1 + '/' + path\n",
    "    try:\n",
    "        midi_obj = pretty_midi.PrettyMIDI(full_path)\n",
    "        w = midi_obj.fluidsynth(fs=SAMPLE_RATE)\n",
    "\n",
    "        if w is None or len(w) < SAMPLE_RATE // 10:  # e.g. less than 0.1s\n",
    "            raise ValueError(\"Waveform too short or empty\")\n",
    "\n",
    "        mfcc = extract_mfcc(w)\n",
    "        spec = extract_spec(w)\n",
    "        q = extract_q(w)\n",
    "\n",
    "        extra = torch.tensor([\n",
    "            get_lowest_pitch(full_path) or 0,\n",
    "            get_highest_pitch(full_path) or 0,\n",
    "            get_unique_pitch_num(full_path),\n",
    "            get_average_pitch_value(full_path) or 0\n",
    "        ], dtype=torch.float64)\n",
    "        \n",
    "        features = torch.cat(\n",
    "            [\n",
    "                mfcc, \n",
    "                spec, \n",
    "                q, \n",
    "                extra\n",
    "            ]) \n",
    "\n",
    "        return features\n",
    "    except Exception as e:\n",
    "        print(f\"Failed to process {full_path}: {e}\")\n",
    "        return None\n",
    "\n",
    "\n",
    "\n",
    "from joblib import Parallel, delayed\n",
    "\n",
    "def create_train_features(size=None, val_split=0.1, n_jobs=4):\n",
    "    # Load data\n",
    "    with open(dataroot1 + \"/train.json\", 'r') as f:\n",
    "        train_json = eval(f.read())\n",
    "    \n",
    "    # Limit size if specified\n",
    "    if size is not None:\n",
    "        train_json = dict(list(train_json.items())[:size])\n",
    "    \n",
    "    # Parallel feature extraction\n",
    "    keys = list(train_json.keys())\n",
    "    values = list(train_json.values())\n",
    "\n",
    "    X = Parallel(n_jobs=n_jobs)(\n",
    "        delayed(features)(key) for key in keys\n",
    "    )\n",
    "    Y = [artistToId[value] for value in values]\n",
    "    \n",
    "    # Convert lists to tensors\n",
    "    X = torch.stack([torch.tensor(x, dtype=torch.float32) for x in X])\n",
    "    Y = torch.tensor(Y, dtype=torch.int64)\n",
    "    \n",
    "    # Return all data if no validation split needed\n",
    "    if val_split <= 0:\n",
    "        return X, Y\n",
    "    \n",
    "    # Split into training and validation sets\n",
    "    X_train, X_val, Y_train, Y_val = train_test_split(\n",
    "        X, Y, test_size=val_split, random_state=42, shuffle=True\n",
    "    )\n",
    "    \n",
    "    return X_train, Y_train, X_val, Y_val\n",
    "\n",
    "\n",
    "    \n",
    "X_train, y_train, X_val, y_val = create_train_features()\n",
    "\n",
    "print(X_train[0])\n",
    "print(y_train[0])\n"
   ],
   "metadata": {
    "collapsed": false,
    "ExecuteTime": {
     "end_time": "2025-05-20T19:35:38.407880Z",
     "start_time": "2025-05-20T19:34:45.774401Z"
    }
   },
   "id": "90c4c5c466e04515",
   "execution_count": 9
  },
  {
   "cell_type": "code",
   "outputs": [],
   "source": [
    "# midi_obj = pretty_midi.PrettyMIDI(\"data/student_files/task1_composer_classification/midis/0.mid\")\n",
    "# w = midi_obj.fluidsynth()  # This converts MIDI to waveform\n",
    "# print(w.shape)\n",
    "# extract_q(w)"
   ],
   "metadata": {
    "collapsed": false,
    "ExecuteTime": {
     "end_time": "2025-05-20T19:35:38.411195Z",
     "start_time": "2025-05-20T19:35:38.405708Z"
    }
   },
   "id": "5dd6b0de3dcdd3be",
   "execution_count": 10
  },
  {
   "cell_type": "code",
   "outputs": [
    {
     "name": "stdout",
     "output_type": "stream",
     "text": [
      "Saved dataset splits to: task1_data.pkl\n"
     ]
    }
   ],
   "source": [
    "import pickle\n",
    "\n",
    "# Replace with your actual file path\n",
    "save_path = \"task1_data.pkl\"\n",
    "\n",
    "data = {\n",
    "    \"X_train\": X_train,\n",
    "    \"y_train\": y_train,\n",
    "    \"X_val\": X_val,\n",
    "    \"y_val\": y_val\n",
    "}\n",
    "\n",
    "with open(save_path, \"wb\") as f:\n",
    "    pickle.dump(data, f)\n",
    "\n",
    "print(f\"Saved dataset splits to: {save_path}\")\n"
   ],
   "metadata": {
    "collapsed": false,
    "ExecuteTime": {
     "end_time": "2025-05-20T19:35:38.414075Z",
     "start_time": "2025-05-20T19:35:38.407083Z"
    }
   },
   "id": "e33a0cb603977009",
   "execution_count": 11
  },
  {
   "cell_type": "code",
   "outputs": [
    {
     "name": "stdout",
     "output_type": "stream",
     "text": [
      "2350\n"
     ]
    }
   ],
   "source": [
    "print(len(X_train[0]))\n",
    "feature_size = (len(X_train[0]))\n"
   ],
   "metadata": {
    "collapsed": false,
    "ExecuteTime": {
     "end_time": "2025-05-20T19:35:38.415719Z",
     "start_time": "2025-05-20T19:35:38.413625Z"
    }
   },
   "id": "d34bd676d4b4bef3",
   "execution_count": 12
  },
  {
   "cell_type": "code",
   "outputs": [],
   "source": [
    "from torch.utils.data import TensorDataset, DataLoader\n",
    "\n",
    "train_dataset = TensorDataset(X_train, y_train)\n",
    "train_loader = DataLoader(train_dataset, batch_size=32, shuffle=True, drop_last=True)\n",
    "\n",
    "val_dataset = TensorDataset(X_val, y_val)\n",
    "val_loader = DataLoader(val_dataset, batch_size=32, shuffle=True, drop_last=True)"
   ],
   "metadata": {
    "collapsed": false,
    "ExecuteTime": {
     "end_time": "2025-05-20T19:37:44.848373Z",
     "start_time": "2025-05-20T19:37:44.836859Z"
    }
   },
   "id": "27edf1843d4b8595",
   "execution_count": 17
  },
  {
   "cell_type": "code",
   "outputs": [],
   "source": [
    "class MLPClassifier(nn.Module):\n",
    "    def __init__(self, input_dim=feature_size, num_classes=8):\n",
    "        super().__init__()\n",
    "        self.__init_args__ = (input_dim,)\n",
    "        self.__init_kwargs__ = {'num_classes': num_classes}\n",
    "        self.input_dim = input_dim\n",
    "        \n",
    "        # Feature processing network\n",
    "        self.feature_net = nn.Sequential(\n",
    "            nn.Linear(self.input_dim, 128),\n",
    "            nn.BatchNorm1d(128),\n",
    "            nn.LeakyReLU(0.2),\n",
    "            nn.Dropout(0.5),\n",
    "            \n",
    "            # nn.Linear(128, 128),\n",
    "            # nn.BatchNorm1d(128),\n",
    "            # nn.LeakyReLU(0.2),\n",
    "            # nn.Dropout(0.4)\n",
    "        )\n",
    "        \n",
    "        # Attention mechanism for feature weighting\n",
    "        self.attention = nn.Sequential(\n",
    "            nn.Linear(128, 256),\n",
    "            nn.Tanh(),\n",
    "            nn.Linear(256, 1)\n",
    "        )\n",
    "        \n",
    "        # Classification head\n",
    "        self.classifier = nn.Sequential(\n",
    "            # nn.Linear(512, 256),\n",
    "            # nn.BatchNorm1d(256),\n",
    "            # nn.LeakyReLU(0.2),\n",
    "            # nn.Dropout(0.3),\n",
    "            \n",
    "            nn.Linear(128, 128),\n",
    "            nn.BatchNorm1d(128),\n",
    "            nn.LeakyReLU(0.2),\n",
    "            nn.Dropout(0.4),\n",
    "            nn.Linear(128, num_classes)\n",
    "        )\n",
    "\n",
    "    def forward(self, x):\n",
    "        # Process features\n",
    "        features = self.feature_net(x)\n",
    "        \n",
    "        # Apply attention (optional branch)\n",
    "        attention_weights = torch.sigmoid(self.attention(features))\n",
    "        weighted_features = features * attention_weights\n",
    "        \n",
    "        # Final classification\n",
    "        logits = self.classifier(weighted_features)\n",
    "        return logits\n",
    "        \n",
    "    def extract_features(self, x):\n",
    "        \"\"\"Return intermediate feature representation\"\"\"\n",
    "        return self.feature_net(x)"
   ],
   "metadata": {
    "collapsed": false,
    "ExecuteTime": {
     "end_time": "2025-05-20T19:37:50.519260Z",
     "start_time": "2025-05-20T19:37:50.513861Z"
    }
   },
   "id": "53207266d5e6acff",
   "execution_count": 18
  },
  {
   "cell_type": "code",
   "outputs": [],
   "source": [
    "from torch.optim.lr_scheduler import ReduceLROnPlateau\n",
    "from torch import optim\n",
    "\n",
    "\n",
    "class model2():\n",
    "    def __init__(self):\n",
    "        self.model = MLPClassifier()\n",
    "        self.train_acc = []\n",
    "        self.val_acc = []\n",
    "        return\n",
    "    \n",
    "    def predict(self, path, outpath=None):\n",
    "        d = eval(open(path, 'r').read())\n",
    "        predictions = {}\n",
    "    \n",
    "        device = torch.device(\"mps\" if torch.backends.mps.is_available() else \"cpu\")\n",
    "        self.model.eval()\n",
    "        self.model.to(device)\n",
    "    \n",
    "        for k in d:\n",
    "            x = torch.tensor(features(k), dtype=torch.float32)\n",
    "            x = x.unsqueeze(0).to(device)  # (1, feature_dim) or (1, C, H, W) depending on model\n",
    "            with torch.no_grad():\n",
    "                output = self.model(x)\n",
    "                _, pred = torch.max(output, 1)\n",
    "                predictions[k] = str(idToArtist[pred.item()])  # get scalar int from tensor\n",
    "    \n",
    "        if outpath:\n",
    "            with open(outpath, \"w\") as z:\n",
    "                z.write(str(predictions) + '\\n')\n",
    "    \n",
    "        return predictions\n",
    "\n",
    "\n",
    "    # Train your model. Note that this function will not be called from the autograder:\n",
    "    # instead you should upload your saved model using save()\n",
    "    import torch\n",
    "\n",
    "    def train(self, train_loader, val_loader, epochs=5):\n",
    "        torch.mps.empty_cache()\n",
    "\n",
    "        device = torch.device(\"mps\" if torch.backends.mps.is_available() else \"cpu\")\n",
    "\n",
    "        model = self.model\n",
    "        model.to(device)\n",
    "\n",
    "        criterion = nn.CrossEntropyLoss()  \n",
    "        optimizer = optim.Adam(model.parameters(), lr=0.001)\n",
    "        scheduler = ReduceLROnPlateau(optimizer, mode='max', factor=0.9, patience=5)\n",
    "        \n",
    "    \n",
    "        train_acc = []\n",
    "        val_acc = []\n",
    "        \n",
    "        # Early stopping params\n",
    "        best_val_acc = 0.0\n",
    "        patience_counter = 0\n",
    "        patience= 10\n",
    "    \n",
    "        for epoch in range(epochs):\n",
    "            model.train()\n",
    "            correct_train = 0\n",
    "            total_train = 0\n",
    "            for batch_x, batch_y in train_loader:\n",
    "                batch_x = batch_x.to(device)\n",
    "                batch_y = batch_y.to(device)\n",
    "                optimizer.zero_grad()\n",
    "                outputs = model(batch_x)\n",
    "                loss = criterion(outputs, batch_y)\n",
    "                loss.backward()\n",
    "                optimizer.step()\n",
    "                _, predicted = torch.max(outputs.data, 1)\n",
    "                total_train += batch_y.size(0)\n",
    "                correct_train += (predicted == batch_y).sum().item()\n",
    "    \n",
    "            train_accuracy = correct_train / total_train\n",
    "            train_acc.append(train_accuracy)\n",
    "    \n",
    "            # Validation\n",
    "            model.eval()\n",
    "            correct_val = 0\n",
    "            total_val = 0\n",
    "            with torch.no_grad():\n",
    "                for batch_x, batch_y in val_loader:\n",
    "                    batch_x = batch_x.to(device)\n",
    "                    batch_y = batch_y.to(device)\n",
    "                    outputs = model(batch_x)\n",
    "                    _, predicted = torch.max(outputs.data, 1)\n",
    "                    total_val += batch_y.size(0)\n",
    "                    correct_val += (predicted == batch_y).sum().item()\n",
    "    \n",
    "            val_accuracy = correct_val / total_val\n",
    "            val_acc.append(val_accuracy)\n",
    "            \n",
    "            print(f'Epoch [{epoch+1}/{epochs}], Train Accuracy: {train_accuracy:.4f}, Validation Accuracy: {val_accuracy:.4f}')\n",
    "    \n",
    "            # Step the LR scheduler\n",
    "            scheduler.step(val_accuracy)\n",
    "    \n",
    "            # Early Stopping\n",
    "            if val_accuracy > best_val_acc:\n",
    "                best_val_acc = val_accuracy\n",
    "                patience_counter = 0\n",
    "                best_model_state = model.state_dict()  # Save best model\n",
    "                save_model(model, 'sol1_MLP_2.pt')\n",
    "            else:\n",
    "                patience_counter += 1\n",
    "                if patience_counter >= patience:\n",
    "                    print(\"Early stopping triggered.\")\n",
    "                    break\n",
    "    \n",
    "        # Load best model state\n",
    "        model.load_state_dict(best_model_state)\n",
    "    \n",
    "        self.train_acc = train_acc\n",
    "        self.val_acc = val_acc\n",
    "        self.model = model\n",
    "                \n",
    "    def get_train_acc(self):\n",
    "        return self.train_acc, self.val_acc\n",
    "    \n",
    "    def _get_model_copy(self, model):\n",
    "        \"\"\"Create a deep copy of the model.\"\"\"\n",
    "        model_copy = type(model)(*model.__init_args__, **model.__init_kwargs__)\n",
    "        model_copy.load_state_dict(model.state_dict())\n",
    "        return model_copy"
   ],
   "metadata": {
    "collapsed": false,
    "ExecuteTime": {
     "end_time": "2025-05-20T19:40:23.486328Z",
     "start_time": "2025-05-20T19:40:23.468935Z"
    }
   },
   "id": "e5df887fd03f94ad",
   "execution_count": 31
  },
  {
   "cell_type": "code",
   "outputs": [
    {
     "name": "stdout",
     "output_type": "stream",
     "text": [
      "Epoch [1/300], Train Accuracy: 0.4182, Validation Accuracy: 0.5104\n",
      "Model saved to sol1_MLP_2.pt\n",
      "Epoch [2/300], Train Accuracy: 0.5368, Validation Accuracy: 0.5833\n",
      "Model saved to sol1_MLP_2.pt\n",
      "Epoch [3/300], Train Accuracy: 0.5754, Validation Accuracy: 0.6042\n",
      "Model saved to sol1_MLP_2.pt\n",
      "Epoch [4/300], Train Accuracy: 0.5708, Validation Accuracy: 0.5312\n",
      "Epoch [5/300], Train Accuracy: 0.6029, Validation Accuracy: 0.6250\n",
      "Model saved to sol1_MLP_2.pt\n",
      "Epoch [6/300], Train Accuracy: 0.6186, Validation Accuracy: 0.5729\n",
      "Epoch [7/300], Train Accuracy: 0.6278, Validation Accuracy: 0.5729\n",
      "Epoch [8/300], Train Accuracy: 0.6305, Validation Accuracy: 0.6042\n",
      "Epoch [9/300], Train Accuracy: 0.6443, Validation Accuracy: 0.6146\n",
      "Epoch [10/300], Train Accuracy: 0.6167, Validation Accuracy: 0.5625\n",
      "Epoch [11/300], Train Accuracy: 0.6599, Validation Accuracy: 0.6042\n",
      "Epoch [12/300], Train Accuracy: 0.6452, Validation Accuracy: 0.5312\n",
      "Epoch [13/300], Train Accuracy: 0.6544, Validation Accuracy: 0.6979\n",
      "Model saved to sol1_MLP_2.pt\n",
      "Epoch [14/300], Train Accuracy: 0.6691, Validation Accuracy: 0.5208\n",
      "Epoch [15/300], Train Accuracy: 0.6857, Validation Accuracy: 0.5938\n",
      "Epoch [16/300], Train Accuracy: 0.6719, Validation Accuracy: 0.5729\n",
      "Epoch [17/300], Train Accuracy: 0.6728, Validation Accuracy: 0.6146\n",
      "Epoch [18/300], Train Accuracy: 0.7059, Validation Accuracy: 0.6146\n",
      "Epoch [19/300], Train Accuracy: 0.7151, Validation Accuracy: 0.6667\n",
      "Epoch [20/300], Train Accuracy: 0.7013, Validation Accuracy: 0.5625\n",
      "Epoch [21/300], Train Accuracy: 0.7142, Validation Accuracy: 0.6354\n",
      "Epoch [22/300], Train Accuracy: 0.7316, Validation Accuracy: 0.6250\n",
      "Epoch [23/300], Train Accuracy: 0.6939, Validation Accuracy: 0.6562\n",
      "Epoch [24/300], Train Accuracy: 0.7077, Validation Accuracy: 0.6979\n",
      "Epoch [25/300], Train Accuracy: 0.7160, Validation Accuracy: 0.6458\n",
      "Epoch [26/300], Train Accuracy: 0.7325, Validation Accuracy: 0.6458\n",
      "Epoch [27/300], Train Accuracy: 0.7509, Validation Accuracy: 0.6562\n",
      "Epoch [28/300], Train Accuracy: 0.7289, Validation Accuracy: 0.6667\n",
      "Epoch [29/300], Train Accuracy: 0.7399, Validation Accuracy: 0.5729\n",
      "Epoch [30/300], Train Accuracy: 0.7629, Validation Accuracy: 0.6771\n",
      "Epoch [31/300], Train Accuracy: 0.7555, Validation Accuracy: 0.5625\n",
      "Epoch [32/300], Train Accuracy: 0.7629, Validation Accuracy: 0.6562\n",
      "Epoch [33/300], Train Accuracy: 0.7665, Validation Accuracy: 0.6458\n",
      "Epoch [34/300], Train Accuracy: 0.7555, Validation Accuracy: 0.6354\n",
      "Epoch [35/300], Train Accuracy: 0.7629, Validation Accuracy: 0.6562\n",
      "Epoch [36/300], Train Accuracy: 0.7721, Validation Accuracy: 0.6771\n",
      "Epoch [37/300], Train Accuracy: 0.7914, Validation Accuracy: 0.6562\n",
      "Epoch [38/300], Train Accuracy: 0.7767, Validation Accuracy: 0.6458\n",
      "Epoch [39/300], Train Accuracy: 0.7895, Validation Accuracy: 0.6354\n",
      "Epoch [40/300], Train Accuracy: 0.7858, Validation Accuracy: 0.6458\n",
      "Epoch [41/300], Train Accuracy: 0.8061, Validation Accuracy: 0.7292\n",
      "Model saved to sol1_MLP_2.pt\n",
      "Epoch [42/300], Train Accuracy: 0.8107, Validation Accuracy: 0.6979\n",
      "Epoch [43/300], Train Accuracy: 0.7858, Validation Accuracy: 0.6667\n",
      "Epoch [44/300], Train Accuracy: 0.7941, Validation Accuracy: 0.6771\n",
      "Epoch [45/300], Train Accuracy: 0.7950, Validation Accuracy: 0.6562\n",
      "Epoch [46/300], Train Accuracy: 0.8051, Validation Accuracy: 0.6458\n",
      "Epoch [47/300], Train Accuracy: 0.7923, Validation Accuracy: 0.6875\n",
      "Epoch [48/300], Train Accuracy: 0.8116, Validation Accuracy: 0.6146\n",
      "Epoch [49/300], Train Accuracy: 0.8226, Validation Accuracy: 0.6979\n",
      "Epoch [50/300], Train Accuracy: 0.8061, Validation Accuracy: 0.6771\n",
      "Epoch [51/300], Train Accuracy: 0.8244, Validation Accuracy: 0.6667\n",
      "Epoch [52/300], Train Accuracy: 0.8217, Validation Accuracy: 0.6146\n",
      "Epoch [53/300], Train Accuracy: 0.8355, Validation Accuracy: 0.7292\n",
      "Epoch [54/300], Train Accuracy: 0.8208, Validation Accuracy: 0.6875\n",
      "Epoch [55/300], Train Accuracy: 0.8290, Validation Accuracy: 0.6250\n",
      "Epoch [56/300], Train Accuracy: 0.8318, Validation Accuracy: 0.7083\n",
      "Epoch [57/300], Train Accuracy: 0.8382, Validation Accuracy: 0.6458\n",
      "Epoch [58/300], Train Accuracy: 0.8456, Validation Accuracy: 0.6771\n",
      "Epoch [59/300], Train Accuracy: 0.8309, Validation Accuracy: 0.6458\n",
      "Epoch [60/300], Train Accuracy: 0.8300, Validation Accuracy: 0.6771\n",
      "Epoch [61/300], Train Accuracy: 0.8438, Validation Accuracy: 0.6875\n",
      "Epoch [62/300], Train Accuracy: 0.8346, Validation Accuracy: 0.6875\n",
      "Epoch [63/300], Train Accuracy: 0.8419, Validation Accuracy: 0.6771\n",
      "Epoch [64/300], Train Accuracy: 0.8447, Validation Accuracy: 0.6979\n",
      "Epoch [65/300], Train Accuracy: 0.8318, Validation Accuracy: 0.6875\n",
      "Epoch [66/300], Train Accuracy: 0.8373, Validation Accuracy: 0.6562\n",
      "Epoch [67/300], Train Accuracy: 0.8520, Validation Accuracy: 0.7083\n",
      "Epoch [68/300], Train Accuracy: 0.8483, Validation Accuracy: 0.7292\n",
      "Epoch [69/300], Train Accuracy: 0.8502, Validation Accuracy: 0.6562\n",
      "Epoch [70/300], Train Accuracy: 0.8465, Validation Accuracy: 0.6771\n",
      "Epoch [71/300], Train Accuracy: 0.8667, Validation Accuracy: 0.6979\n",
      "Epoch [72/300], Train Accuracy: 0.8667, Validation Accuracy: 0.6771\n",
      "Epoch [73/300], Train Accuracy: 0.8695, Validation Accuracy: 0.6667\n",
      "Epoch [74/300], Train Accuracy: 0.8686, Validation Accuracy: 0.6667\n",
      "Epoch [75/300], Train Accuracy: 0.8575, Validation Accuracy: 0.6979\n",
      "Epoch [76/300], Train Accuracy: 0.8768, Validation Accuracy: 0.6771\n",
      "Epoch [77/300], Train Accuracy: 0.8741, Validation Accuracy: 0.6354\n",
      "Epoch [78/300], Train Accuracy: 0.8603, Validation Accuracy: 0.6875\n",
      "Epoch [79/300], Train Accuracy: 0.8511, Validation Accuracy: 0.7500\n",
      "Model saved to sol1_MLP_2.pt\n",
      "Epoch [80/300], Train Accuracy: 0.8658, Validation Accuracy: 0.7083\n",
      "Epoch [81/300], Train Accuracy: 0.8759, Validation Accuracy: 0.7083\n",
      "Epoch [82/300], Train Accuracy: 0.8768, Validation Accuracy: 0.6771\n",
      "Epoch [83/300], Train Accuracy: 0.8621, Validation Accuracy: 0.7292\n",
      "Epoch [84/300], Train Accuracy: 0.8658, Validation Accuracy: 0.6771\n",
      "Epoch [85/300], Train Accuracy: 0.8759, Validation Accuracy: 0.6667\n",
      "Epoch [86/300], Train Accuracy: 0.8704, Validation Accuracy: 0.6667\n",
      "Epoch [87/300], Train Accuracy: 0.8879, Validation Accuracy: 0.6979\n",
      "Epoch [88/300], Train Accuracy: 0.8704, Validation Accuracy: 0.6562\n",
      "Epoch [89/300], Train Accuracy: 0.8759, Validation Accuracy: 0.7083\n",
      "Epoch [90/300], Train Accuracy: 0.8805, Validation Accuracy: 0.6771\n",
      "Epoch [91/300], Train Accuracy: 0.8722, Validation Accuracy: 0.7083\n",
      "Epoch [92/300], Train Accuracy: 0.8814, Validation Accuracy: 0.7188\n",
      "Epoch [93/300], Train Accuracy: 0.8934, Validation Accuracy: 0.7292\n",
      "Epoch [94/300], Train Accuracy: 0.8759, Validation Accuracy: 0.6979\n",
      "Epoch [95/300], Train Accuracy: 0.8915, Validation Accuracy: 0.6667\n",
      "Epoch [96/300], Train Accuracy: 0.8768, Validation Accuracy: 0.6771\n",
      "Epoch [97/300], Train Accuracy: 0.8842, Validation Accuracy: 0.7083\n",
      "Epoch [98/300], Train Accuracy: 0.8768, Validation Accuracy: 0.6771\n",
      "Epoch [99/300], Train Accuracy: 0.8897, Validation Accuracy: 0.7604\n",
      "Model saved to sol1_MLP_2.pt\n",
      "Epoch [100/300], Train Accuracy: 0.8879, Validation Accuracy: 0.6979\n",
      "Epoch [101/300], Train Accuracy: 0.8814, Validation Accuracy: 0.7083\n",
      "Epoch [102/300], Train Accuracy: 0.8971, Validation Accuracy: 0.6667\n",
      "Epoch [103/300], Train Accuracy: 0.8833, Validation Accuracy: 0.6771\n",
      "Epoch [104/300], Train Accuracy: 0.9035, Validation Accuracy: 0.6771\n",
      "Epoch [105/300], Train Accuracy: 0.8998, Validation Accuracy: 0.6458\n",
      "Epoch [106/300], Train Accuracy: 0.9099, Validation Accuracy: 0.6979\n",
      "Epoch [107/300], Train Accuracy: 0.9035, Validation Accuracy: 0.7500\n",
      "Epoch [108/300], Train Accuracy: 0.9053, Validation Accuracy: 0.6771\n",
      "Epoch [109/300], Train Accuracy: 0.9007, Validation Accuracy: 0.7396\n",
      "Epoch [110/300], Train Accuracy: 0.8934, Validation Accuracy: 0.7083\n",
      "Epoch [111/300], Train Accuracy: 0.9136, Validation Accuracy: 0.7292\n",
      "Epoch [112/300], Train Accuracy: 0.9044, Validation Accuracy: 0.7292\n",
      "Epoch [113/300], Train Accuracy: 0.9118, Validation Accuracy: 0.7188\n",
      "Epoch [114/300], Train Accuracy: 0.9228, Validation Accuracy: 0.7083\n",
      "Epoch [115/300], Train Accuracy: 0.9026, Validation Accuracy: 0.7292\n",
      "Epoch [116/300], Train Accuracy: 0.9062, Validation Accuracy: 0.7292\n",
      "Epoch [117/300], Train Accuracy: 0.9062, Validation Accuracy: 0.7292\n",
      "Epoch [118/300], Train Accuracy: 0.9044, Validation Accuracy: 0.6979\n",
      "Epoch [119/300], Train Accuracy: 0.8934, Validation Accuracy: 0.7708\n",
      "Model saved to sol1_MLP_2.pt\n",
      "Epoch [120/300], Train Accuracy: 0.9210, Validation Accuracy: 0.6667\n",
      "Epoch [121/300], Train Accuracy: 0.8971, Validation Accuracy: 0.6771\n",
      "Epoch [122/300], Train Accuracy: 0.8879, Validation Accuracy: 0.6875\n",
      "Epoch [123/300], Train Accuracy: 0.9026, Validation Accuracy: 0.7188\n",
      "Epoch [124/300], Train Accuracy: 0.9044, Validation Accuracy: 0.7083\n",
      "Epoch [125/300], Train Accuracy: 0.8934, Validation Accuracy: 0.7500\n",
      "Epoch [126/300], Train Accuracy: 0.9072, Validation Accuracy: 0.7188\n",
      "Epoch [127/300], Train Accuracy: 0.9191, Validation Accuracy: 0.6979\n",
      "Epoch [128/300], Train Accuracy: 0.9118, Validation Accuracy: 0.7188\n",
      "Epoch [129/300], Train Accuracy: 0.9228, Validation Accuracy: 0.7708\n",
      "Epoch [130/300], Train Accuracy: 0.9072, Validation Accuracy: 0.7292\n",
      "Epoch [131/300], Train Accuracy: 0.9072, Validation Accuracy: 0.7188\n",
      "Epoch [132/300], Train Accuracy: 0.9182, Validation Accuracy: 0.7396\n",
      "Epoch [133/300], Train Accuracy: 0.9081, Validation Accuracy: 0.7396\n",
      "Epoch [134/300], Train Accuracy: 0.9173, Validation Accuracy: 0.7708\n",
      "Epoch [135/300], Train Accuracy: 0.9127, Validation Accuracy: 0.7083\n",
      "Epoch [136/300], Train Accuracy: 0.9145, Validation Accuracy: 0.7396\n",
      "Epoch [137/300], Train Accuracy: 0.9035, Validation Accuracy: 0.7396\n",
      "Epoch [138/300], Train Accuracy: 0.9173, Validation Accuracy: 0.7188\n",
      "Epoch [139/300], Train Accuracy: 0.9118, Validation Accuracy: 0.7083\n",
      "Epoch [140/300], Train Accuracy: 0.9228, Validation Accuracy: 0.7292\n",
      "Epoch [141/300], Train Accuracy: 0.9099, Validation Accuracy: 0.7396\n",
      "Epoch [142/300], Train Accuracy: 0.9283, Validation Accuracy: 0.7500\n",
      "Epoch [143/300], Train Accuracy: 0.9173, Validation Accuracy: 0.7083\n",
      "Epoch [144/300], Train Accuracy: 0.9081, Validation Accuracy: 0.7188\n",
      "Epoch [145/300], Train Accuracy: 0.9099, Validation Accuracy: 0.7083\n",
      "Epoch [146/300], Train Accuracy: 0.9164, Validation Accuracy: 0.7500\n",
      "Epoch [147/300], Train Accuracy: 0.9338, Validation Accuracy: 0.6667\n",
      "Epoch [148/300], Train Accuracy: 0.9283, Validation Accuracy: 0.6875\n",
      "Epoch [149/300], Train Accuracy: 0.9219, Validation Accuracy: 0.6771\n",
      "Epoch [150/300], Train Accuracy: 0.9256, Validation Accuracy: 0.6979\n",
      "Epoch [151/300], Train Accuracy: 0.9182, Validation Accuracy: 0.7292\n",
      "Epoch [152/300], Train Accuracy: 0.9219, Validation Accuracy: 0.6667\n",
      "Epoch [153/300], Train Accuracy: 0.9108, Validation Accuracy: 0.7188\n",
      "Epoch [154/300], Train Accuracy: 0.9145, Validation Accuracy: 0.7292\n",
      "Epoch [155/300], Train Accuracy: 0.9292, Validation Accuracy: 0.6771\n",
      "Epoch [156/300], Train Accuracy: 0.9283, Validation Accuracy: 0.6979\n",
      "Epoch [157/300], Train Accuracy: 0.9200, Validation Accuracy: 0.7604\n",
      "Epoch [158/300], Train Accuracy: 0.9301, Validation Accuracy: 0.6875\n",
      "Epoch [159/300], Train Accuracy: 0.9228, Validation Accuracy: 0.6771\n",
      "Epoch [160/300], Train Accuracy: 0.9154, Validation Accuracy: 0.6667\n",
      "Epoch [161/300], Train Accuracy: 0.9237, Validation Accuracy: 0.6771\n",
      "Epoch [162/300], Train Accuracy: 0.9265, Validation Accuracy: 0.7292\n",
      "Epoch [163/300], Train Accuracy: 0.9256, Validation Accuracy: 0.6875\n",
      "Epoch [164/300], Train Accuracy: 0.9164, Validation Accuracy: 0.6875\n",
      "Epoch [165/300], Train Accuracy: 0.9458, Validation Accuracy: 0.7396\n",
      "Epoch [166/300], Train Accuracy: 0.9191, Validation Accuracy: 0.6979\n",
      "Epoch [167/300], Train Accuracy: 0.9283, Validation Accuracy: 0.7188\n",
      "Epoch [168/300], Train Accuracy: 0.9292, Validation Accuracy: 0.7396\n",
      "Epoch [169/300], Train Accuracy: 0.9173, Validation Accuracy: 0.7188\n",
      "Early stopping triggered.\n"
     ]
    }
   ],
   "source": [
    "\n",
    "EPOCHS = 300\n",
    "model = model2()\n",
    "model.train(train_loader, val_loader, EPOCHS)\n",
    "\n",
    "\n",
    "# train_preds = model.predict(dataroot1 + \"/train.json\")\n",
    "# test_preds = model.predict(dataroot1 + \"/test.json\", \"predictions1.json\")\n",
    "# \n",
    "# train_labels = eval(open(dataroot1 + \"/train.json\").read())\n",
    "# acc1 = accuracy1(train_labels, train_preds)\n",
    "# print(\"Task 1 training accuracy = \" + str(acc1))"
   ],
   "metadata": {
    "collapsed": false,
    "ExecuteTime": {
     "end_time": "2025-05-20T19:40:47.653437Z",
     "start_time": "2025-05-20T19:40:23.641397Z"
    }
   },
   "id": "c179b4e57e8ca203",
   "execution_count": 32
  },
  {
   "cell_type": "code",
   "outputs": [
    {
     "data": {
      "text/plain": "<Figure size 640x480 with 1 Axes>",
      "image/png": "[encoded data removed]"
     },
     "metadata": {},
     "output_type": "display_data"
    }
   ],
   "source": [
    "import matplotlib.pyplot as plt\n",
    "\n",
    "train_acc, val_acc = model.get_train_acc()\n",
    "\n",
    "\n",
    "\n",
    "x = range(1, len(train_acc) + 1)\n",
    "\n",
    "# Plot training accuracy\n",
    "plt.plot(x, train_acc, label='Training Accuracy', color='blue', linestyle='-', marker='o')\n",
    "\n",
    "# Plot validation accuracy\n",
    "plt.plot(x, val_acc, label='Validation Accuracy', color='red', linestyle='--', marker='x')\n",
    "\n",
    "# Adding labels and title\n",
    "plt.xlabel('Epochs')\n",
    "plt.ylabel('Accuracy')\n",
    "plt.title('Training and Validation Accuracy per Epoch')\n",
    "\n",
    "# Add a legend\n",
    "plt.legend()\n",
    "\n",
    "# Show the plot\n",
    "plt.grid(True)\n",
    "plt.show()"
   ],
   "metadata": {
    "collapsed": false,
    "ExecuteTime": {
     "end_time": "2025-05-20T19:40:58.224023Z",
     "start_time": "2025-05-20T19:40:58.113552Z"
    }
   },
   "id": "3f5934c6ae1de768",
   "execution_count": 33
  },
  {
   "cell_type": "code",
   "outputs": [],
   "source": [
    "import pickle\n",
    "with open('fullTrainData.pkl', 'wb') as f:\n",
    "    data = {'train_loader': train_loader, 'val_loader':val_loader, 'train_dataset': train_dataset, 'val_dataset':val_dataset}\n",
    "    pickle.dump(data, f)"
   ],
   "metadata": {
    "collapsed": false,
    "ExecuteTime": {
     "end_time": "2025-05-20T19:40:58.922189Z",
     "start_time": "2025-05-20T19:40:58.902969Z"
    }
   },
   "id": "6c6a974b5c41f249",
   "execution_count": 34
  },
  {
   "cell_type": "markdown",
   "source": [
    "Make predictions"
   ],
   "metadata": {
    "collapsed": false
   },
   "id": "67b673452e35da44"
  },
  {
   "cell_type": "code",
   "outputs": [],
   "source": [
    "# model = model2()\n",
    "# MLP = MLPClassifier()\n",
    "# MLP = load_model(MLPClassifier, \"sol1_MLP.pt\")"
   ],
   "metadata": {
    "collapsed": false,
    "ExecuteTime": {
     "end_time": "2025-05-20T19:41:00.129196Z",
     "start_time": "2025-05-20T19:41:00.123469Z"
    }
   },
   "id": "6ebda317a7583bf5",
   "execution_count": 35
  },
  {
   "cell_type": "code",
   "outputs": [],
   "source": [
    "# model.model = MLP"
   ],
   "metadata": {
    "collapsed": false,
    "ExecuteTime": {
     "end_time": "2025-05-20T19:41:00.435606Z",
     "start_time": "2025-05-20T19:41:00.430287Z"
    }
   },
   "id": "921a8fd2cd536cf7",
   "execution_count": 36
  },
  {
   "cell_type": "code",
   "outputs": [
    {
     "name": "stderr",
     "output_type": "stream",
     "text": [
      "/var/folders/wv/j6ybhf8906j4bmnp171wtn680000gn/T/ipykernel_9272/3284981968.py:21: UserWarning: To copy construct from a tensor, it is recommended to use sourceTensor.detach().clone() or sourceTensor.detach().clone().requires_grad_(True), rather than torch.tensor(sourceTensor).\n",
      "  x = torch.tensor(features(k), dtype=torch.float32)\n"
     ]
    },
    {
     "data": {
      "text/plain": "{'midis/1210.mid': 'Bach',\n 'midis/1211.mid': 'Beethoven',\n 'midis/1212.mid': 'Beethoven',\n 'midis/1213.mid': 'Chopin',\n 'midis/1214.mid': 'Beethoven',\n 'midis/1215.mid': 'Bach',\n 'midis/1216.mid': 'Schumann',\n 'midis/1217.mid': 'Haydn',\n 'midis/1218.mid': 'Bach',\n 'midis/1219.mid': 'Beethoven',\n 'midis/1220.mid': 'Haydn',\n 'midis/1221.mid': 'Chopin',\n 'midis/1222.mid': 'Beethoven',\n 'midis/1223.mid': 'Beethoven',\n 'midis/1224.mid': 'Beethoven',\n 'midis/1225.mid': 'Bach',\n 'midis/1226.mid': 'Beethoven',\n 'midis/1227.mid': 'Chopin',\n 'midis/1228.mid': 'Schumann',\n 'midis/1229.mid': 'Beethoven',\n 'midis/1230.mid': 'Liszt',\n 'midis/1231.mid': 'Beethoven',\n 'midis/1232.mid': 'Chopin',\n 'midis/1233.mid': 'Liszt',\n 'midis/1234.mid': 'Schubert',\n 'midis/1235.mid': 'Schubert',\n 'midis/1236.mid': 'Liszt',\n 'midis/1237.mid': 'Schubert',\n 'midis/1238.mid': 'Schubert',\n 'midis/1239.mid': 'Beethoven',\n 'midis/1240.mid': 'Beethoven',\n 'midis/1241.mid': 'Beethoven',\n 'midis/1242.mid': 'Beethoven',\n 'midis/1243.mid': 'Mozart',\n 'midis/1244.mid': 'Schubert',\n 'midis/1245.mid': 'Chopin',\n 'midis/1246.mid': 'Beethoven',\n 'midis/1247.mid': 'Bach',\n 'midis/1248.mid': 'Liszt',\n 'midis/1249.mid': 'Beethoven',\n 'midis/1250.mid': 'Beethoven',\n 'midis/1251.mid': 'Chopin',\n 'midis/1252.mid': 'Beethoven',\n 'midis/1253.mid': 'Schumann',\n 'midis/1254.mid': 'Liszt',\n 'midis/1255.mid': 'Liszt',\n 'midis/1256.mid': 'Liszt',\n 'midis/1257.mid': 'Schubert',\n 'midis/1258.mid': 'Beethoven',\n 'midis/1259.mid': 'Beethoven',\n 'midis/1260.mid': 'Beethoven',\n 'midis/1261.mid': 'Chopin',\n 'midis/1262.mid': 'Haydn',\n 'midis/1263.mid': 'Beethoven',\n 'midis/1264.mid': 'Chopin',\n 'midis/1265.mid': 'Bach',\n 'midis/1266.mid': 'Beethoven',\n 'midis/1267.mid': 'Beethoven',\n 'midis/1268.mid': 'Mozart',\n 'midis/1269.mid': 'Schubert',\n 'midis/1270.mid': 'Schubert',\n 'midis/1271.mid': 'Beethoven',\n 'midis/1272.mid': 'Chopin',\n 'midis/1273.mid': 'Beethoven',\n 'midis/1274.mid': 'Beethoven',\n 'midis/1275.mid': 'Bach',\n 'midis/1276.mid': 'Liszt',\n 'midis/1277.mid': 'Mozart',\n 'midis/1278.mid': 'Bach',\n 'midis/1279.mid': 'Beethoven',\n 'midis/1280.mid': 'Beethoven',\n 'midis/1281.mid': 'Chopin',\n 'midis/1282.mid': 'Liszt',\n 'midis/1283.mid': 'Beethoven',\n 'midis/1284.mid': 'Chopin',\n 'midis/1285.mid': 'Chopin',\n 'midis/1286.mid': 'Beethoven',\n 'midis/1287.mid': 'Bach',\n 'midis/1288.mid': 'Mozart',\n 'midis/1289.mid': 'Liszt',\n 'midis/1290.mid': 'Chopin',\n 'midis/1291.mid': 'Haydn',\n 'midis/1292.mid': 'Beethoven',\n 'midis/1293.mid': 'Beethoven',\n 'midis/1294.mid': 'Beethoven',\n 'midis/1295.mid': 'Beethoven',\n 'midis/1296.mid': 'Bach',\n 'midis/1297.mid': 'Chopin',\n 'midis/1298.mid': 'Mozart',\n 'midis/1299.mid': 'Beethoven',\n 'midis/1300.mid': 'Schumann',\n 'midis/1301.mid': 'Liszt',\n 'midis/1302.mid': 'Beethoven',\n 'midis/1303.mid': 'Chopin',\n 'midis/1304.mid': 'Mozart',\n 'midis/1305.mid': 'Schubert',\n 'midis/1306.mid': 'Liszt',\n 'midis/1307.mid': 'Beethoven',\n 'midis/1308.mid': 'Beethoven',\n 'midis/1309.mid': 'Bach',\n 'midis/1310.mid': 'Liszt',\n 'midis/1311.mid': 'Schubert',\n 'midis/1312.mid': 'Liszt',\n 'midis/1313.mid': 'Liszt',\n 'midis/1314.mid': 'Chopin',\n 'midis/1315.mid': 'Beethoven',\n 'midis/1316.mid': 'Beethoven',\n 'midis/1317.mid': 'Beethoven',\n 'midis/1318.mid': 'Bach',\n 'midis/1319.mid': 'Chopin',\n 'midis/1320.mid': 'Schubert',\n 'midis/1321.mid': 'Beethoven',\n 'midis/1322.mid': 'Chopin',\n 'midis/1323.mid': 'Bach',\n 'midis/1324.mid': 'Schumann',\n 'midis/1325.mid': 'Liszt',\n 'midis/1326.mid': 'Beethoven',\n 'midis/1327.mid': 'Schumann',\n 'midis/1328.mid': 'Liszt',\n 'midis/1329.mid': 'Schumann',\n 'midis/1330.mid': 'Bach',\n 'midis/1331.mid': 'Chopin',\n 'midis/1332.mid': 'Beethoven',\n 'midis/1333.mid': 'Bach',\n 'midis/1334.mid': 'Schumann',\n 'midis/1335.mid': 'Bach',\n 'midis/1336.mid': 'Beethoven',\n 'midis/1337.mid': 'Chopin',\n 'midis/1338.mid': 'Chopin',\n 'midis/1339.mid': 'Schumann',\n 'midis/1340.mid': 'Liszt',\n 'midis/1341.mid': 'Bach',\n 'midis/1342.mid': 'Chopin',\n 'midis/1343.mid': 'Haydn',\n 'midis/1344.mid': 'Beethoven',\n 'midis/1345.mid': 'Schubert',\n 'midis/1346.mid': 'Chopin',\n 'midis/1347.mid': 'Bach',\n 'midis/1348.mid': 'Beethoven',\n 'midis/1349.mid': 'Haydn',\n 'midis/1350.mid': 'Beethoven',\n 'midis/1351.mid': 'Beethoven',\n 'midis/1352.mid': 'Beethoven',\n 'midis/1353.mid': 'Liszt',\n 'midis/1354.mid': 'Liszt',\n 'midis/1355.mid': 'Liszt',\n 'midis/1356.mid': 'Beethoven',\n 'midis/1357.mid': 'Beethoven',\n 'midis/1358.mid': 'Beethoven',\n 'midis/1359.mid': 'Chopin',\n 'midis/1360.mid': 'Chopin',\n 'midis/1361.mid': 'Beethoven',\n 'midis/1362.mid': 'Beethoven',\n 'midis/1363.mid': 'Chopin',\n 'midis/1364.mid': 'Schubert',\n 'midis/1365.mid': 'Haydn',\n 'midis/1366.mid': 'Chopin',\n 'midis/1367.mid': 'Beethoven',\n 'midis/1368.mid': 'Beethoven',\n 'midis/1369.mid': 'Schubert',\n 'midis/1370.mid': 'Chopin',\n 'midis/1371.mid': 'Beethoven',\n 'midis/1372.mid': 'Bach',\n 'midis/1373.mid': 'Chopin',\n 'midis/1374.mid': 'Liszt',\n 'midis/1375.mid': 'Schumann',\n 'midis/1376.mid': 'Haydn',\n 'midis/1377.mid': 'Bach',\n 'midis/1378.mid': 'Bach',\n 'midis/1379.mid': 'Liszt',\n 'midis/1380.mid': 'Beethoven',\n 'midis/1381.mid': 'Beethoven',\n 'midis/1382.mid': 'Bach',\n 'midis/1383.mid': 'Haydn',\n 'midis/1384.mid': 'Liszt',\n 'midis/1385.mid': 'Beethoven',\n 'midis/1386.mid': 'Liszt',\n 'midis/1387.mid': 'Haydn',\n 'midis/1388.mid': 'Beethoven',\n 'midis/1389.mid': 'Schumann',\n 'midis/1390.mid': 'Beethoven',\n 'midis/1391.mid': 'Beethoven',\n 'midis/1392.mid': 'Chopin',\n 'midis/1393.mid': 'Beethoven',\n 'midis/1394.mid': 'Liszt',\n 'midis/1395.mid': 'Chopin',\n 'midis/1396.mid': 'Beethoven',\n 'midis/1397.mid': 'Chopin',\n 'midis/1398.mid': 'Beethoven',\n 'midis/1399.mid': 'Chopin',\n 'midis/1400.mid': 'Schumann',\n 'midis/1401.mid': 'Haydn',\n 'midis/1402.mid': 'Beethoven',\n 'midis/1403.mid': 'Bach',\n 'midis/1404.mid': 'Haydn',\n 'midis/1405.mid': 'Chopin',\n 'midis/1406.mid': 'Chopin',\n 'midis/1407.mid': 'Haydn',\n 'midis/1408.mid': 'Beethoven',\n 'midis/1409.mid': 'Schumann',\n 'midis/1410.mid': 'Liszt',\n 'midis/1411.mid': 'Chopin',\n 'midis/1412.mid': 'Schubert',\n 'midis/1413.mid': 'Liszt',\n 'midis/1414.mid': 'Chopin',\n 'midis/1415.mid': 'Haydn',\n 'midis/1416.mid': 'Liszt',\n 'midis/1417.mid': 'Bach',\n 'midis/1418.mid': 'Chopin',\n 'midis/1419.mid': 'Chopin',\n 'midis/1420.mid': 'Bach',\n 'midis/1421.mid': 'Bach',\n 'midis/1422.mid': 'Schumann',\n 'midis/1423.mid': 'Beethoven',\n 'midis/1424.mid': 'Bach',\n 'midis/1425.mid': 'Beethoven',\n 'midis/1426.mid': 'Haydn',\n 'midis/1427.mid': 'Chopin',\n 'midis/1428.mid': 'Liszt',\n 'midis/1429.mid': 'Bach',\n 'midis/1430.mid': 'Chopin',\n 'midis/1431.mid': 'Bach',\n 'midis/1432.mid': 'Beethoven',\n 'midis/1433.mid': 'Schumann',\n 'midis/1434.mid': 'Beethoven',\n 'midis/1435.mid': 'Beethoven',\n 'midis/1436.mid': 'Schubert',\n 'midis/1437.mid': 'Chopin',\n 'midis/1438.mid': 'Liszt',\n 'midis/1439.mid': 'Beethoven',\n 'midis/1440.mid': 'Mozart',\n 'midis/1441.mid': 'Beethoven',\n 'midis/1442.mid': 'Schubert',\n 'midis/1443.mid': 'Beethoven',\n 'midis/1444.mid': 'Chopin',\n 'midis/1445.mid': 'Haydn',\n 'midis/1446.mid': 'Chopin',\n 'midis/1447.mid': 'Beethoven',\n 'midis/1448.mid': 'Beethoven',\n 'midis/1449.mid': 'Chopin',\n 'midis/1450.mid': 'Schubert',\n 'midis/1451.mid': 'Beethoven',\n 'midis/1452.mid': 'Beethoven',\n 'midis/1453.mid': 'Beethoven',\n 'midis/1454.mid': 'Beethoven',\n 'midis/1455.mid': 'Beethoven',\n 'midis/1456.mid': 'Liszt',\n 'midis/1457.mid': 'Beethoven',\n 'midis/1458.mid': 'Haydn',\n 'midis/1459.mid': 'Liszt',\n 'midis/1460.mid': 'Chopin',\n 'midis/1461.mid': 'Beethoven',\n 'midis/1462.mid': 'Liszt',\n 'midis/1463.mid': 'Liszt',\n 'midis/1464.mid': 'Liszt',\n 'midis/1465.mid': 'Chopin',\n 'midis/1466.mid': 'Schubert',\n 'midis/1467.mid': 'Schumann',\n 'midis/1468.mid': 'Beethoven',\n 'midis/1469.mid': 'Schubert',\n 'midis/1470.mid': 'Beethoven',\n 'midis/1471.mid': 'Bach',\n 'midis/1472.mid': 'Beethoven',\n 'midis/1473.mid': 'Bach',\n 'midis/1474.mid': 'Beethoven',\n 'midis/1475.mid': 'Chopin',\n 'midis/1476.mid': 'Bach',\n 'midis/1477.mid': 'Beethoven',\n 'midis/1478.mid': 'Beethoven',\n 'midis/1479.mid': 'Schubert',\n 'midis/1480.mid': 'Schumann',\n 'midis/1481.mid': 'Bach',\n 'midis/1482.mid': 'Beethoven',\n 'midis/1483.mid': 'Haydn',\n 'midis/1484.mid': 'Haydn',\n 'midis/1485.mid': 'Bach',\n 'midis/1486.mid': 'Liszt',\n 'midis/1487.mid': 'Haydn',\n 'midis/1488.mid': 'Beethoven',\n 'midis/1489.mid': 'Chopin',\n 'midis/1490.mid': 'Chopin',\n 'midis/1491.mid': 'Haydn',\n 'midis/1492.mid': 'Schubert',\n 'midis/1493.mid': 'Schumann',\n 'midis/1494.mid': 'Schumann',\n 'midis/1495.mid': 'Haydn',\n 'midis/1496.mid': 'Schubert',\n 'midis/1497.mid': 'Liszt',\n 'midis/1498.mid': 'Haydn',\n 'midis/1499.mid': 'Chopin',\n 'midis/1500.mid': 'Chopin',\n 'midis/1501.mid': 'Chopin',\n 'midis/1502.mid': 'Beethoven',\n 'midis/1503.mid': 'Bach',\n 'midis/1504.mid': 'Liszt',\n 'midis/1505.mid': 'Chopin',\n 'midis/1506.mid': 'Liszt',\n 'midis/1507.mid': 'Beethoven',\n 'midis/1508.mid': 'Beethoven',\n 'midis/1509.mid': 'Bach',\n 'midis/1510.mid': 'Chopin',\n 'midis/1511.mid': 'Schubert',\n 'midis/1512.mid': 'Chopin',\n 'midis/1513.mid': 'Beethoven',\n 'midis/1514.mid': 'Liszt',\n 'midis/1515.mid': 'Chopin',\n 'midis/1516.mid': 'Liszt',\n 'midis/1517.mid': 'Schumann',\n 'midis/1518.mid': 'Chopin',\n 'midis/1519.mid': 'Beethoven',\n 'midis/1520.mid': 'Schumann',\n 'midis/1521.mid': 'Liszt',\n 'midis/1522.mid': 'Beethoven',\n 'midis/1523.mid': 'Chopin',\n 'midis/1524.mid': 'Beethoven',\n 'midis/1525.mid': 'Beethoven',\n 'midis/1526.mid': 'Chopin',\n 'midis/1527.mid': 'Chopin',\n 'midis/1528.mid': 'Bach',\n 'midis/1529.mid': 'Liszt',\n 'midis/1530.mid': 'Chopin',\n 'midis/1531.mid': 'Schumann',\n 'midis/1532.mid': 'Mozart',\n 'midis/1533.mid': 'Liszt',\n 'midis/1534.mid': 'Beethoven',\n 'midis/1535.mid': 'Bach',\n 'midis/1536.mid': 'Bach',\n 'midis/1537.mid': 'Beethoven',\n 'midis/1538.mid': 'Beethoven',\n 'midis/1539.mid': 'Chopin',\n 'midis/1540.mid': 'Liszt',\n 'midis/1541.mid': 'Liszt',\n 'midis/1542.mid': 'Chopin',\n 'midis/1543.mid': 'Chopin',\n 'midis/1544.mid': 'Beethoven',\n 'midis/1545.mid': 'Chopin',\n 'midis/1546.mid': 'Chopin',\n 'midis/1547.mid': 'Liszt',\n 'midis/1548.mid': 'Beethoven',\n 'midis/1549.mid': 'Bach',\n 'midis/1550.mid': 'Schumann',\n 'midis/1551.mid': 'Bach',\n 'midis/1552.mid': 'Chopin',\n 'midis/1553.mid': 'Chopin',\n 'midis/1554.mid': 'Beethoven',\n 'midis/1555.mid': 'Beethoven',\n 'midis/1556.mid': 'Schumann',\n 'midis/1557.mid': 'Schumann',\n 'midis/1558.mid': 'Beethoven',\n 'midis/1559.mid': 'Schumann',\n 'midis/1560.mid': 'Beethoven',\n 'midis/1561.mid': 'Beethoven',\n 'midis/1562.mid': 'Beethoven',\n 'midis/1563.mid': 'Schumann',\n 'midis/1564.mid': 'Beethoven',\n 'midis/1565.mid': 'Bach',\n 'midis/1566.mid': 'Schumann',\n 'midis/1567.mid': 'Chopin',\n 'midis/1568.mid': 'Bach',\n 'midis/1569.mid': 'Mozart',\n 'midis/1570.mid': 'Chopin',\n 'midis/1571.mid': 'Schumann',\n 'midis/1572.mid': 'Liszt',\n 'midis/1573.mid': 'Beethoven',\n 'midis/1574.mid': 'Beethoven',\n 'midis/1575.mid': 'Bach',\n 'midis/1576.mid': 'Bach',\n 'midis/1577.mid': 'Beethoven',\n 'midis/1578.mid': 'Bach',\n 'midis/1579.mid': 'Beethoven',\n 'midis/1580.mid': 'Beethoven',\n 'midis/1581.mid': 'Schumann',\n 'midis/1582.mid': 'Bach',\n 'midis/1583.mid': 'Bach',\n 'midis/1584.mid': 'Beethoven',\n 'midis/1585.mid': 'Liszt',\n 'midis/1586.mid': 'Beethoven',\n 'midis/1587.mid': 'Schubert',\n 'midis/1588.mid': 'Schumann',\n 'midis/1589.mid': 'Beethoven',\n 'midis/1590.mid': 'Schumann',\n 'midis/1591.mid': 'Beethoven',\n 'midis/1592.mid': 'Beethoven',\n 'midis/1593.mid': 'Beethoven',\n 'midis/1594.mid': 'Mozart',\n 'midis/1595.mid': 'Schumann',\n 'midis/1596.mid': 'Bach',\n 'midis/1597.mid': 'Chopin',\n 'midis/1598.mid': 'Mozart'}"
     },
     "execution_count": 37,
     "metadata": {},
     "output_type": "execute_result"
    }
   ],
   "source": [
    "model.predict(dataroot1+\"/test.json\", outpath=\"predictions1.json\")"
   ],
   "metadata": {
    "collapsed": false,
    "ExecuteTime": {
     "end_time": "2025-05-20T19:41:56.424140Z",
     "start_time": "2025-05-20T19:41:00.902983Z"
    }
   },
   "id": "d01ed86b17d905dc",
   "execution_count": 37
  },
  {
   "cell_type": "code",
   "outputs": [
    {
     "name": "stderr",
     "output_type": "stream",
     "text": [
      "/Users/mehul/Documents/UCSD Classes/ML for Music/MLforMusic/.venv/lib/python3.9/site-packages/pytorch_tabnet/abstract_model.py:82: UserWarning: Device used : cpu\n",
      "  warnings.warn(f\"Device used : {self.device}\")\n"
     ]
    },
    {
     "name": "stdout",
     "output_type": "stream",
     "text": [
      "epoch 0  | loss: 8.1018  | val_accuracy: 0.08264 |  0:00:02s\n",
      "epoch 1  | loss: 5.53447 | val_accuracy: 0.1405  |  0:00:03s\n",
      "epoch 2  | loss: 4.7496  | val_accuracy: 0.28926 |  0:00:04s\n",
      "epoch 3  | loss: 3.77169 | val_accuracy: 0.39669 |  0:00:05s\n",
      "epoch 4  | loss: 3.30748 | val_accuracy: 0.39669 |  0:00:07s\n",
      "epoch 5  | loss: 3.26651 | val_accuracy: 0.36364 |  0:00:08s\n",
      "epoch 6  | loss: 3.09013 | val_accuracy: 0.33884 |  0:00:09s\n",
      "epoch 7  | loss: 3.08457 | val_accuracy: 0.33058 |  0:00:10s\n",
      "epoch 8  | loss: 2.99407 | val_accuracy: 0.33058 |  0:00:11s\n",
      "epoch 9  | loss: 2.90112 | val_accuracy: 0.31405 |  0:00:12s\n",
      "epoch 10 | loss: 2.72629 | val_accuracy: 0.32231 |  0:00:14s\n",
      "epoch 11 | loss: 2.6929  | val_accuracy: 0.30579 |  0:00:15s\n",
      "epoch 12 | loss: 2.64355 | val_accuracy: 0.32231 |  0:00:16s\n",
      "epoch 13 | loss: 2.66028 | val_accuracy: 0.33884 |  0:00:17s\n",
      "epoch 14 | loss: 2.62915 | val_accuracy: 0.3719  |  0:00:18s\n",
      "epoch 15 | loss: 2.47657 | val_accuracy: 0.36364 |  0:00:19s\n",
      "epoch 16 | loss: 2.51599 | val_accuracy: 0.3719  |  0:00:20s\n",
      "epoch 17 | loss: 2.47655 | val_accuracy: 0.36364 |  0:00:22s\n",
      "epoch 18 | loss: 2.38286 | val_accuracy: 0.36364 |  0:00:23s\n",
      "epoch 19 | loss: 2.70766 | val_accuracy: 0.35537 |  0:00:24s\n",
      "epoch 20 | loss: 2.56976 | val_accuracy: 0.36364 |  0:00:25s\n",
      "epoch 21 | loss: 2.37135 | val_accuracy: 0.35537 |  0:00:26s\n",
      "epoch 22 | loss: 2.43106 | val_accuracy: 0.3719  |  0:00:27s\n",
      "epoch 23 | loss: 2.26624 | val_accuracy: 0.38017 |  0:00:28s\n",
      "\n",
      "Early stopping occurred at epoch 23 with best_epoch = 3 and best_val_accuracy = 0.39669\n"
     ]
    },
    {
     "name": "stderr",
     "output_type": "stream",
     "text": [
      "/Users/mehul/Documents/UCSD Classes/ML for Music/MLforMusic/.venv/lib/python3.9/site-packages/pytorch_tabnet/callbacks.py:172: UserWarning: Best weights from best epoch are automatically used!\n",
      "  warnings.warn(wrn_msg)\n"
     ]
    }
   ],
   "source": [
    "from pytorch_tabnet.tab_model import TabNetClassifier\n",
    "\n",
    "\n",
    "from pytorch_tabnet.tab_model import TabNetClassifier\n",
    "\n",
    "tab = TabNetClassifier(\n",
    "    n_d=1024,                    # Width of decision prediction layer\n",
    "    n_a=128,                    # Width of attention embedding\n",
    "    # n_steps=5,                 # Number of decision steps\n",
    "    # gamma=1.5,                 # Relaxation parameter in sparsemax\n",
    "    # lambda_sparse=1e-4,        # Sparsity regularization\n",
    "    optimizer_fn=torch.optim.Adam,\n",
    "    optimizer_params=dict(lr=0.001),\n",
    "    scheduler_params={\"step_size\": 10, \"gamma\": 0.9},  # Learning rate scheduler\n",
    "    scheduler_fn=torch.optim.lr_scheduler.StepLR,\n",
    "    mask_type='entmax',        # Try 'entmax' (or fallback to 'sparsemax')\n",
    "    verbose=1\n",
    ")\n",
    "\n",
    "tab.fit(\n",
    "    X_train=X_train.numpy(), \n",
    "    y_train=y_train.numpy(),\n",
    "    eval_set=[(X_val.numpy(), y_val.numpy())],\n",
    "    eval_name=[\"val\"],\n",
    "    eval_metric=[\"accuracy\"],   # Try: \"accuracy\", \"logloss\", \"auc\", \"balanced_accuracy\"\n",
    "    max_epochs=200,\n",
    "    patience=20,\n",
    "    batch_size=512,\n",
    "    virtual_batch_size=128,\n",
    "    num_workers=0,\n",
    "    drop_last=False\n",
    ")\n"
   ],
   "metadata": {
    "collapsed": false,
    "ExecuteTime": {
     "end_time": "2025-05-20T22:04:42.316850Z",
     "start_time": "2025-05-20T22:04:12.273672Z"
    }
   },
   "id": "624f5fb400aa6386",
   "execution_count": 58
  },
  {
   "cell_type": "code",
   "outputs": [],
   "source": [
    "import numpy as np\n",
    "\n",
    "def predict(path, outpath=None):\n",
    "    # Load your input dictionary\n",
    "    d = eval(open(path, 'r').read())\n",
    "    predictions = {}\n",
    "\n",
    "    # Prepare batch inputs\n",
    "    keys = list(d)\n",
    "    X = np.array([features(k) for k in keys], dtype=np.float32)  # shape: (N, feature_dim)\n",
    "\n",
    "    # Predict using TabNet\n",
    "    preds = tab.predict(X)  # shape: (N,)\n",
    "    \n",
    "    # Map predictions back to composer names\n",
    "    for key, pred in zip(keys, preds):\n",
    "        predictions[key] = str(idToArtist[int(pred)])\n",
    "\n",
    "    # Optionally save results\n",
    "    if outpath:\n",
    "        with open(outpath, \"w\") as z:\n",
    "            z.write(str(predictions) + '\\n')\n",
    "\n",
    "    return predictions\n"
   ],
   "metadata": {
    "collapsed": false,
    "ExecuteTime": {
     "end_time": "2025-05-20T21:52:58.978191Z",
     "start_time": "2025-05-20T21:52:58.969269Z"
    }
   },
   "id": "201611d2bc804f87",
   "execution_count": 50
  },
  {
   "cell_type": "code",
   "outputs": [
    {
     "data": {
      "text/plain": "{'midis/1210.mid': 'Schumann',\n 'midis/1211.mid': 'Beethoven',\n 'midis/1212.mid': 'Beethoven',\n 'midis/1213.mid': 'Beethoven',\n 'midis/1214.mid': 'Beethoven',\n 'midis/1215.mid': 'Schumann',\n 'midis/1216.mid': 'Beethoven',\n 'midis/1217.mid': 'Beethoven',\n 'midis/1218.mid': 'Beethoven',\n 'midis/1219.mid': 'Beethoven',\n 'midis/1220.mid': 'Beethoven',\n 'midis/1221.mid': 'Beethoven',\n 'midis/1222.mid': 'Chopin',\n 'midis/1223.mid': 'Beethoven',\n 'midis/1224.mid': 'Beethoven',\n 'midis/1225.mid': 'Beethoven',\n 'midis/1226.mid': 'Beethoven',\n 'midis/1227.mid': 'Beethoven',\n 'midis/1228.mid': 'Beethoven',\n 'midis/1229.mid': 'Beethoven',\n 'midis/1230.mid': 'Beethoven',\n 'midis/1231.mid': 'Beethoven',\n 'midis/1232.mid': 'Beethoven',\n 'midis/1233.mid': 'Beethoven',\n 'midis/1234.mid': 'Beethoven',\n 'midis/1235.mid': 'Chopin',\n 'midis/1236.mid': 'Beethoven',\n 'midis/1237.mid': 'Beethoven',\n 'midis/1238.mid': 'Beethoven',\n 'midis/1239.mid': 'Beethoven',\n 'midis/1240.mid': 'Beethoven',\n 'midis/1241.mid': 'Beethoven',\n 'midis/1242.mid': 'Beethoven',\n 'midis/1243.mid': 'Beethoven',\n 'midis/1244.mid': 'Beethoven',\n 'midis/1245.mid': 'Beethoven',\n 'midis/1246.mid': 'Beethoven',\n 'midis/1247.mid': 'Beethoven',\n 'midis/1248.mid': 'Beethoven',\n 'midis/1249.mid': 'Beethoven',\n 'midis/1250.mid': 'Beethoven',\n 'midis/1251.mid': 'Beethoven',\n 'midis/1252.mid': 'Beethoven',\n 'midis/1253.mid': 'Beethoven',\n 'midis/1254.mid': 'Beethoven',\n 'midis/1255.mid': 'Beethoven',\n 'midis/1256.mid': 'Chopin',\n 'midis/1257.mid': 'Beethoven',\n 'midis/1258.mid': 'Beethoven',\n 'midis/1259.mid': 'Beethoven',\n 'midis/1260.mid': 'Beethoven',\n 'midis/1261.mid': 'Beethoven',\n 'midis/1262.mid': 'Bach',\n 'midis/1263.mid': 'Beethoven',\n 'midis/1264.mid': 'Beethoven',\n 'midis/1265.mid': 'Beethoven',\n 'midis/1266.mid': 'Beethoven',\n 'midis/1267.mid': 'Beethoven',\n 'midis/1268.mid': 'Beethoven',\n 'midis/1269.mid': 'Beethoven',\n 'midis/1270.mid': 'Beethoven',\n 'midis/1271.mid': 'Beethoven',\n 'midis/1272.mid': 'Beethoven',\n 'midis/1273.mid': 'Beethoven',\n 'midis/1274.mid': 'Beethoven',\n 'midis/1275.mid': 'Beethoven',\n 'midis/1276.mid': 'Beethoven',\n 'midis/1277.mid': 'Beethoven',\n 'midis/1278.mid': 'Bach',\n 'midis/1279.mid': 'Beethoven',\n 'midis/1280.mid': 'Beethoven',\n 'midis/1281.mid': 'Beethoven',\n 'midis/1282.mid': 'Beethoven',\n 'midis/1283.mid': 'Beethoven',\n 'midis/1284.mid': 'Beethoven',\n 'midis/1285.mid': 'Liszt',\n 'midis/1286.mid': 'Beethoven',\n 'midis/1287.mid': 'Beethoven',\n 'midis/1288.mid': 'Beethoven',\n 'midis/1289.mid': 'Beethoven',\n 'midis/1290.mid': 'Beethoven',\n 'midis/1291.mid': 'Beethoven',\n 'midis/1292.mid': 'Beethoven',\n 'midis/1293.mid': 'Beethoven',\n 'midis/1294.mid': 'Beethoven',\n 'midis/1295.mid': 'Beethoven',\n 'midis/1296.mid': 'Bach',\n 'midis/1297.mid': 'Beethoven',\n 'midis/1298.mid': 'Beethoven',\n 'midis/1299.mid': 'Chopin',\n 'midis/1300.mid': 'Beethoven',\n 'midis/1301.mid': 'Chopin',\n 'midis/1302.mid': 'Beethoven',\n 'midis/1303.mid': 'Beethoven',\n 'midis/1304.mid': 'Beethoven',\n 'midis/1305.mid': 'Beethoven',\n 'midis/1306.mid': 'Beethoven',\n 'midis/1307.mid': 'Beethoven',\n 'midis/1308.mid': 'Beethoven',\n 'midis/1309.mid': 'Schumann',\n 'midis/1310.mid': 'Beethoven',\n 'midis/1311.mid': 'Beethoven',\n 'midis/1312.mid': 'Beethoven',\n 'midis/1313.mid': 'Beethoven',\n 'midis/1314.mid': 'Beethoven',\n 'midis/1315.mid': 'Beethoven',\n 'midis/1316.mid': 'Beethoven',\n 'midis/1317.mid': 'Beethoven',\n 'midis/1318.mid': 'Bach',\n 'midis/1319.mid': 'Chopin',\n 'midis/1320.mid': 'Beethoven',\n 'midis/1321.mid': 'Beethoven',\n 'midis/1322.mid': 'Beethoven',\n 'midis/1323.mid': 'Bach',\n 'midis/1324.mid': 'Beethoven',\n 'midis/1325.mid': 'Beethoven',\n 'midis/1326.mid': 'Beethoven',\n 'midis/1327.mid': 'Beethoven',\n 'midis/1328.mid': 'Beethoven',\n 'midis/1329.mid': 'Beethoven',\n 'midis/1330.mid': 'Beethoven',\n 'midis/1331.mid': 'Bach',\n 'midis/1332.mid': 'Beethoven',\n 'midis/1333.mid': 'Beethoven',\n 'midis/1334.mid': 'Beethoven',\n 'midis/1335.mid': 'Beethoven',\n 'midis/1336.mid': 'Beethoven',\n 'midis/1337.mid': 'Bach',\n 'midis/1338.mid': 'Beethoven',\n 'midis/1339.mid': 'Beethoven',\n 'midis/1340.mid': 'Beethoven',\n 'midis/1341.mid': 'Schumann',\n 'midis/1342.mid': 'Beethoven',\n 'midis/1343.mid': 'Beethoven',\n 'midis/1344.mid': 'Beethoven',\n 'midis/1345.mid': 'Beethoven',\n 'midis/1346.mid': 'Beethoven',\n 'midis/1347.mid': 'Bach',\n 'midis/1348.mid': 'Beethoven',\n 'midis/1349.mid': 'Beethoven',\n 'midis/1350.mid': 'Beethoven',\n 'midis/1351.mid': 'Beethoven',\n 'midis/1352.mid': 'Beethoven',\n 'midis/1353.mid': 'Schubert',\n 'midis/1354.mid': 'Beethoven',\n 'midis/1355.mid': 'Beethoven',\n 'midis/1356.mid': 'Beethoven',\n 'midis/1357.mid': 'Beethoven',\n 'midis/1358.mid': 'Beethoven',\n 'midis/1359.mid': 'Beethoven',\n 'midis/1360.mid': 'Chopin',\n 'midis/1361.mid': 'Beethoven',\n 'midis/1362.mid': 'Beethoven',\n 'midis/1363.mid': 'Beethoven',\n 'midis/1364.mid': 'Beethoven',\n 'midis/1365.mid': 'Beethoven',\n 'midis/1366.mid': 'Beethoven',\n 'midis/1367.mid': 'Beethoven',\n 'midis/1368.mid': 'Beethoven',\n 'midis/1369.mid': 'Beethoven',\n 'midis/1370.mid': 'Beethoven',\n 'midis/1371.mid': 'Beethoven',\n 'midis/1372.mid': 'Bach',\n 'midis/1373.mid': 'Beethoven',\n 'midis/1374.mid': 'Liszt',\n 'midis/1375.mid': 'Beethoven',\n 'midis/1376.mid': 'Beethoven',\n 'midis/1377.mid': 'Bach',\n 'midis/1378.mid': 'Beethoven',\n 'midis/1379.mid': 'Beethoven',\n 'midis/1380.mid': 'Beethoven',\n 'midis/1381.mid': 'Beethoven',\n 'midis/1382.mid': 'Beethoven',\n 'midis/1383.mid': 'Beethoven',\n 'midis/1384.mid': 'Beethoven',\n 'midis/1385.mid': 'Beethoven',\n 'midis/1386.mid': 'Beethoven',\n 'midis/1387.mid': 'Beethoven',\n 'midis/1388.mid': 'Beethoven',\n 'midis/1389.mid': 'Beethoven',\n 'midis/1390.mid': 'Beethoven',\n 'midis/1391.mid': 'Beethoven',\n 'midis/1392.mid': 'Beethoven',\n 'midis/1393.mid': 'Beethoven',\n 'midis/1394.mid': 'Beethoven',\n 'midis/1395.mid': 'Beethoven',\n 'midis/1396.mid': 'Beethoven',\n 'midis/1397.mid': 'Beethoven',\n 'midis/1398.mid': 'Beethoven',\n 'midis/1399.mid': 'Beethoven',\n 'midis/1400.mid': 'Beethoven',\n 'midis/1401.mid': 'Beethoven',\n 'midis/1402.mid': 'Beethoven',\n 'midis/1403.mid': 'Beethoven',\n 'midis/1404.mid': 'Beethoven',\n 'midis/1405.mid': 'Beethoven',\n 'midis/1406.mid': 'Beethoven',\n 'midis/1407.mid': 'Beethoven',\n 'midis/1408.mid': 'Beethoven',\n 'midis/1409.mid': 'Bach',\n 'midis/1410.mid': 'Beethoven',\n 'midis/1411.mid': 'Beethoven',\n 'midis/1412.mid': 'Beethoven',\n 'midis/1413.mid': 'Beethoven',\n 'midis/1414.mid': 'Beethoven',\n 'midis/1415.mid': 'Beethoven',\n 'midis/1416.mid': 'Beethoven',\n 'midis/1417.mid': 'Bach',\n 'midis/1418.mid': 'Chopin',\n 'midis/1419.mid': 'Beethoven',\n 'midis/1420.mid': 'Bach',\n 'midis/1421.mid': 'Bach',\n 'midis/1422.mid': 'Beethoven',\n 'midis/1423.mid': 'Beethoven',\n 'midis/1424.mid': 'Bach',\n 'midis/1425.mid': 'Beethoven',\n 'midis/1426.mid': 'Beethoven',\n 'midis/1427.mid': 'Liszt',\n 'midis/1428.mid': 'Beethoven',\n 'midis/1429.mid': 'Bach',\n 'midis/1430.mid': 'Beethoven',\n 'midis/1431.mid': 'Bach',\n 'midis/1432.mid': 'Beethoven',\n 'midis/1433.mid': 'Beethoven',\n 'midis/1434.mid': 'Bach',\n 'midis/1435.mid': 'Beethoven',\n 'midis/1436.mid': 'Beethoven',\n 'midis/1437.mid': 'Bach',\n 'midis/1438.mid': 'Chopin',\n 'midis/1439.mid': 'Beethoven',\n 'midis/1440.mid': 'Beethoven',\n 'midis/1441.mid': 'Beethoven',\n 'midis/1442.mid': 'Bach',\n 'midis/1443.mid': 'Beethoven',\n 'midis/1444.mid': 'Chopin',\n 'midis/1445.mid': 'Beethoven',\n 'midis/1446.mid': 'Beethoven',\n 'midis/1447.mid': 'Beethoven',\n 'midis/1448.mid': 'Beethoven',\n 'midis/1449.mid': 'Beethoven',\n 'midis/1450.mid': 'Beethoven',\n 'midis/1451.mid': 'Schumann',\n 'midis/1452.mid': 'Beethoven',\n 'midis/1453.mid': 'Beethoven',\n 'midis/1454.mid': 'Beethoven',\n 'midis/1455.mid': 'Beethoven',\n 'midis/1456.mid': 'Beethoven',\n 'midis/1457.mid': 'Beethoven',\n 'midis/1458.mid': 'Beethoven',\n 'midis/1459.mid': 'Beethoven',\n 'midis/1460.mid': 'Chopin',\n 'midis/1461.mid': 'Beethoven',\n 'midis/1462.mid': 'Beethoven',\n 'midis/1463.mid': 'Beethoven',\n 'midis/1464.mid': 'Liszt',\n 'midis/1465.mid': 'Beethoven',\n 'midis/1466.mid': 'Beethoven',\n 'midis/1467.mid': 'Beethoven',\n 'midis/1468.mid': 'Beethoven',\n 'midis/1469.mid': 'Beethoven',\n 'midis/1470.mid': 'Beethoven',\n 'midis/1471.mid': 'Bach',\n 'midis/1472.mid': 'Beethoven',\n 'midis/1473.mid': 'Beethoven',\n 'midis/1474.mid': 'Beethoven',\n 'midis/1475.mid': 'Beethoven',\n 'midis/1476.mid': 'Bach',\n 'midis/1477.mid': 'Beethoven',\n 'midis/1478.mid': 'Beethoven',\n 'midis/1479.mid': 'Beethoven',\n 'midis/1480.mid': 'Beethoven',\n 'midis/1481.mid': 'Beethoven',\n 'midis/1482.mid': 'Beethoven',\n 'midis/1483.mid': 'Beethoven',\n 'midis/1484.mid': 'Beethoven',\n 'midis/1485.mid': 'Bach',\n 'midis/1486.mid': 'Beethoven',\n 'midis/1487.mid': 'Beethoven',\n 'midis/1488.mid': 'Beethoven',\n 'midis/1489.mid': 'Beethoven',\n 'midis/1490.mid': 'Beethoven',\n 'midis/1491.mid': 'Beethoven',\n 'midis/1492.mid': 'Beethoven',\n 'midis/1493.mid': 'Beethoven',\n 'midis/1494.mid': 'Bach',\n 'midis/1495.mid': 'Beethoven',\n 'midis/1496.mid': 'Beethoven',\n 'midis/1497.mid': 'Beethoven',\n 'midis/1498.mid': 'Beethoven',\n 'midis/1499.mid': 'Beethoven',\n 'midis/1500.mid': 'Beethoven',\n 'midis/1501.mid': 'Beethoven',\n 'midis/1502.mid': 'Beethoven',\n 'midis/1503.mid': 'Beethoven',\n 'midis/1504.mid': 'Beethoven',\n 'midis/1505.mid': 'Beethoven',\n 'midis/1506.mid': 'Beethoven',\n 'midis/1507.mid': 'Beethoven',\n 'midis/1508.mid': 'Beethoven',\n 'midis/1509.mid': 'Schumann',\n 'midis/1510.mid': 'Bach',\n 'midis/1511.mid': 'Beethoven',\n 'midis/1512.mid': 'Beethoven',\n 'midis/1513.mid': 'Beethoven',\n 'midis/1514.mid': 'Liszt',\n 'midis/1515.mid': 'Beethoven',\n 'midis/1516.mid': 'Beethoven',\n 'midis/1517.mid': 'Beethoven',\n 'midis/1518.mid': 'Liszt',\n 'midis/1519.mid': 'Beethoven',\n 'midis/1520.mid': 'Beethoven',\n 'midis/1521.mid': 'Beethoven',\n 'midis/1522.mid': 'Beethoven',\n 'midis/1523.mid': 'Beethoven',\n 'midis/1524.mid': 'Liszt',\n 'midis/1525.mid': 'Beethoven',\n 'midis/1526.mid': 'Chopin',\n 'midis/1527.mid': 'Beethoven',\n 'midis/1528.mid': 'Beethoven',\n 'midis/1529.mid': 'Beethoven',\n 'midis/1530.mid': 'Beethoven',\n 'midis/1531.mid': 'Beethoven',\n 'midis/1532.mid': 'Beethoven',\n 'midis/1533.mid': 'Beethoven',\n 'midis/1534.mid': 'Beethoven',\n 'midis/1535.mid': 'Bach',\n 'midis/1536.mid': 'Beethoven',\n 'midis/1537.mid': 'Beethoven',\n 'midis/1538.mid': 'Beethoven',\n 'midis/1539.mid': 'Beethoven',\n 'midis/1540.mid': 'Beethoven',\n 'midis/1541.mid': 'Beethoven',\n 'midis/1542.mid': 'Beethoven',\n 'midis/1543.mid': 'Beethoven',\n 'midis/1544.mid': 'Beethoven',\n 'midis/1545.mid': 'Beethoven',\n 'midis/1546.mid': 'Beethoven',\n 'midis/1547.mid': 'Beethoven',\n 'midis/1548.mid': 'Beethoven',\n 'midis/1549.mid': 'Beethoven',\n 'midis/1550.mid': 'Beethoven',\n 'midis/1551.mid': 'Beethoven',\n 'midis/1552.mid': 'Beethoven',\n 'midis/1553.mid': 'Chopin',\n 'midis/1554.mid': 'Beethoven',\n 'midis/1555.mid': 'Beethoven',\n 'midis/1556.mid': 'Beethoven',\n 'midis/1557.mid': 'Beethoven',\n 'midis/1558.mid': 'Beethoven',\n 'midis/1559.mid': 'Beethoven',\n 'midis/1560.mid': 'Beethoven',\n 'midis/1561.mid': 'Bach',\n 'midis/1562.mid': 'Bach',\n 'midis/1563.mid': 'Beethoven',\n 'midis/1564.mid': 'Beethoven',\n 'midis/1565.mid': 'Chopin',\n 'midis/1566.mid': 'Beethoven',\n 'midis/1567.mid': 'Chopin',\n 'midis/1568.mid': 'Beethoven',\n 'midis/1569.mid': 'Beethoven',\n 'midis/1570.mid': 'Beethoven',\n 'midis/1571.mid': 'Beethoven',\n 'midis/1572.mid': 'Beethoven',\n 'midis/1573.mid': 'Beethoven',\n 'midis/1574.mid': 'Beethoven',\n 'midis/1575.mid': 'Beethoven',\n 'midis/1576.mid': 'Bach',\n 'midis/1577.mid': 'Beethoven',\n 'midis/1578.mid': 'Beethoven',\n 'midis/1579.mid': 'Beethoven',\n 'midis/1580.mid': 'Beethoven',\n 'midis/1581.mid': 'Beethoven',\n 'midis/1582.mid': 'Bach',\n 'midis/1583.mid': 'Bach',\n 'midis/1584.mid': 'Beethoven',\n 'midis/1585.mid': 'Beethoven',\n 'midis/1586.mid': 'Beethoven',\n 'midis/1587.mid': 'Beethoven',\n 'midis/1588.mid': 'Beethoven',\n 'midis/1589.mid': 'Beethoven',\n 'midis/1590.mid': 'Beethoven',\n 'midis/1591.mid': 'Beethoven',\n 'midis/1592.mid': 'Beethoven',\n 'midis/1593.mid': 'Beethoven',\n 'midis/1594.mid': 'Beethoven',\n 'midis/1595.mid': 'Beethoven',\n 'midis/1596.mid': 'Bach',\n 'midis/1597.mid': 'Beethoven',\n 'midis/1598.mid': 'Beethoven'}"
     },
     "execution_count": 51,
     "metadata": {},
     "output_type": "execute_result"
    }
   ],
   "source": [
    "predict(dataroot1+\"/test.json\", \"predictions1.json\")"
   ],
   "metadata": {
    "collapsed": false,
    "ExecuteTime": {
     "end_time": "2025-05-20T21:54:07.478342Z",
     "start_time": "2025-05-20T21:52:59.874205Z"
    }
   },
   "id": "4e188f4c26d0fd98",
   "execution_count": 51
  },
  {
   "cell_type": "code",
   "outputs": [],
   "source": [],
   "metadata": {
    "collapsed": false
   },
   "id": "d6bf72f2e4f60b5c"
  }
 ],
 "metadata": {
  "kernelspec": {
   "display_name": "Python 3",
   "language": "python",
   "name": "python3"
  },
  "language_info": {
   "codemirror_mode": {
    "name": "ipython",
    "version": 2
   },
   "file_extension": ".py",
   "mimetype": "text/x-python",
   "name": "python",
   "nbconvert_exporter": "python",
   "pygments_lexer": "ipython2",
   "version": "2.7.6"
  }
 },
 "nbformat": 4,
 "nbformat_minor": 5
}
