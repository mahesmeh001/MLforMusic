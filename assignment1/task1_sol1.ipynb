{
 "cells": [
  {
   "cell_type": "markdown",
   "source": [
    "TASK 1\n",
    "About .7 perc acc w/ MLP based model "
   ],
   "metadata": {
    "collapsed": false
   },
   "id": "365d89d443f65455"
  },
  {
   "cell_type": "code",
   "execution_count": 4,
   "id": "initial_id",
   "metadata": {
    "collapsed": true,
    "ExecuteTime": {
     "end_time": "2025-05-07T20:39:18.527681Z",
     "start_time": "2025-05-07T20:39:16.835837Z"
    }
   },
   "outputs": [],
   "source": [
    "# Probably more imports than are really necessary...\n",
    "import os\n",
    "import torch\n",
    "import torchaudio\n",
    "from torch.utils.data import Dataset, DataLoader, random_split\n",
    "import torch.nn as nn\n",
    "import torch.nn.functional as F\n",
    "from torchaudio.transforms import MelSpectrogram, AmplitudeToDB\n",
    "from tqdm import tqdm\n",
    "import librosa\n",
    "import numpy as np\n",
    "import miditoolkit\n",
    "from sklearn.linear_model import LogisticRegression\n",
    "from sklearn.metrics import f1_score, average_precision_score, accuracy_score\n",
    "import random"
   ]
  },
  {
   "cell_type": "code",
   "outputs": [],
   "source": [
    "def accuracy1(groundtruth, predictions):\n",
    "    correct = 0\n",
    "    for k in groundtruth:\n",
    "        if not (k in predictions):\n",
    "            print(\"Missing \" + str(k) + \" from predictions\")\n",
    "            return 0\n",
    "        if predictions[k] == groundtruth[k]:\n",
    "            correct += 1\n",
    "    return correct / len(groundtruth)"
   ],
   "metadata": {
    "collapsed": false,
    "ExecuteTime": {
     "end_time": "2025-05-07T20:33:36.317465Z",
     "start_time": "2025-05-07T20:33:36.315445Z"
    }
   },
   "id": "4a81a8214c46e4e8",
   "execution_count": 2
  },
  {
   "cell_type": "code",
   "outputs": [],
   "source": [
    "dataroot1 = \"data/student_files/task1_composer_classification/\""
   ],
   "metadata": {
    "collapsed": false,
    "ExecuteTime": {
     "end_time": "2025-05-07T20:38:57.556466Z",
     "start_time": "2025-05-07T20:38:57.544982Z"
    }
   },
   "id": "57f7725253a006ad",
   "execution_count": 2
  },
  {
   "cell_type": "code",
   "outputs": [],
   "source": [
    "class model1():\n",
    "    def __init__(self):\n",
    "        pass\n",
    "\n",
    "    def features(self, path):\n",
    "        midi_obj = miditoolkit.midi.parser.MidiFile(dataroot1 + '/' + path)\n",
    "        notes = midi_obj.instruments[0].notes\n",
    "        num_notes = len(notes)\n",
    "        average_pitch = sum([note.pitch for note in notes]) / num_notes\n",
    "        average_duration = sum([note.end - note.start for note in notes]) / num_notes\n",
    "        features = [average_pitch, average_duration]\n",
    "        return features\n",
    "    \n",
    "    def predict(self, path, outpath=None):\n",
    "        d = eval(open(path, 'r').read())\n",
    "        predictions = {}\n",
    "        for k in d:\n",
    "            x = self.features(k)\n",
    "            pred = self.model.predict([x])\n",
    "            predictions[k] = str(pred[0])\n",
    "        if outpath:\n",
    "            with open(outpath, \"w\") as z:\n",
    "                z.write(str(predictions) + '\\n')\n",
    "        return predictions\n",
    "\n",
    "    # Train your model. Note that this function will not be called from the autograder:\n",
    "    # instead you should upload your saved model using save()\n",
    "    def train(self, path):\n",
    "        with open(path, 'r') as f:\n",
    "            train_json = eval(f.read())\n",
    "        X_train = [self.features(k) for k in train_json]\n",
    "        y_train = [train_json[k] for k in train_json]\n",
    "        \n",
    "        model = LogisticRegression(max_iter=1000)\n",
    "        model.fit(X_train, y_train)\n",
    "        self.model = model"
   ],
   "metadata": {
    "collapsed": false,
    "ExecuteTime": {
     "end_time": "2025-05-06T23:34:50.753837Z",
     "start_time": "2025-05-06T23:34:50.749138Z"
    }
   },
   "id": "75259b79043412a",
   "execution_count": 6
  },
  {
   "cell_type": "code",
   "outputs": [],
   "source": [
    "def run1():\n",
    "    model = model1()\n",
    "    model.train(dataroot1 + \"/train.json\")\n",
    "    train_preds = model.predict(dataroot1 + \"/train.json\")\n",
    "    test_preds = model.predict(dataroot1 + \"/test.json\", \"predictions1.json\")\n",
    "    \n",
    "    train_labels = eval(open(dataroot1 + \"/train.json\").read())\n",
    "    acc1 = accuracy1(train_labels, train_preds)\n",
    "    print(\"Task 1 training accuracy = \" + str(acc1))"
   ],
   "metadata": {
    "collapsed": false,
    "ExecuteTime": {
     "end_time": "2025-05-06T23:34:52.201686Z",
     "start_time": "2025-05-06T23:34:52.200331Z"
    }
   },
   "id": "37995c2bbe95759b",
   "execution_count": 7
  },
  {
   "cell_type": "markdown",
   "source": [
    "Custom Model "
   ],
   "metadata": {
    "collapsed": false
   },
   "id": "f83ae1a2b10f10d8"
  },
  {
   "cell_type": "code",
   "outputs": [],
   "source": [
    "import ast\n",
    "\n",
    "def create_artist_mapping(json_path):\n",
    "    with open(json_path, 'r') as f:\n",
    "        midi_to_artist = ast.literal_eval(f.read())\n",
    "        \n",
    "\n",
    "    unique_artists = sorted(set(midi_to_artist.values()))\n",
    "    id_to_artist = {i: artist for i, artist in enumerate(unique_artists)}\n",
    "\n",
    "    \n",
    "    return id_to_artist\n",
    "idToArtist = create_artist_mapping(\"data/student_files/task1_composer_classification/train.json\")"
   ],
   "metadata": {
    "collapsed": false,
    "ExecuteTime": {
     "end_time": "2025-05-07T20:42:03.514836Z",
     "start_time": "2025-05-07T20:42:03.502326Z"
    }
   },
   "id": "1eb051a850ec9ec0",
   "execution_count": 10
  },
  {
   "cell_type": "code",
   "outputs": [
    {
     "name": "stdout",
     "output_type": "stream",
     "text": [
      "8\n",
      "{0: 'Bach', 1: 'Beethoven', 2: 'Chopin', 3: 'Haydn', 4: 'Liszt', 5: 'Mozart', 6: 'Schubert', 7: 'Schumann'}\n",
      "{'Bach': 0, 'Beethoven': 1, 'Chopin': 2, 'Haydn': 3, 'Liszt': 4, 'Mozart': 5, 'Schubert': 6, 'Schumann': 7}\n"
     ]
    }
   ],
   "source": [
    "print(len(idToArtist))\n",
    "print(idToArtist)\n",
    "\n",
    "artistToId={}\n",
    "for key,value in idToArtist.items():\n",
    "    artistToId[value] = key\n",
    "print(artistToId)"
   ],
   "metadata": {
    "collapsed": false,
    "ExecuteTime": {
     "end_time": "2025-05-07T20:42:03.939646Z",
     "start_time": "2025-05-07T20:42:03.932430Z"
    }
   },
   "id": "8021ccd014c5168b",
   "execution_count": 11
  },
  {
   "cell_type": "code",
   "outputs": [],
   "source": [
    "def save_model(model, filepath='sol_1.pt'):\n",
    "    \"\"\"Save a PyTorch model to a file\"\"\"\n",
    "    torch.save(model.state_dict(), filepath)\n",
    "    print(f\"Model saved to {filepath}\")\n",
    "\n",
    "def load_model(model_class, filepath='sol_1.pt', *args, **kwargs):\n",
    "    \"\"\"Load a PyTorch model from a file\"\"\"\n",
    "    model = model_class(*args, **kwargs)  # instantiate the model\n",
    "    model.load_state_dict(torch.load(filepath))\n",
    "    model.eval()  # optional: sets dropout/batchnorm to eval mode\n",
    "    print(f\"Model loaded from {filepath}\")\n",
    "    return model\n"
   ],
   "metadata": {
    "collapsed": false,
    "ExecuteTime": {
     "end_time": "2025-05-07T20:48:52.414629Z",
     "start_time": "2025-05-07T20:48:52.405126Z"
    }
   },
   "id": "f51285f1e304fee5",
   "execution_count": 46
  },
  {
   "cell_type": "code",
   "outputs": [
    {
     "name": "stderr",
     "output_type": "stream",
     "text": [
      "/var/folders/wv/j6ybhf8906j4bmnp171wtn680000gn/T/ipykernel_31479/2530473368.py:129: UserWarning: To copy construct from a tensor, it is recommended to use sourceTensor.detach().clone() or sourceTensor.detach().clone().requires_grad_(True), rather than torch.tensor(sourceTensor).\n",
      "  X = [torch.tensor(features(key), dtype=torch.float32) for key, value in train_json.items()]\n"
     ]
    },
    {
     "name": "stdout",
     "output_type": "stream",
     "text": [
      "tensor([-300.4484,  216.7425,   20.6186,  ...,  101.0000,   55.0000,\n",
      "          70.3854])\n",
      "tensor(2)\n"
     ]
    }
   ],
   "source": [
    "from mido import MidiFile\n",
    "from sklearn.model_selection import train_test_split\n",
    "from itertools import islice\n",
    "import fluidsynth\n",
    "\n",
    "SAMPLE_RATE = 25000\n",
    "\n",
    "# create train loader \n",
    "\n",
    "\n",
    "def get_lowest_pitch(file_path):\n",
    "    # Initialize lowest_note to a high value (since MIDI notes are from 0 to 127)\n",
    "    lowest_note = 128  \n",
    "    mid = MidiFile(file_path)\n",
    "    \n",
    "    for track in mid.tracks:\n",
    "        for msg in track:\n",
    "            if msg.type == 'note_on' and msg.velocity > 0:\n",
    "                if msg.note < lowest_note:\n",
    "                    lowest_note = msg.note\n",
    "    \n",
    "    # Return None if no note is found\n",
    "    return lowest_note if lowest_note != 128 else None\n",
    "\n",
    "def get_highest_pitch(file_path):\n",
    "    # Initialize highest_note to a low value (since MIDI notes are from 0 to 127)\n",
    "    highest_note = -1  \n",
    "    mid = MidiFile(file_path)\n",
    "    \n",
    "    for track in mid.tracks:\n",
    "        for msg in track:\n",
    "            if msg.type == 'note_on' and msg.velocity > 0:\n",
    "                if msg.note > highest_note:\n",
    "                    highest_note = msg.note\n",
    "                    \n",
    "    # Return None if no note is found\n",
    "    return highest_note if highest_note != -1 else None\n",
    "\n",
    "def get_unique_pitch_num(file_path):\n",
    "    mid = MidiFile(file_path)\n",
    "    notes = set()\n",
    "    \n",
    "    for track in mid.tracks:\n",
    "        for msg in track:\n",
    "            if msg.type == 'note_on' and msg.velocity > 0:\n",
    "                notes.add(msg.note)\n",
    "    \n",
    "    return len(notes)\n",
    "\n",
    "def get_average_pitch_value(file_path):\n",
    "    #Q8: Your code goes here\n",
    "    mid = MidiFile(file_path)\n",
    "    \n",
    "    notes = []\n",
    "    for track in mid.tracks:\n",
    "        for msg in track:\n",
    "            if msg.type == 'note_on' and msg.velocity > 0:\n",
    "                notes.append(msg.note)\n",
    "    \n",
    "    if notes:\n",
    "        return sum(notes) / len(notes)\n",
    "    else:\n",
    "        return None\n",
    "\n",
    "def extract_waveform(path):\n",
    "    # Your code here\n",
    "    wave, sr = librosa.load(path, sr=SAMPLE_RATE)\n",
    "    return wave \n",
    "\n",
    "def extract_mfcc(w):\n",
    "    # Your code here:\n",
    "    # load using librosa.feature.mfcc\n",
    "    mfcc = librosa.feature.mfcc(y=w, sr=SAMPLE_RATE, n_mfcc = 13)\n",
    "    # extract mean and \n",
    "    means = np.mean(mfcc, axis=1)\n",
    "    \n",
    "    stds = np.std(mfcc, axis=1)\n",
    "    # concatenate\n",
    "    features = np.concatenate([means, stds])\n",
    "    \n",
    "    return torch.FloatTensor(features)\n",
    "\n",
    "def extract_spec(w):\n",
    "    # Your code here\n",
    "    # load\n",
    "    stft = librosa.stft(y=w)\n",
    "    # take squared absolute values\n",
    "    spec = np.abs(stft) ** 2\n",
    "    \n",
    "    return torch.FloatTensor(spec)\n",
    "\n",
    "import pretty_midi\n",
    "\n",
    "def features(path):\n",
    "    # https://medium.com/composer-style-classification-using-deep-learning/composer-style-classification-using-deep-learning-6bab64490995\n",
    "    #Spectral Centroid, Zero Crossing Rate, Chroma Frequencies, and Spectral Roll-off\n",
    "    \n",
    "    \"\"\"Extract robust features from all MIDI tracks for composer classification.\"\"\"\n",
    "    full_path = dataroot1 + '/' + path\n",
    "    \n",
    "    midi_obj = pretty_midi.PrettyMIDI(full_path)\n",
    "    \n",
    "    # Synthesize to waveform\n",
    "    w = midi_obj.fluidsynth()  # returns np array of audio\n",
    "        \n",
    "    mfcc = extract_mfcc(w) #TODO: Try and improve acc w just mfcc\n",
    "    spec = extract_spec(w).mean(dim=1)  # optionally compress spectrogram\n",
    "\n",
    "    extra = torch.tensor([\n",
    "        get_lowest_pitch(full_path) or 0,\n",
    "        get_highest_pitch(full_path) or 0,\n",
    "        get_unique_pitch_num(full_path),\n",
    "        get_average_pitch_value(full_path) or 0\n",
    "    ], dtype=torch.float64)\n",
    "\n",
    "    return torch.cat([mfcc, spec, extra])\n",
    "\n",
    "\n",
    "def create_train_features(size=None, val_split=0.2):\n",
    "    # Load data\n",
    "    with open(dataroot1 + \"/train.json\", 'r') as f:\n",
    "        train_json = eval(f.read())\n",
    "    \n",
    "    # Limit size if specified\n",
    "    if size is not None:\n",
    "        train_json = dict(list(train_json.items())[:size])\n",
    "    \n",
    "    # Extract features and labels\n",
    "    X = [torch.tensor(features(key), dtype=torch.float32) for key, value in train_json.items()]\n",
    "    Y = [artistToId[value] for key, value in train_json.items()]\n",
    "    \n",
    "    # Convert lists to tensors\n",
    "    X = torch.stack(X)\n",
    "    Y = torch.tensor(Y, dtype=torch.int64)\n",
    "    \n",
    "    # Return all data if no validation split needed\n",
    "    if val_split <= 0:\n",
    "        return X, Y\n",
    "    \n",
    "    # Split into training and validation sets\n",
    "    X_train, X_val, Y_train, Y_val = train_test_split(\n",
    "        X, Y, test_size=val_split, random_state=42, shuffle=True\n",
    "    )\n",
    "    \n",
    "    return X_train, Y_train, X_val, Y_val\n",
    "    \n",
    "    \n",
    "X_train, y_train, X_val, y_val = create_train_features()\n",
    "\n",
    "print(X_train[0])\n",
    "print(y_train[0])\n"
   ],
   "metadata": {
    "collapsed": false,
    "ExecuteTime": {
     "end_time": "2025-05-07T20:55:18.476727Z",
     "start_time": "2025-05-07T20:50:01.643242Z"
    }
   },
   "id": "90c4c5c466e04515",
   "execution_count": 56
  },
  {
   "cell_type": "code",
   "outputs": [
    {
     "name": "stdout",
     "output_type": "stream",
     "text": [
      "1055\n"
     ]
    }
   ],
   "source": [
    "print(len(X_train[0]))\n",
    "feature_size = (len(X_train[0]))\n"
   ],
   "metadata": {
    "collapsed": false,
    "ExecuteTime": {
     "end_time": "2025-05-07T20:55:18.490481Z",
     "start_time": "2025-05-07T20:55:18.477858Z"
    }
   },
   "id": "d34bd676d4b4bef3",
   "execution_count": 57
  },
  {
   "cell_type": "code",
   "outputs": [],
   "source": [
    "from torch.utils.data import TensorDataset, DataLoader\n",
    "\n",
    "train_dataset = TensorDataset(X_train, y_train)\n",
    "train_loader = DataLoader(train_dataset, batch_size=32, shuffle=True)\n",
    "\n",
    "val_dataset = TensorDataset(X_val, y_val)\n",
    "val_loader = DataLoader(val_dataset, batch_size=32, shuffle=True)"
   ],
   "metadata": {
    "collapsed": false,
    "ExecuteTime": {
     "end_time": "2025-05-07T20:55:18.490915Z",
     "start_time": "2025-05-07T20:55:18.480331Z"
    }
   },
   "id": "27edf1843d4b8595",
   "execution_count": 58
  },
  {
   "cell_type": "code",
   "outputs": [],
   "source": [
    "class MLPClassifier(nn.Module):\n",
    "    def __init__(self, input_dim=feature_size, num_classes=8):\n",
    "        super().__init__()\n",
    "        self.__init_args__ = (input_dim,)\n",
    "        self.__init_kwargs__ = {'num_classes': num_classes}\n",
    "        self.input_dim = input_dim\n",
    "        \n",
    "        # Feature processing network\n",
    "        self.feature_net = nn.Sequential(\n",
    "            nn.Linear(self.input_dim, 256),\n",
    "            nn.BatchNorm1d(256),\n",
    "            nn.LeakyReLU(0.2),\n",
    "            nn.Dropout(0.3),\n",
    "            \n",
    "            nn.Linear(256, 512),\n",
    "            nn.BatchNorm1d(512),\n",
    "            nn.LeakyReLU(0.2),\n",
    "            nn.Dropout(0.4)\n",
    "        )\n",
    "        \n",
    "        # Attention mechanism for feature weighting\n",
    "        self.attention = nn.Sequential(\n",
    "            nn.Linear(512, 128),\n",
    "            nn.Tanh(),\n",
    "            nn.Linear(128, 1)\n",
    "        )\n",
    "        \n",
    "        # Classification head\n",
    "        self.classifier = nn.Sequential(\n",
    "            nn.Linear(512, 256),\n",
    "            nn.BatchNorm1d(256),\n",
    "            nn.LeakyReLU(0.2),\n",
    "            nn.Dropout(0.3),\n",
    "            \n",
    "            nn.Linear(256, 128),\n",
    "            nn.BatchNorm1d(128),\n",
    "            nn.LeakyReLU(0.2),\n",
    "            nn.Linear(128, num_classes)\n",
    "        )\n",
    "\n",
    "    def forward(self, x):\n",
    "        # Process features\n",
    "        features = self.feature_net(x)\n",
    "        \n",
    "        # Apply attention (optional branch)\n",
    "        attention_weights = torch.sigmoid(self.attention(features))\n",
    "        weighted_features = features * attention_weights\n",
    "        \n",
    "        # Final classification\n",
    "        logits = self.classifier(weighted_features)\n",
    "        return logits\n",
    "        \n",
    "    def extract_features(self, x):\n",
    "        \"\"\"Return intermediate feature representation\"\"\"\n",
    "        return self.feature_net(x)"
   ],
   "metadata": {
    "collapsed": false,
    "ExecuteTime": {
     "end_time": "2025-05-07T21:30:43.172766Z",
     "start_time": "2025-05-07T21:30:43.141641Z"
    }
   },
   "id": "53207266d5e6acff",
   "execution_count": 66
  },
  {
   "cell_type": "code",
   "outputs": [],
   "source": [
    "from torch.optim.lr_scheduler import ReduceLROnPlateau\n",
    "from torch import optim\n",
    "\n",
    "\n",
    "class model2():\n",
    "    def __init__(self):\n",
    "        # self.model = MLPClassifier()\n",
    "        self.model = SimpleCNN()\n",
    "        self.train_acc = []\n",
    "        self.val_acc = []\n",
    "        return\n",
    "    \n",
    "    def predict(self, path, outpath=None):\n",
    "        d = eval(open(path, 'r').read())\n",
    "        predictions = {}\n",
    "        for k in d:\n",
    "            x = (torch.tensor(features(k), dtype=torch.float32))\n",
    "            pred = self.model.predict([x])\n",
    "            predictions[k] = str(idToArtist[pred[0]])\n",
    "        if outpath:\n",
    "            with open(outpath, \"w\") as z:\n",
    "                z.write(str(predictions) + '\\n')\n",
    "        return predictions\n",
    "\n",
    "    # Train your model. Note that this function will not be called from the autograder:\n",
    "    # instead you should upload your saved model using save()\n",
    "    import torch\n",
    "\n",
    "    def train(self, train_loader, val_loader, epochs=5):\n",
    "        \n",
    "        model = self.model\n",
    "        criterion = nn.CrossEntropyLoss()  \n",
    "        optimizer = optim.Adam(model.parameters(), lr=0.001)\n",
    "        scheduler = ReduceLROnPlateau(optimizer, mode='max', factor=0.5, patience=3)\n",
    "        \n",
    "    \n",
    "        train_acc = []\n",
    "        val_acc = []\n",
    "    \n",
    "        best_val_acc = 0.0\n",
    "        patience_counter = 0\n",
    "        patience=10\n",
    "    \n",
    "        for epoch in range(epochs):\n",
    "            model.train()\n",
    "            correct_train = 0\n",
    "            total_train = 0\n",
    "            for batch_x, batch_y in train_loader:\n",
    "                optimizer.zero_grad()\n",
    "                outputs = model(batch_x)\n",
    "                loss = criterion(outputs, batch_y)\n",
    "                loss.backward()\n",
    "                optimizer.step()\n",
    "                _, predicted = torch.max(outputs.data, 1)\n",
    "                total_train += batch_y.size(0)\n",
    "                correct_train += (predicted == batch_y).sum().item()\n",
    "    \n",
    "            train_accuracy = correct_train / total_train\n",
    "            train_acc.append(train_accuracy)\n",
    "    \n",
    "            # Validation\n",
    "            model.eval()\n",
    "            correct_val = 0\n",
    "            total_val = 0\n",
    "            with torch.no_grad():\n",
    "                for batch_x, batch_y in val_loader:\n",
    "                    outputs = model(batch_x)\n",
    "                    _, predicted = torch.max(outputs.data, 1)\n",
    "                    total_val += batch_y.size(0)\n",
    "                    correct_val += (predicted == batch_y).sum().item()\n",
    "    \n",
    "            val_accuracy = correct_val / total_val\n",
    "            val_acc.append(val_accuracy)\n",
    "            \n",
    "            print(f'Epoch [{epoch+1}/{epochs}], Train Accuracy: {train_accuracy:.4f}, Validation Accuracy: {val_accuracy:.4f}')\n",
    "    \n",
    "            # Step the LR scheduler\n",
    "            scheduler.step(val_accuracy)\n",
    "    \n",
    "            # Early Stopping\n",
    "            if val_accuracy > best_val_acc:\n",
    "                best_val_acc = val_accuracy\n",
    "                patience_counter = 0\n",
    "                best_model_state = model.state_dict()  # Save best model\n",
    "            else:\n",
    "                patience_counter += 1\n",
    "                if patience_counter >= patience:\n",
    "                    print(\"Early stopping triggered.\")\n",
    "                    break\n",
    "    \n",
    "        # Load best model state\n",
    "        model.load_state_dict(best_model_state)\n",
    "    \n",
    "        self.train_acc = train_acc\n",
    "        self.val_acc = val_acc\n",
    "        self.model = model\n",
    "                \n",
    "    def get_train_acc(self):\n",
    "        return self.train_acc, self.val_acc\n",
    "    \n",
    "    def _get_model_copy(self, model):\n",
    "        \"\"\"Create a deep copy of the model.\"\"\"\n",
    "        model_copy = type(model)(*model.__init_args__, **model.__init_kwargs__)\n",
    "        model_copy.load_state_dict(model.state_dict())\n",
    "        return model_copy"
   ],
   "metadata": {
    "collapsed": false,
    "ExecuteTime": {
     "end_time": "2025-05-07T23:03:16.438130Z",
     "start_time": "2025-05-07T23:03:16.426909Z"
    }
   },
   "id": "e5df887fd03f94ad",
   "execution_count": 79
  },
  {
   "cell_type": "code",
   "outputs": [
    {
     "ename": "RuntimeError",
     "evalue": "Given groups=1, weight of size [16, 1, 3, 3], expected input[1, 32, 1, 1055] to have 1 channels, but got 32 channels instead",
     "output_type": "error",
     "traceback": [
      "\u001B[0;31m---------------------------------------------------------------------------\u001B[0m",
      "\u001B[0;31mRuntimeError\u001B[0m                              Traceback (most recent call last)",
      "Cell \u001B[0;32mIn[80], line 3\u001B[0m\n\u001B[1;32m      1\u001B[0m EPOCHS \u001B[38;5;241m=\u001B[39m \u001B[38;5;241m100\u001B[39m\n\u001B[1;32m      2\u001B[0m model \u001B[38;5;241m=\u001B[39m model2()\n\u001B[0;32m----> 3\u001B[0m \u001B[43mmodel\u001B[49m\u001B[38;5;241;43m.\u001B[39;49m\u001B[43mtrain\u001B[49m\u001B[43m(\u001B[49m\u001B[43mtrain_loader\u001B[49m\u001B[43m,\u001B[49m\u001B[43m \u001B[49m\u001B[43mval_loader\u001B[49m\u001B[43m,\u001B[49m\u001B[43m \u001B[49m\u001B[43mEPOCHS\u001B[49m\u001B[43m)\u001B[49m\n\u001B[1;32m      6\u001B[0m \u001B[38;5;66;03m# train_preds = model.predict(dataroot1 + \"/train.json\")\u001B[39;00m\n\u001B[1;32m      7\u001B[0m \u001B[38;5;66;03m# test_preds = model.predict(dataroot1 + \"/test.json\", \"predictions1.json\")\u001B[39;00m\n\u001B[1;32m      8\u001B[0m \u001B[38;5;66;03m# \u001B[39;00m\n\u001B[1;32m      9\u001B[0m \u001B[38;5;66;03m# train_labels = eval(open(dataroot1 + \"/train.json\").read())\u001B[39;00m\n\u001B[1;32m     10\u001B[0m \u001B[38;5;66;03m# acc1 = accuracy1(train_labels, train_preds)\u001B[39;00m\n\u001B[1;32m     11\u001B[0m \u001B[38;5;66;03m# print(\"Task 1 training accuracy = \" + str(acc1))\u001B[39;00m\n",
      "Cell \u001B[0;32mIn[79], line 51\u001B[0m, in \u001B[0;36mmodel2.train\u001B[0;34m(self, train_loader, val_loader, epochs)\u001B[0m\n\u001B[1;32m     49\u001B[0m \u001B[38;5;28;01mfor\u001B[39;00m batch_x, batch_y \u001B[38;5;129;01min\u001B[39;00m train_loader:\n\u001B[1;32m     50\u001B[0m     optimizer\u001B[38;5;241m.\u001B[39mzero_grad()\n\u001B[0;32m---> 51\u001B[0m     outputs \u001B[38;5;241m=\u001B[39m \u001B[43mmodel\u001B[49m\u001B[43m(\u001B[49m\u001B[43mbatch_x\u001B[49m\u001B[43m)\u001B[49m\n\u001B[1;32m     52\u001B[0m     loss \u001B[38;5;241m=\u001B[39m criterion(outputs, batch_y)\n\u001B[1;32m     53\u001B[0m     loss\u001B[38;5;241m.\u001B[39mbackward()\n",
      "File \u001B[0;32m~/Documents/UCSD Classes/ML for Music/MLforMusic/.venv/lib/python3.9/site-packages/torch/nn/modules/module.py:1751\u001B[0m, in \u001B[0;36mModule._wrapped_call_impl\u001B[0;34m(self, *args, **kwargs)\u001B[0m\n\u001B[1;32m   1749\u001B[0m     \u001B[38;5;28;01mreturn\u001B[39;00m \u001B[38;5;28mself\u001B[39m\u001B[38;5;241m.\u001B[39m_compiled_call_impl(\u001B[38;5;241m*\u001B[39margs, \u001B[38;5;241m*\u001B[39m\u001B[38;5;241m*\u001B[39mkwargs)  \u001B[38;5;66;03m# type: ignore[misc]\u001B[39;00m\n\u001B[1;32m   1750\u001B[0m \u001B[38;5;28;01melse\u001B[39;00m:\n\u001B[0;32m-> 1751\u001B[0m     \u001B[38;5;28;01mreturn\u001B[39;00m \u001B[38;5;28;43mself\u001B[39;49m\u001B[38;5;241;43m.\u001B[39;49m\u001B[43m_call_impl\u001B[49m\u001B[43m(\u001B[49m\u001B[38;5;241;43m*\u001B[39;49m\u001B[43margs\u001B[49m\u001B[43m,\u001B[49m\u001B[43m \u001B[49m\u001B[38;5;241;43m*\u001B[39;49m\u001B[38;5;241;43m*\u001B[39;49m\u001B[43mkwargs\u001B[49m\u001B[43m)\u001B[49m\n",
      "File \u001B[0;32m~/Documents/UCSD Classes/ML for Music/MLforMusic/.venv/lib/python3.9/site-packages/torch/nn/modules/module.py:1762\u001B[0m, in \u001B[0;36mModule._call_impl\u001B[0;34m(self, *args, **kwargs)\u001B[0m\n\u001B[1;32m   1757\u001B[0m \u001B[38;5;66;03m# If we don't have any hooks, we want to skip the rest of the logic in\u001B[39;00m\n\u001B[1;32m   1758\u001B[0m \u001B[38;5;66;03m# this function, and just call forward.\u001B[39;00m\n\u001B[1;32m   1759\u001B[0m \u001B[38;5;28;01mif\u001B[39;00m \u001B[38;5;129;01mnot\u001B[39;00m (\u001B[38;5;28mself\u001B[39m\u001B[38;5;241m.\u001B[39m_backward_hooks \u001B[38;5;129;01mor\u001B[39;00m \u001B[38;5;28mself\u001B[39m\u001B[38;5;241m.\u001B[39m_backward_pre_hooks \u001B[38;5;129;01mor\u001B[39;00m \u001B[38;5;28mself\u001B[39m\u001B[38;5;241m.\u001B[39m_forward_hooks \u001B[38;5;129;01mor\u001B[39;00m \u001B[38;5;28mself\u001B[39m\u001B[38;5;241m.\u001B[39m_forward_pre_hooks\n\u001B[1;32m   1760\u001B[0m         \u001B[38;5;129;01mor\u001B[39;00m _global_backward_pre_hooks \u001B[38;5;129;01mor\u001B[39;00m _global_backward_hooks\n\u001B[1;32m   1761\u001B[0m         \u001B[38;5;129;01mor\u001B[39;00m _global_forward_hooks \u001B[38;5;129;01mor\u001B[39;00m _global_forward_pre_hooks):\n\u001B[0;32m-> 1762\u001B[0m     \u001B[38;5;28;01mreturn\u001B[39;00m \u001B[43mforward_call\u001B[49m\u001B[43m(\u001B[49m\u001B[38;5;241;43m*\u001B[39;49m\u001B[43margs\u001B[49m\u001B[43m,\u001B[49m\u001B[43m \u001B[49m\u001B[38;5;241;43m*\u001B[39;49m\u001B[38;5;241;43m*\u001B[39;49m\u001B[43mkwargs\u001B[49m\u001B[43m)\u001B[49m\n\u001B[1;32m   1764\u001B[0m result \u001B[38;5;241m=\u001B[39m \u001B[38;5;28;01mNone\u001B[39;00m\n\u001B[1;32m   1765\u001B[0m called_always_called_hooks \u001B[38;5;241m=\u001B[39m \u001B[38;5;28mset\u001B[39m()\n",
      "Cell \u001B[0;32mIn[60], line 22\u001B[0m, in \u001B[0;36mSimpleCNN.forward\u001B[0;34m(self, x)\u001B[0m\n\u001B[1;32m     20\u001B[0m \u001B[38;5;28;01mdef\u001B[39;00m\u001B[38;5;250m \u001B[39m\u001B[38;5;21mforward\u001B[39m(\u001B[38;5;28mself\u001B[39m, x):\n\u001B[1;32m     21\u001B[0m     x \u001B[38;5;241m=\u001B[39m x\u001B[38;5;241m.\u001B[39munsqueeze(\u001B[38;5;241m1\u001B[39m)\n\u001B[0;32m---> 22\u001B[0m     x \u001B[38;5;241m=\u001B[39m \u001B[38;5;28mself\u001B[39m\u001B[38;5;241m.\u001B[39mpool1(nnF\u001B[38;5;241m.\u001B[39mrelu(\u001B[38;5;28mself\u001B[39m\u001B[38;5;241m.\u001B[39mbn1(\u001B[38;5;28;43mself\u001B[39;49m\u001B[38;5;241;43m.\u001B[39;49m\u001B[43mconv1\u001B[49m\u001B[43m(\u001B[49m\u001B[43mx\u001B[49m\u001B[43m)\u001B[49m)))\n\u001B[1;32m     23\u001B[0m     x \u001B[38;5;241m=\u001B[39m \u001B[38;5;28mself\u001B[39m\u001B[38;5;241m.\u001B[39mpool2(nnF\u001B[38;5;241m.\u001B[39mrelu(\u001B[38;5;28mself\u001B[39m\u001B[38;5;241m.\u001B[39mbn2(\u001B[38;5;28mself\u001B[39m\u001B[38;5;241m.\u001B[39mconv2(x))))\n\u001B[1;32m     24\u001B[0m     x \u001B[38;5;241m=\u001B[39m \u001B[38;5;28mself\u001B[39m\u001B[38;5;241m.\u001B[39mpool3(nnF\u001B[38;5;241m.\u001B[39mrelu(\u001B[38;5;28mself\u001B[39m\u001B[38;5;241m.\u001B[39mbn3(\u001B[38;5;28mself\u001B[39m\u001B[38;5;241m.\u001B[39mconv3(x))))\n",
      "File \u001B[0;32m~/Documents/UCSD Classes/ML for Music/MLforMusic/.venv/lib/python3.9/site-packages/torch/nn/modules/module.py:1751\u001B[0m, in \u001B[0;36mModule._wrapped_call_impl\u001B[0;34m(self, *args, **kwargs)\u001B[0m\n\u001B[1;32m   1749\u001B[0m     \u001B[38;5;28;01mreturn\u001B[39;00m \u001B[38;5;28mself\u001B[39m\u001B[38;5;241m.\u001B[39m_compiled_call_impl(\u001B[38;5;241m*\u001B[39margs, \u001B[38;5;241m*\u001B[39m\u001B[38;5;241m*\u001B[39mkwargs)  \u001B[38;5;66;03m# type: ignore[misc]\u001B[39;00m\n\u001B[1;32m   1750\u001B[0m \u001B[38;5;28;01melse\u001B[39;00m:\n\u001B[0;32m-> 1751\u001B[0m     \u001B[38;5;28;01mreturn\u001B[39;00m \u001B[38;5;28;43mself\u001B[39;49m\u001B[38;5;241;43m.\u001B[39;49m\u001B[43m_call_impl\u001B[49m\u001B[43m(\u001B[49m\u001B[38;5;241;43m*\u001B[39;49m\u001B[43margs\u001B[49m\u001B[43m,\u001B[49m\u001B[43m \u001B[49m\u001B[38;5;241;43m*\u001B[39;49m\u001B[38;5;241;43m*\u001B[39;49m\u001B[43mkwargs\u001B[49m\u001B[43m)\u001B[49m\n",
      "File \u001B[0;32m~/Documents/UCSD Classes/ML for Music/MLforMusic/.venv/lib/python3.9/site-packages/torch/nn/modules/module.py:1762\u001B[0m, in \u001B[0;36mModule._call_impl\u001B[0;34m(self, *args, **kwargs)\u001B[0m\n\u001B[1;32m   1757\u001B[0m \u001B[38;5;66;03m# If we don't have any hooks, we want to skip the rest of the logic in\u001B[39;00m\n\u001B[1;32m   1758\u001B[0m \u001B[38;5;66;03m# this function, and just call forward.\u001B[39;00m\n\u001B[1;32m   1759\u001B[0m \u001B[38;5;28;01mif\u001B[39;00m \u001B[38;5;129;01mnot\u001B[39;00m (\u001B[38;5;28mself\u001B[39m\u001B[38;5;241m.\u001B[39m_backward_hooks \u001B[38;5;129;01mor\u001B[39;00m \u001B[38;5;28mself\u001B[39m\u001B[38;5;241m.\u001B[39m_backward_pre_hooks \u001B[38;5;129;01mor\u001B[39;00m \u001B[38;5;28mself\u001B[39m\u001B[38;5;241m.\u001B[39m_forward_hooks \u001B[38;5;129;01mor\u001B[39;00m \u001B[38;5;28mself\u001B[39m\u001B[38;5;241m.\u001B[39m_forward_pre_hooks\n\u001B[1;32m   1760\u001B[0m         \u001B[38;5;129;01mor\u001B[39;00m _global_backward_pre_hooks \u001B[38;5;129;01mor\u001B[39;00m _global_backward_hooks\n\u001B[1;32m   1761\u001B[0m         \u001B[38;5;129;01mor\u001B[39;00m _global_forward_hooks \u001B[38;5;129;01mor\u001B[39;00m _global_forward_pre_hooks):\n\u001B[0;32m-> 1762\u001B[0m     \u001B[38;5;28;01mreturn\u001B[39;00m \u001B[43mforward_call\u001B[49m\u001B[43m(\u001B[49m\u001B[38;5;241;43m*\u001B[39;49m\u001B[43margs\u001B[49m\u001B[43m,\u001B[49m\u001B[43m \u001B[49m\u001B[38;5;241;43m*\u001B[39;49m\u001B[38;5;241;43m*\u001B[39;49m\u001B[43mkwargs\u001B[49m\u001B[43m)\u001B[49m\n\u001B[1;32m   1764\u001B[0m result \u001B[38;5;241m=\u001B[39m \u001B[38;5;28;01mNone\u001B[39;00m\n\u001B[1;32m   1765\u001B[0m called_always_called_hooks \u001B[38;5;241m=\u001B[39m \u001B[38;5;28mset\u001B[39m()\n",
      "File \u001B[0;32m~/Documents/UCSD Classes/ML for Music/MLforMusic/.venv/lib/python3.9/site-packages/torch/nn/modules/conv.py:554\u001B[0m, in \u001B[0;36mConv2d.forward\u001B[0;34m(self, input)\u001B[0m\n\u001B[1;32m    553\u001B[0m \u001B[38;5;28;01mdef\u001B[39;00m\u001B[38;5;250m \u001B[39m\u001B[38;5;21mforward\u001B[39m(\u001B[38;5;28mself\u001B[39m, \u001B[38;5;28minput\u001B[39m: Tensor) \u001B[38;5;241m-\u001B[39m\u001B[38;5;241m>\u001B[39m Tensor:\n\u001B[0;32m--> 554\u001B[0m     \u001B[38;5;28;01mreturn\u001B[39;00m \u001B[38;5;28;43mself\u001B[39;49m\u001B[38;5;241;43m.\u001B[39;49m\u001B[43m_conv_forward\u001B[49m\u001B[43m(\u001B[49m\u001B[38;5;28;43minput\u001B[39;49m\u001B[43m,\u001B[49m\u001B[43m \u001B[49m\u001B[38;5;28;43mself\u001B[39;49m\u001B[38;5;241;43m.\u001B[39;49m\u001B[43mweight\u001B[49m\u001B[43m,\u001B[49m\u001B[43m \u001B[49m\u001B[38;5;28;43mself\u001B[39;49m\u001B[38;5;241;43m.\u001B[39;49m\u001B[43mbias\u001B[49m\u001B[43m)\u001B[49m\n",
      "File \u001B[0;32m~/Documents/UCSD Classes/ML for Music/MLforMusic/.venv/lib/python3.9/site-packages/torch/nn/modules/conv.py:549\u001B[0m, in \u001B[0;36mConv2d._conv_forward\u001B[0;34m(self, input, weight, bias)\u001B[0m\n\u001B[1;32m    537\u001B[0m \u001B[38;5;28;01mif\u001B[39;00m \u001B[38;5;28mself\u001B[39m\u001B[38;5;241m.\u001B[39mpadding_mode \u001B[38;5;241m!=\u001B[39m \u001B[38;5;124m\"\u001B[39m\u001B[38;5;124mzeros\u001B[39m\u001B[38;5;124m\"\u001B[39m:\n\u001B[1;32m    538\u001B[0m     \u001B[38;5;28;01mreturn\u001B[39;00m F\u001B[38;5;241m.\u001B[39mconv2d(\n\u001B[1;32m    539\u001B[0m         F\u001B[38;5;241m.\u001B[39mpad(\n\u001B[1;32m    540\u001B[0m             \u001B[38;5;28minput\u001B[39m, \u001B[38;5;28mself\u001B[39m\u001B[38;5;241m.\u001B[39m_reversed_padding_repeated_twice, mode\u001B[38;5;241m=\u001B[39m\u001B[38;5;28mself\u001B[39m\u001B[38;5;241m.\u001B[39mpadding_mode\n\u001B[0;32m   (...)\u001B[0m\n\u001B[1;32m    547\u001B[0m         \u001B[38;5;28mself\u001B[39m\u001B[38;5;241m.\u001B[39mgroups,\n\u001B[1;32m    548\u001B[0m     )\n\u001B[0;32m--> 549\u001B[0m \u001B[38;5;28;01mreturn\u001B[39;00m \u001B[43mF\u001B[49m\u001B[38;5;241;43m.\u001B[39;49m\u001B[43mconv2d\u001B[49m\u001B[43m(\u001B[49m\n\u001B[1;32m    550\u001B[0m \u001B[43m    \u001B[49m\u001B[38;5;28;43minput\u001B[39;49m\u001B[43m,\u001B[49m\u001B[43m \u001B[49m\u001B[43mweight\u001B[49m\u001B[43m,\u001B[49m\u001B[43m \u001B[49m\u001B[43mbias\u001B[49m\u001B[43m,\u001B[49m\u001B[43m \u001B[49m\u001B[38;5;28;43mself\u001B[39;49m\u001B[38;5;241;43m.\u001B[39;49m\u001B[43mstride\u001B[49m\u001B[43m,\u001B[49m\u001B[43m \u001B[49m\u001B[38;5;28;43mself\u001B[39;49m\u001B[38;5;241;43m.\u001B[39;49m\u001B[43mpadding\u001B[49m\u001B[43m,\u001B[49m\u001B[43m \u001B[49m\u001B[38;5;28;43mself\u001B[39;49m\u001B[38;5;241;43m.\u001B[39;49m\u001B[43mdilation\u001B[49m\u001B[43m,\u001B[49m\u001B[43m \u001B[49m\u001B[38;5;28;43mself\u001B[39;49m\u001B[38;5;241;43m.\u001B[39;49m\u001B[43mgroups\u001B[49m\n\u001B[1;32m    551\u001B[0m \u001B[43m\u001B[49m\u001B[43m)\u001B[49m\n",
      "\u001B[0;31mRuntimeError\u001B[0m: Given groups=1, weight of size [16, 1, 3, 3], expected input[1, 32, 1, 1055] to have 1 channels, but got 32 channels instead"
     ]
    }
   ],
   "source": [
    "\n",
    "EPOCHS = 100\n",
    "model = model2()\n",
    "model.train(train_loader, val_loader, EPOCHS)\n",
    "\n",
    "\n",
    "# train_preds = model.predict(dataroot1 + \"/train.json\")\n",
    "# test_preds = model.predict(dataroot1 + \"/test.json\", \"predictions1.json\")\n",
    "# \n",
    "# train_labels = eval(open(dataroot1 + \"/train.json\").read())\n",
    "# acc1 = accuracy1(train_labels, train_preds)\n",
    "# print(\"Task 1 training accuracy = \" + str(acc1))"
   ],
   "metadata": {
    "collapsed": false,
    "ExecuteTime": {
     "end_time": "2025-05-07T23:03:18.677956Z",
     "start_time": "2025-05-07T23:03:17.147673Z"
    }
   },
   "id": "c179b4e57e8ca203",
   "execution_count": 80
  },
  {
   "cell_type": "code",
   "outputs": [
    {
     "data": {
      "text/plain": "<Figure size 640x480 with 1 Axes>",
      "image/png": "[encoded data removed]"
     },
     "metadata": {},
     "output_type": "display_data"
    }
   ],
   "source": [
    "import matplotlib.pyplot as plt\n",
    "\n",
    "train_acc, val_acc = model.get_train_acc()\n",
    "\n",
    "x = range(1, EPOCHS + 1)\n",
    "\n",
    "# Plot training accuracy\n",
    "plt.plot(x, train_acc, label='Training Accuracy', color='blue', linestyle='-', marker='o')\n",
    "\n",
    "# Plot validation accuracy\n",
    "plt.plot(x, val_acc, label='Validation Accuracy', color='red', linestyle='--', marker='x')\n",
    "\n",
    "# Adding labels and title\n",
    "plt.xlabel('Epochs')\n",
    "plt.ylabel('Accuracy')\n",
    "plt.title('Training and Validation Accuracy per Epoch')\n",
    "\n",
    "# Add a legend\n",
    "plt.legend()\n",
    "\n",
    "# Show the plot\n",
    "plt.grid(True)\n",
    "plt.show()"
   ],
   "metadata": {
    "collapsed": false,
    "ExecuteTime": {
     "end_time": "2025-05-07T21:36:04.004332Z",
     "start_time": "2025-05-07T21:36:03.143094Z"
    }
   },
   "id": "3f5934c6ae1de768",
   "execution_count": 75
  },
  {
   "cell_type": "code",
   "outputs": [],
   "source": [
    "import pickle\n",
    "with open('fullTrainData.pkl', 'wb') as f:\n",
    "    data = {'train_loader': train_loader, 'val_loader':val_loader, 'train_dataset': train_dataset, 'val_dataset':val_dataset}\n",
    "    pickle.dump(data, f)"
   ],
   "metadata": {
    "collapsed": false,
    "ExecuteTime": {
     "end_time": "2025-05-07T21:23:46.424405Z",
     "start_time": "2025-05-07T21:23:46.415515Z"
    }
   },
   "id": "6c6a974b5c41f249",
   "execution_count": 65
  },
  {
   "cell_type": "code",
   "outputs": [],
   "source": [
    "class model2():\n",
    "    def __init__(self):\n",
    "        self.model = MLPClassifier()\n",
    "        self.train_acc = []\n",
    "        self.val_acc = []\n",
    "        return\n",
    "    \n",
    "    def predict(self, path, outpath=None):\n",
    "        d = eval(open(path, 'r').read())\n",
    "        predictions = {}\n",
    "        for k in d:\n",
    "            x = (torch.tensor(features(k), dtype=torch.float32))\n",
    "            pred = self.model.predict([x])\n",
    "            predictions[k] = str(idToArtist[pred[0]])\n",
    "        if outpath:\n",
    "            with open(outpath, \"w\") as z:\n",
    "                z.write(str(predictions) + '\\n')\n",
    "        return predictions\n",
    "\n",
    "    # Train your model. Note that this function will not be called from the autograder:\n",
    "    # instead you should upload your saved model using save()\n",
    "    import torch\n",
    "\n",
    "    def train(self, train_loader, val_loader, epochs=5):\n",
    "        \n",
    "        model = self.model\n",
    "        criterion = nn.CrossEntropyLoss()  \n",
    "        optimizer = optim.Adam(model.parameters(), lr=0.001)\n",
    "        scheduler = ReduceLROnPlateau(optimizer, mode='max', factor=0.5, patience=3)\n",
    "        \n",
    "    \n",
    "        train_acc = []\n",
    "        val_acc = []\n",
    "    \n",
    "        best_val_acc = 0.0\n",
    "        patience_counter = 0\n",
    "        patience=10\n",
    "    \n",
    "        for epoch in range(epochs):\n",
    "            model.train()\n",
    "            correct_train = 0\n",
    "            total_train = 0\n",
    "            for batch_x, batch_y in train_loader:\n",
    "                optimizer.zero_grad()\n",
    "                outputs = model(batch_x)\n",
    "                loss = criterion(outputs, batch_y)\n",
    "                loss.backward()\n",
    "                optimizer.step()\n",
    "                _, predicted = torch.max(outputs.data, 1)\n",
    "                total_train += batch_y.size(0)\n",
    "                correct_train += (predicted == batch_y).sum().item()\n",
    "    \n",
    "            train_accuracy = correct_train / total_train\n",
    "            train_acc.append(train_accuracy)\n",
    "    \n",
    "            # Validation\n",
    "            model.eval()\n",
    "            correct_val = 0\n",
    "            total_val = 0\n",
    "            with torch.no_grad():\n",
    "                for batch_x, batch_y in val_loader:\n",
    "                    outputs = model(batch_x)\n",
    "                    _, predicted = torch.max(outputs.data, 1)\n",
    "                    total_val += batch_y.size(0)\n",
    "                    correct_val += (predicted == batch_y).sum().item()\n",
    "    \n",
    "            val_accuracy = correct_val / total_val\n",
    "            val_acc.append(val_accuracy)\n",
    "            \n",
    "            print(f'Epoch [{epoch+1}/{epochs}], Train Accuracy: {train_accuracy:.4f}, Validation Accuracy: {val_accuracy:.4f}')\n",
    "    \n",
    "            # Step the LR scheduler\n",
    "            scheduler.step(val_accuracy)\n",
    "    \n",
    "            # Early Stopping\n",
    "            if val_accuracy > best_val_acc:\n",
    "                best_val_acc = val_accuracy\n",
    "                patience_counter = 0\n",
    "                best_model_state = model.state_dict()  # Save best model\n",
    "            else:\n",
    "                patience_counter += 1\n",
    "                if patience_counter >= patience:\n",
    "                    print(\"Early stopping triggered.\")\n",
    "                    break\n",
    "    \n",
    "        # Load best model state\n",
    "        model.load_state_dict(best_model_state)\n",
    "    \n",
    "        self.train_acc = train_acc\n",
    "        self.val_acc = val_acc\n",
    "        self.model = model\n",
    "                \n",
    "    def get_train_acc(self):\n",
    "        return self.train_acc, self.val_acc\n",
    "    \n",
    "    def _get_model_copy(self, model):\n",
    "        \"\"\"Create a deep copy of the model.\"\"\"\n",
    "        model_copy = type(model)(*model.__init_args__, **model.__init_kwargs__)\n",
    "        model_copy.load_state_dict(model.state_dict())\n",
    "        return model_copy"
   ],
   "metadata": {
    "collapsed": false
   },
   "id": "f7a52d2d31b04b7"
  }
 ],
 "metadata": {
  "kernelspec": {
   "display_name": "Python 3",
   "language": "python",
   "name": "python3"
  },
  "language_info": {
   "codemirror_mode": {
    "name": "ipython",
    "version": 2
   },
   "file_extension": ".py",
   "mimetype": "text/x-python",
   "name": "python",
   "nbconvert_exporter": "python",
   "pygments_lexer": "ipython2",
   "version": "2.7.6"
  }
 },
 "nbformat": 4,
 "nbformat_minor": 5
}
