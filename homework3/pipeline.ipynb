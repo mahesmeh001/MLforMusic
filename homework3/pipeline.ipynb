{
 "cells": [
  {
   "cell_type": "code",
   "source": [
    "# from google.colab import drive\n",
    "# drive.mount('/content/drive')"
   ],
   "metadata": {
    "id": "_5oTP_OEHMOd",
    "ExecuteTime": {
     "end_time": "2025-05-11T20:25:19.446641Z",
     "start_time": "2025-05-11T20:25:19.441094Z"
    }
   },
   "id": "_5oTP_OEHMOd",
   "execution_count": 1,
   "outputs": []
  },
  {
   "cell_type": "code",
   "execution_count": 2,
   "id": "153f5981",
   "metadata": {
    "id": "153f5981",
    "ExecuteTime": {
     "end_time": "2025-05-11T20:25:19.520650Z",
     "start_time": "2025-05-11T20:25:19.450586Z"
    }
   },
   "outputs": [],
   "source": [
    "import os\n",
    "from glob import glob\n",
    "import numpy as np\n",
    "import random"
   ]
  },
  {
   "cell_type": "code",
   "execution_count": 3,
   "id": "2b317c36",
   "metadata": {
    "id": "2b317c36",
    "ExecuteTime": {
     "end_time": "2025-05-11T20:25:24.647292Z",
     "start_time": "2025-05-11T20:25:19.521193Z"
    }
   },
   "outputs": [
    {
     "name": "stderr",
     "output_type": "stream",
     "text": [
      "/Users/mehul/Documents/UCSD Classes/ML for Music/MLforMusic/.venv/lib/python3.9/site-packages/urllib3/__init__.py:35: NotOpenSSLWarning: urllib3 v2 only supports OpenSSL 1.1.1+, currently the 'ssl' module is compiled with 'LibreSSL 2.8.3'. See: https://github.com/urllib3/urllib3/issues/3020\n",
      "  warnings.warn(\n"
     ]
    },
    {
     "name": "stdout",
     "output_type": "stream",
     "text": []
    },
    {
     "name": "stderr",
     "output_type": "stream",
     "text": [
      "huggingface/tokenizers: The current process just got forked, after parallelism has already been used. Disabling parallelism to avoid deadlocks...\n",
      "To disable this warning, you can either:\n",
      "\t- Avoid using `tokenizers` before the fork if possible\n",
      "\t- Explicitly set the environment variable TOKENIZERS_PARALLELISM=(true | false)\n"
     ]
    },
    {
     "name": "stdout",
     "output_type": "stream",
     "text": [
      "Requirement already satisfied: mido in /Users/mehul/Documents/UCSD Classes/ML for Music/MLforMusic/.venv/lib/python3.9/site-packages (1.3.3)\r\n",
      "Requirement already satisfied: packaging in /Users/mehul/Documents/UCSD Classes/ML for Music/MLforMusic/.venv/lib/python3.9/site-packages (from mido) (24.2)\r\n",
      "\r\n",
      "\u001B[1m[\u001B[0m\u001B[34;49mnotice\u001B[0m\u001B[1;39;49m]\u001B[0m\u001B[39;49m A new release of pip is available: \u001B[0m\u001B[31;49m23.2.1\u001B[0m\u001B[39;49m -> \u001B[0m\u001B[32;49m25.1.1\u001B[0m\r\n",
      "\u001B[1m[\u001B[0m\u001B[34;49mnotice\u001B[0m\u001B[1;39;49m]\u001B[0m\u001B[39;49m To update, run: \u001B[0m\u001B[32;49mpip install --upgrade pip\u001B[0m\r\n"
     ]
    },
    {
     "name": "stderr",
     "output_type": "stream",
     "text": [
      "huggingface/tokenizers: The current process just got forked, after parallelism has already been used. Disabling parallelism to avoid deadlocks...\n",
      "To disable this warning, you can either:\n",
      "\t- Avoid using `tokenizers` before the fork if possible\n",
      "\t- Explicitly set the environment variable TOKENIZERS_PARALLELISM=(true | false)\n"
     ]
    },
    {
     "name": "stdout",
     "output_type": "stream",
     "text": [
      "[NbConvertApp] Converting notebook homework3.ipynb to python\r\n",
      "[NbConvertApp] Writing 27874 bytes to homework3.py\r\n"
     ]
    }
   ],
   "source": [
    "import homework3"
   ]
  },
  {
   "cell_type": "code",
   "execution_count": 4,
   "id": "76af10b5",
   "metadata": {
    "id": "76af10b5",
    "ExecuteTime": {
     "end_time": "2025-05-11T20:25:24.651605Z",
     "start_time": "2025-05-11T20:25:24.648358Z"
    }
   },
   "outputs": [],
   "source": [
    "random.seed(0)"
   ]
  },
  {
   "cell_type": "code",
   "execution_count": 5,
   "id": "af102dee",
   "metadata": {
    "id": "af102dee",
    "ExecuteTime": {
     "end_time": "2025-05-11T20:25:24.655762Z",
     "start_time": "2025-05-11T20:25:24.652166Z"
    }
   },
   "outputs": [],
   "source": [
    "midi_files = glob('PDMX_subset/*.mid')\n",
    "# Note: the autograder will only use a subset of the files.\n",
    "# You might also work with a small subset to make experimentation faster"
   ]
  },
  {
   "cell_type": "code",
   "execution_count": 6,
   "id": "77b45732",
   "metadata": {
    "id": "77b45732",
    "ExecuteTime": {
     "end_time": "2025-05-11T20:25:24.659751Z",
     "start_time": "2025-05-11T20:25:24.656073Z"
    }
   },
   "outputs": [],
   "source": [
    "def testQ1a():\n",
    "    yours = homework3.note_extraction(midi_files[0])\n",
    "    print(yours)"
   ]
  },
  {
   "cell_type": "code",
   "outputs": [
    {
     "name": "stdout",
     "output_type": "stream",
     "text": [
      "[66, 66, 64, 62, 69, 62, 66, 62, 69, 62, 71, 62, 72, 62, 69, 62, 67, 71, 69, 67, 74, 67, 71, 67, 74, 67, 79, 67, 78, 67, 76, 67, 74, 67, 71, 69, 67, 79, 67, 76, 67, 74, 67, 71, 69, 67, 79, 67, 76, 67, 74, 71, 76, 74, 72, 71, 69, 67, 66]\n"
     ]
    }
   ],
   "source": [
    "testQ1a()"
   ],
   "metadata": {
    "collapsed": false,
    "ExecuteTime": {
     "end_time": "2025-05-11T20:25:24.661302Z",
     "start_time": "2025-05-11T20:25:24.659294Z"
    }
   },
   "id": "28de8ec4a513b6d4",
   "execution_count": 7
  },
  {
   "cell_type": "code",
   "execution_count": 8,
   "id": "3974f754",
   "metadata": {
    "id": "3974f754",
    "ExecuteTime": {
     "end_time": "2025-05-11T20:25:24.665195Z",
     "start_time": "2025-05-11T20:25:24.661815Z"
    }
   },
   "outputs": [],
   "source": [
    "def testQ1b():\n",
    "    yours = homework3.note_frequency(midi_files)\n",
    "    print(yours)"
   ]
  },
  {
   "cell_type": "code",
   "outputs": [
    {
     "name": "stdout",
     "output_type": "stream",
     "text": [
      "defaultdict(<class 'int'>, {66: 6087, 64: 5976, 62: 5010, 69: 19315, 71: 17249, 72: 9395, 67: 12003, 74: 19834, 79: 9400, 78: 9714, 76: 15518, 73: 6921, 81: 6442, 77: 2628, 70: 2128, 65: 2223, 60: 729, 82: 291, 83: 1309, 80: 922, 68: 771, 75: 696, 57: 457, 61: 326, 85: 65, 59: 435, 63: 327, 55: 178, 52: 75, 53: 29, 50: 15, 84: 146, 88: 13, 58: 103, 86: 42, 54: 1, 56: 13, 92: 1, 35: 16, 37: 16, 48: 16, 43: 14, 36: 6, 45: 2, 38: 2, 47: 2})\n"
     ]
    }
   ],
   "source": [
    "testQ1b()"
   ],
   "metadata": {
    "collapsed": false,
    "ExecuteTime": {
     "end_time": "2025-05-11T20:25:25.862701Z",
     "start_time": "2025-05-11T20:25:24.663799Z"
    }
   },
   "id": "d348500da1cee888",
   "execution_count": 9
  },
  {
   "cell_type": "code",
   "execution_count": 10,
   "id": "68af9e67",
   "metadata": {
    "id": "68af9e67",
    "ExecuteTime": {
     "end_time": "2025-05-11T20:25:25.863644Z",
     "start_time": "2025-05-11T20:25:25.860970Z"
    }
   },
   "outputs": [],
   "source": [
    "def testQ2():\n",
    "    yours = homework3.note_unigram_probability(midi_files)\n",
    "    print(yours)"
   ]
  },
  {
   "cell_type": "code",
   "outputs": [
    {
     "name": "stdout",
     "output_type": "stream",
     "text": [
      "{66: 0.03880505670625586, 64: 0.03809742383384015, 62: 0.031939105322546714, 69: 0.12313449487125544, 71: 0.10996359834503158, 72: 0.05989379131842842, 67: 0.07651997628473617, 74: 0.12644315668011807, 79: 0.059925666673041736, 78: 0.06192743894275824, 76: 0.09892835057790018, 73: 0.04412186585575765, 81: 0.04106820688380158, 77: 0.01675368638476103, 70: 0.013566150923429023, 65: 0.014171782661082105, 60: 0.004647426702622067, 82: 0.0018551456384952284, 83: 0.008344967837767196, 80: 0.005877815390696222, 68: 0.004915179681373955, 75: 0.004437049362174155, 57: 0.002913407411657455, 61: 0.002078273120788469, 85: 0.00041437960997316094, 59: 0.0027731558513588465, 63: 0.002084648191711133, 55: 0.0011347626242341946, 52: 0.0004781303191998011, 53: 0.00018487705675725643, 50: 9.562606383996022e-05, 84: 0.0009307603547089461, 88: 8.28759219946322e-05, 58: 0.0006566323050343936, 86: 0.0002677529787518886, 54: 6.375070922664015e-06, 56: 8.28759219946322e-05, 92: 6.375070922664015e-06, 35: 0.00010200113476262424, 37: 0.00010200113476262424, 48: 0.00010200113476262424, 43: 8.925099291729621e-05, 36: 3.825042553598409e-05, 45: 1.275014184532803e-05, 38: 1.275014184532803e-05, 47: 1.275014184532803e-05}\n"
     ]
    }
   ],
   "source": [
    "testQ2()"
   ],
   "metadata": {
    "collapsed": false,
    "ExecuteTime": {
     "end_time": "2025-05-11T20:25:27.077048Z",
     "start_time": "2025-05-11T20:25:25.864885Z"
    }
   },
   "id": "2f3d9d4fa38396c9",
   "execution_count": 11
  },
  {
   "cell_type": "code",
   "execution_count": 12,
   "id": "b2b101b8",
   "metadata": {
    "id": "b2b101b8",
    "ExecuteTime": {
     "end_time": "2025-05-11T20:25:27.077679Z",
     "start_time": "2025-05-11T20:25:27.075163Z"
    }
   },
   "outputs": [],
   "source": [
    "def testQ3a():\n",
    "    your_transition, your_probability = homework3.note_bigram_probability(midi_files)\n",
    "    print(your_transition[74]) # Example\n",
    "    print(your_probability[74])"
   ]
  },
  {
   "cell_type": "code",
   "outputs": [
    {
     "ename": "KeyError",
     "evalue": "66",
     "output_type": "error",
     "traceback": [
      "\u001B[0;31m---------------------------------------------------------------------------\u001B[0m",
      "\u001B[0;31mKeyError\u001B[0m                                  Traceback (most recent call last)",
      "Cell \u001B[0;32mIn[13], line 1\u001B[0m\n\u001B[0;32m----> 1\u001B[0m \u001B[43mtestQ3a\u001B[49m\u001B[43m(\u001B[49m\u001B[43m)\u001B[49m\n",
      "Cell \u001B[0;32mIn[12], line 2\u001B[0m, in \u001B[0;36mtestQ3a\u001B[0;34m()\u001B[0m\n\u001B[1;32m      1\u001B[0m \u001B[38;5;28;01mdef\u001B[39;00m\u001B[38;5;250m \u001B[39m\u001B[38;5;21mtestQ3a\u001B[39m():\n\u001B[0;32m----> 2\u001B[0m     your_transition, your_probability \u001B[38;5;241m=\u001B[39m \u001B[43mhomework3\u001B[49m\u001B[38;5;241;43m.\u001B[39;49m\u001B[43mnote_bigram_probability\u001B[49m\u001B[43m(\u001B[49m\u001B[43mmidi_files\u001B[49m\u001B[43m)\u001B[49m\n\u001B[1;32m      3\u001B[0m     \u001B[38;5;28mprint\u001B[39m(your_transition[\u001B[38;5;241m74\u001B[39m]) \u001B[38;5;66;03m# Example\u001B[39;00m\n\u001B[1;32m      4\u001B[0m     \u001B[38;5;28mprint\u001B[39m(your_probability[\u001B[38;5;241m74\u001B[39m])\n",
      "File \u001B[0;32m~/Documents/UCSD Classes/ML for Music/MLforMusic/homework3/homework3.py:186\u001B[0m, in \u001B[0;36mnote_bigram_probability\u001B[0;34m(midi_files)\u001B[0m\n\u001B[1;32m    184\u001B[0m     \u001B[38;5;28;01mfor\u001B[39;00m i \u001B[38;5;129;01min\u001B[39;00m \u001B[38;5;28mrange\u001B[39m(\u001B[38;5;28mlen\u001B[39m(notes)\u001B[38;5;241m-\u001B[39m\u001B[38;5;241m1\u001B[39m):\n\u001B[1;32m    185\u001B[0m         prev_note \u001B[38;5;241m=\u001B[39m notes[i]\n\u001B[0;32m--> 186\u001B[0m         next_note \u001B[38;5;241m=\u001B[39m notes[i \u001B[38;5;241m+\u001B[39m \u001B[38;5;241m1\u001B[39m]\n\u001B[1;32m    187\u001B[0m         bigramCounts[prev_note][next_note] \u001B[38;5;241m+\u001B[39m\u001B[38;5;241m=\u001B[39m \u001B[38;5;241m1\u001B[39m\n\u001B[1;32m    189\u001B[0m \u001B[38;5;28;01mfor\u001B[39;00m prev_note, next_note_dict \u001B[38;5;129;01min\u001B[39;00m bigramCounts\u001B[38;5;241m.\u001B[39mitems():\n",
      "\u001B[0;31mKeyError\u001B[0m: 66"
     ]
    }
   ],
   "source": [
    "testQ3a()"
   ],
   "metadata": {
    "collapsed": false,
    "ExecuteTime": {
     "end_time": "2025-05-11T20:25:27.178062Z",
     "start_time": "2025-05-11T20:25:27.077223Z"
    }
   },
   "id": "828a2ce4b250da40",
   "execution_count": 13
  },
  {
   "cell_type": "code",
   "execution_count": null,
   "id": "6d2180b5",
   "metadata": {
    "id": "6d2180b5",
    "ExecuteTime": {
     "end_time": "2025-05-11T20:25:27.187925Z",
     "start_time": "2025-05-11T20:25:27.179478Z"
    }
   },
   "outputs": [],
   "source": [
    "def testQ3b():\n",
    "    test_notes = [92, 35, 54] # some notes that have only one possible next note\n",
    "    yours = []\n",
    "    correct = []\n",
    "    for note in test_notes:\n",
    "        yours.append(homework3.sample_next_note(note))\n",
    "\n",
    "    print(yours)"
   ]
  },
  {
   "cell_type": "code",
   "outputs": [],
   "source": [
    "testQ3b()"
   ],
   "metadata": {
    "collapsed": false,
    "ExecuteTime": {
     "start_time": "2025-05-11T20:25:27.180414Z"
    }
   },
   "id": "28f92c1d0cfa2e22"
  },
  {
   "cell_type": "code",
   "execution_count": null,
   "id": "93f201e8",
   "metadata": {
    "id": "93f201e8",
    "ExecuteTime": {
     "start_time": "2025-05-11T20:25:27.181171Z"
    }
   },
   "outputs": [],
   "source": [
    "def testQ4():\n",
    "    test_file = midi_files[0]\n",
    "    yours = [homework3.note_bigram_perplexity(test_file)]\n",
    "    print(yours)"
   ]
  },
  {
   "cell_type": "code",
   "outputs": [],
   "source": [
    "testQ4()"
   ],
   "metadata": {
    "collapsed": false,
    "ExecuteTime": {
     "start_time": "2025-05-11T20:25:27.182100Z"
    }
   },
   "id": "f670f0f4b2622df8"
  },
  {
   "cell_type": "code",
   "execution_count": null,
   "id": "c07dc0e3",
   "metadata": {
    "id": "c07dc0e3",
    "ExecuteTime": {
     "start_time": "2025-05-11T20:25:27.182904Z"
    }
   },
   "outputs": [],
   "source": [
    "def testQ5a():\n",
    "    test_notes = [71,72,73]\n",
    "    your_transition, your_probability = homework3.note_trigram_probability(midi_files)\n",
    "    print(your_transition)\n",
    "    print(your_probability)"
   ]
  },
  {
   "cell_type": "code",
   "outputs": [],
   "source": [
    "testQ5a()"
   ],
   "metadata": {
    "collapsed": false,
    "ExecuteTime": {
     "start_time": "2025-05-11T20:25:27.183711Z"
    }
   },
   "id": "d3b7a588752e509a"
  },
  {
   "cell_type": "code",
   "execution_count": null,
   "id": "1b3ac031",
   "metadata": {
    "id": "1b3ac031",
    "ExecuteTime": {
     "start_time": "2025-05-11T20:25:27.184387Z"
    }
   },
   "outputs": [],
   "source": [
    "def testQ5b():\n",
    "    test_file = midi_files[0]\n",
    "    yours = [homework3.note_trigram_perplexity(test_file)]\n",
    "    print(yours)"
   ]
  },
  {
   "cell_type": "code",
   "outputs": [],
   "source": [
    "testQ5b()"
   ],
   "metadata": {
    "collapsed": false,
    "ExecuteTime": {
     "start_time": "2025-05-11T20:25:27.185231Z"
    }
   },
   "id": "4dee3e8d6287d54c"
  },
  {
   "cell_type": "code",
   "execution_count": null,
   "id": "19f20bc4",
   "metadata": {
    "id": "19f20bc4",
    "ExecuteTime": {
     "start_time": "2025-05-11T20:25:27.186247Z"
    }
   },
   "outputs": [],
   "source": [
    "def testQ6():\n",
    "    test_files = midi_files[:5]\n",
    "    yours = []\n",
    "    for file in test_files:\n",
    "        beats = homework3.beat_extraction(file)\n",
    "        yours += [beat[0] for beat in beats]\n",
    "        yours += [beat[1] for beat in beats]\n",
    "\n",
    "    print(yours)"
   ]
  },
  {
   "cell_type": "code",
   "outputs": [],
   "source": [
    "testQ6()"
   ],
   "metadata": {
    "collapsed": false,
    "ExecuteTime": {
     "start_time": "2025-05-11T20:25:27.186905Z"
    }
   },
   "id": "922c3fd9b41dc9c7"
  },
  {
   "cell_type": "code",
   "execution_count": null,
   "id": "5f61fd5f",
   "metadata": {
    "id": "5f61fd5f",
    "ExecuteTime": {
     "start_time": "2025-05-11T20:25:27.187672Z"
    }
   },
   "outputs": [],
   "source": [
    "def testQ7():\n",
    "    test_beats = [2,4,8]\n",
    "    your_transition, your_probability = homework3.beat_bigram_probability(midi_files)\n",
    "    yours = []\n",
    "    correct = []\n",
    "    for note in test_beats:\n",
    "        index = your_transition[4].index(note)\n",
    "        yours.append(your_probability[4][index])\n",
    "\n",
    "    print(yours)"
   ]
  },
  {
   "cell_type": "code",
   "outputs": [],
   "source": [
    "testQ7()"
   ],
   "metadata": {
    "collapsed": false,
    "ExecuteTime": {
     "end_time": "2025-05-11T20:25:27.192616Z",
     "start_time": "2025-05-11T20:25:27.188524Z"
    }
   },
   "id": "cae31199e14b3483"
  },
  {
   "cell_type": "code",
   "execution_count": null,
   "id": "c6191005",
   "metadata": {
    "id": "c6191005",
    "ExecuteTime": {
     "start_time": "2025-05-11T20:25:27.189440Z"
    }
   },
   "outputs": [],
   "source": [
    "def testQ8a():\n",
    "    test_beats = [2,4,8]\n",
    "    your_transition, your_probability = homework3.beat_pos_bigram_probability(midi_files)\n",
    "    yours = []\n",
    "    for note in test_beats:\n",
    "        index = your_transition[0].index(note)\n",
    "        yours.append(your_probability[0][index])\n",
    "\n",
    "    print(yours)"
   ]
  },
  {
   "cell_type": "code",
   "outputs": [],
   "source": [
    "testQ8a()"
   ],
   "metadata": {
    "collapsed": false,
    "ExecuteTime": {
     "start_time": "2025-05-11T20:25:27.190180Z"
    }
   },
   "id": "af99d8eb4220380f"
  },
  {
   "cell_type": "code",
   "execution_count": null,
   "id": "541e61d3",
   "metadata": {
    "id": "541e61d3",
    "ExecuteTime": {
     "start_time": "2025-05-11T20:25:27.190771Z"
    }
   },
   "outputs": [],
   "source": [
    "def testQ8b():\n",
    "    test_file = midi_files[0]\n",
    "    yours = list(homework3.beat_bigram_perplexity(test_file))\n",
    "    print(yours)"
   ]
  },
  {
   "cell_type": "code",
   "outputs": [],
   "source": [
    "testQ8b()"
   ],
   "metadata": {
    "collapsed": false,
    "ExecuteTime": {
     "start_time": "2025-05-11T20:25:27.191499Z"
    }
   },
   "id": "27a68229ba696fda"
  },
  {
   "cell_type": "code",
   "execution_count": null,
   "id": "19641f59",
   "metadata": {
    "id": "19641f59",
    "ExecuteTime": {
     "start_time": "2025-05-11T20:25:27.192107Z"
    }
   },
   "outputs": [],
   "source": [
    "def testQ9a():\n",
    "    test_beats = [2,4,8]\n",
    "    your_transition, your_probability = homework3.beat_trigram_probability(midi_files)\n",
    "    yours = []\n",
    "    for note in test_beats:\n",
    "        index = your_transition[(4, 0)].index(note)\n",
    "        yours.append(your_probability[(4, 0)][index])\n",
    "\n",
    "    print(yours)"
   ]
  },
  {
   "cell_type": "code",
   "outputs": [],
   "source": [
    "testQ9a()"
   ],
   "metadata": {
    "collapsed": false,
    "ExecuteTime": {
     "end_time": "2025-05-11T20:25:27.193976Z",
     "start_time": "2025-05-11T20:25:27.192694Z"
    }
   },
   "id": "b3e1c49f0ad2aca9"
  },
  {
   "cell_type": "code",
   "execution_count": null,
   "id": "3dc6bae4",
   "metadata": {
    "id": "3dc6bae4",
    "ExecuteTime": {
     "start_time": "2025-05-11T20:25:27.193237Z"
    }
   },
   "outputs": [],
   "source": [
    "def testQ9b():\n",
    "    test_file = midi_files[0]\n",
    "    yours = [homework3.beat_trigram_perplexity(test_file)]\n",
    "\n",
    "    print(yours)"
   ]
  },
  {
   "cell_type": "code",
   "outputs": [],
   "source": [
    "testQ9b()"
   ],
   "metadata": {
    "collapsed": false,
    "ExecuteTime": {
     "start_time": "2025-05-11T20:25:27.193712Z"
    }
   },
   "id": "577345690b8630bd"
  },
  {
   "cell_type": "code",
   "execution_count": null,
   "id": "d338b9e8",
   "metadata": {
    "id": "d338b9e8",
    "ExecuteTime": {
     "end_time": "2025-05-11T20:25:27.198774Z",
     "start_time": "2025-05-11T20:25:27.194261Z"
    }
   },
   "outputs": [],
   "source": [
    "def testQ10():\n",
    "    homework3.music_generate(n)\n",
    "    if not os.path.exists('q10.mid'):\n",
    "        print('No q10.mid file found')\n",
    "        return 0\n",
    "\n",
    "    # requirement1: generation of n notes\n",
    "    notes = homework3.note_extraction('q10.mid')\n",
    "    if len(notes) == n:\n",
    "        point += 0.25\n",
    "    else:\n",
    "        print('It looks like your solution has the wrong sequence length')\n",
    "\n",
    "    # Various other tests about the statistics of your midi file..."
   ]
  },
  {
   "cell_type": "code",
   "outputs": [],
   "source": [
    "testQ10()"
   ],
   "metadata": {
    "collapsed": false,
    "ExecuteTime": {
     "start_time": "2025-05-11T20:25:27.194784Z"
    }
   },
   "id": "c281fc7b04f1fe44"
  },
  {
   "cell_type": "code",
   "execution_count": null,
   "id": "b13eb1a6",
   "metadata": {
    "id": "b13eb1a6",
    "ExecuteTime": {
     "start_time": "2025-05-11T20:25:27.195326Z"
    }
   },
   "outputs": [],
   "source": []
  }
 ],
 "metadata": {
  "kernelspec": {
   "display_name": "Python 3 (ipykernel)",
   "language": "python",
   "name": "python3"
  },
  "language_info": {
   "codemirror_mode": {
    "name": "ipython",
    "version": 3
   },
   "file_extension": ".py",
   "mimetype": "text/x-python",
   "name": "python",
   "nbconvert_exporter": "python",
   "pygments_lexer": "ipython3",
   "version": "3.11.2"
  },
  "colab": {
   "provenance": []
  }
 },
 "nbformat": 4,
 "nbformat_minor": 5
}
