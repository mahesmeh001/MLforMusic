{
 "cells": [
  {
   "cell_type": "markdown",
   "metadata": {},
   "source": [
    "## Homework 3: Symbolic Music Generation Using Markov Chains"
   ]
  },
  {
   "cell_type": "markdown",
   "metadata": {},
   "source": [
    "**Before starting the homework:**\n",
    "\n",
    "Please run `pip install miditok` to install the [MiDiTok](https://github.com/Natooz/MidiTok) package, which simplifies MIDI file processing by making note and beat extraction more straightforward.\n",
    "\n",
    "You’re also welcome to experiment with other MIDI processing libraries such as [mido](https://github.com/mido/mido), [pretty_midi](https://github.com/craffel/pretty-midi) and [miditoolkit](https://github.com/YatingMusic/miditoolkit). However, with these libraries, you’ll need to handle MIDI quantization yourself, for example, converting note-on/note-off events into beat positions and durations."
   ]
  },
  {
   "cell_type": "code",
   "execution_count": 1,
   "metadata": {
    "ExecuteTime": {
     "end_time": "2025-05-11T20:22:23.081752Z",
     "start_time": "2025-05-11T20:22:23.071282Z"
    }
   },
   "outputs": [],
   "source": [
    "# run this command to install MiDiTok\n",
    "# ! pip install miditok"
   ]
  },
  {
   "cell_type": "code",
   "execution_count": 2,
   "metadata": {
    "ExecuteTime": {
     "end_time": "2025-05-11T20:22:24.649898Z",
     "start_time": "2025-05-11T20:22:23.082787Z"
    }
   },
   "outputs": [
    {
     "name": "stderr",
     "output_type": "stream",
     "text": [
      "/Users/mehul/Documents/UCSD Classes/ML for Music/MLforMusic/.venv/lib/python3.9/site-packages/urllib3/__init__.py:35: NotOpenSSLWarning: urllib3 v2 only supports OpenSSL 1.1.1+, currently the 'ssl' module is compiled with 'LibreSSL 2.8.3'. See: https://github.com/urllib3/urllib3/issues/3020\n",
      "  warnings.warn(\n"
     ]
    }
   ],
   "source": [
    "# import required packages\n",
    "import random\n",
    "from glob import glob\n",
    "from collections import defaultdict\n",
    "\n",
    "import numpy as np\n",
    "# from miditoolkit import MidiFile\n",
    "from mido import MidiFile\n",
    "\n",
    "from numpy.random import choice\n",
    "\n",
    "from symusic import Score\n",
    "from miditok import REMI, TokenizerConfig\n",
    "from midiutil import MIDIFile"
   ]
  },
  {
   "cell_type": "code",
   "execution_count": 3,
   "metadata": {
    "ExecuteTime": {
     "end_time": "2025-05-11T20:22:24.652289Z",
     "start_time": "2025-05-11T20:22:24.649898Z"
    }
   },
   "outputs": [],
   "source": [
    "# You can change the random seed but try to keep your results deterministic!\n",
    "# If I need to make changes to the autograder it'll require rerunning your code,\n",
    "# so it should ideally generate the same results each time.\n",
    "random.seed(42)"
   ]
  },
  {
   "cell_type": "markdown",
   "metadata": {},
   "source": [
    "### Load music dataset\n",
    "We will use a subset of the [PDMX dataset](https://zenodo.org/records/14984509). \n",
    "\n",
    "Please find the link in the homework spec.\n",
    "\n",
    "All pieces are monophonic music (i.e. one melody line) in 4/4 time signature."
   ]
  },
  {
   "cell_type": "code",
   "execution_count": 4,
   "metadata": {
    "ExecuteTime": {
     "end_time": "2025-05-11T20:22:24.660227Z",
     "start_time": "2025-05-11T20:22:24.652106Z"
    }
   },
   "outputs": [
    {
     "data": {
      "text/plain": "1000"
     },
     "execution_count": 4,
     "metadata": {},
     "output_type": "execute_result"
    }
   ],
   "source": [
    "midi_files = glob('PDMX_subset/*.mid')\n",
    "len(midi_files)"
   ]
  },
  {
   "cell_type": "markdown",
   "metadata": {},
   "source": [
    "### Train a tokenizer with the REMI method in MidiTok"
   ]
  },
  {
   "cell_type": "code",
   "execution_count": 5,
   "metadata": {
    "ExecuteTime": {
     "end_time": "2025-05-11T20:22:26.457642Z",
     "start_time": "2025-05-11T20:22:24.665748Z"
    }
   },
   "outputs": [
    {
     "name": "stdout",
     "output_type": "stream",
     "text": [
      "\n"
     ]
    }
   ],
   "source": [
    "config = TokenizerConfig(num_velocities=1, use_chords=False, use_programs=False)\n",
    "tokenizer = REMI(config)\n",
    "tokenizer.train(vocab_size=1000, files_paths=midi_files)"
   ]
  },
  {
   "cell_type": "markdown",
   "metadata": {},
   "source": [
    "### Use the trained tokenizer to get tokens for each midi file\n",
    "In REMI representation, each note will be represented with four tokens: `Position, Pitch, Velocity, Duration`, e.g. `('Position_28', 'Pitch_74', 'Velocity_127', 'Duration_0.4.8')`; a `Bar_None` token indicates the beginning of a new bar."
   ]
  },
  {
   "cell_type": "code",
   "execution_count": 6,
   "metadata": {
    "ExecuteTime": {
     "end_time": "2025-05-11T20:22:26.461444Z",
     "start_time": "2025-05-11T20:22:26.458935Z"
    }
   },
   "outputs": [
    {
     "data": {
      "text/plain": "['Bar_None',\n 'Position_0',\n 'Pitch_66',\n 'Velocity_127',\n 'Duration_1.0.8',\n 'Position_8',\n 'Pitch_66',\n 'Velocity_127',\n 'Duration_0.2.8',\n 'Position_10']"
     },
     "execution_count": 6,
     "metadata": {},
     "output_type": "execute_result"
    }
   ],
   "source": [
    "# e.g.:\n",
    "midi = Score(midi_files[0])\n",
    "tokens = tokenizer(midi)[0].tokens\n",
    "tokens[:10]"
   ]
  },
  {
   "cell_type": "markdown",
   "metadata": {},
   "source": [
    "1. Write a function to extract note pitch events from a midi file; and another extract all note pitch events from the dataset and output a dictionary that maps note pitch events to the number of times they occur in the files. (e.g. {60: 120, 61: 58, …}).\n",
    "\n",
    "`note_extraction()`\n",
    "- **Input**: a midi file\n",
    "\n",
    "- **Output**: a list of note pitch events (e.g. [60, 62, 61, ...])\n",
    "\n",
    "`note_frequency()`\n",
    "- **Input**: all midi files `midi_files`\n",
    "\n",
    "- **Output**: a dictionary that maps note pitch events to the number of times they occur, e.g {60: 120, 61: 58, …}"
   ]
  },
  {
   "cell_type": "code",
   "outputs": [
    {
     "name": "stderr",
     "output_type": "stream",
     "text": [
      "huggingface/tokenizers: The current process just got forked, after parallelism has already been used. Disabling parallelism to avoid deadlocks...\n",
      "To disable this warning, you can either:\n",
      "\t- Avoid using `tokenizers` before the fork if possible\n",
      "\t- Explicitly set the environment variable TOKENIZERS_PARALLELISM=(true | false)\n"
     ]
    },
    {
     "name": "stdout",
     "output_type": "stream",
     "text": [
      "Requirement already satisfied: mido in /Users/mehul/Documents/UCSD Classes/ML for Music/MLforMusic/.venv/lib/python3.9/site-packages (1.3.3)\r\n",
      "Requirement already satisfied: packaging in /Users/mehul/Documents/UCSD Classes/ML for Music/MLforMusic/.venv/lib/python3.9/site-packages (from mido) (24.2)\r\n",
      "\r\n",
      "\u001B[1m[\u001B[0m\u001B[34;49mnotice\u001B[0m\u001B[1;39;49m]\u001B[0m\u001B[39;49m A new release of pip is available: \u001B[0m\u001B[31;49m23.2.1\u001B[0m\u001B[39;49m -> \u001B[0m\u001B[32;49m25.1.1\u001B[0m\r\n",
      "\u001B[1m[\u001B[0m\u001B[34;49mnotice\u001B[0m\u001B[1;39;49m]\u001B[0m\u001B[39;49m To update, run: \u001B[0m\u001B[32;49mpip install --upgrade pip\u001B[0m\r\n"
     ]
    }
   ],
   "source": [
    "!pip install mido"
   ],
   "metadata": {
    "collapsed": false,
    "ExecuteTime": {
     "end_time": "2025-05-11T20:22:27.455869Z",
     "start_time": "2025-05-11T20:22:26.461714Z"
    }
   },
   "execution_count": 7
  },
  {
   "cell_type": "code",
   "execution_count": 8,
   "metadata": {
    "ExecuteTime": {
     "end_time": "2025-05-11T20:22:27.459001Z",
     "start_time": "2025-05-11T20:22:27.456945Z"
    }
   },
   "outputs": [],
   "source": [
    "def note_extraction(midi_file):\n",
    "    # Q1a: Your code goes here\n",
    "    note_events = []\n",
    "    midi = MidiFile(midi_file)\n",
    "    for track in midi.tracks:\n",
    "        for msg in track:\n",
    "            if msg.type == 'note_on' and msg.velocity > 0:\n",
    "                note_events.append(msg.note)\n",
    "                \n",
    "    return note_events"
   ]
  },
  {
   "cell_type": "code",
   "execution_count": 9,
   "metadata": {
    "ExecuteTime": {
     "end_time": "2025-05-11T20:22:27.461569Z",
     "start_time": "2025-05-11T20:22:27.459863Z"
    }
   },
   "outputs": [],
   "source": [
    "def note_frequency(midi_files):\n",
    "    # Q1b: Your code goes here\n",
    "    \n",
    "    noteMap = defaultdict(int)\n",
    "    for midi_file in midi_files:\n",
    "        notes = note_extraction(midi_file)\n",
    "        for note in notes:\n",
    "            noteMap[note] += 1\n",
    "        \n",
    "    return noteMap"
   ]
  },
  {
   "cell_type": "markdown",
   "metadata": {},
   "source": [
    "2. Write a function to normalize the above dictionary to produce probability scores (e.g. {60: 0.13, 61: 0.065, …})\n",
    "\n",
    "`note_unigram_probability()`\n",
    "- **Input**: all midi files `midi_files`\n",
    "\n",
    "- **Output**: a dictionary that maps note pitch events to probabilities, e.g. {60: 0.13, 61: 0.06, …}"
   ]
  },
  {
   "cell_type": "code",
   "execution_count": 10,
   "metadata": {
    "ExecuteTime": {
     "end_time": "2025-05-11T20:22:27.464567Z",
     "start_time": "2025-05-11T20:22:27.462556Z"
    }
   },
   "outputs": [],
   "source": [
    "def note_unigram_probability(midi_files):\n",
    "    note_counts = note_frequency(midi_files)\n",
    "    unigramProbabilities = {}\n",
    "    \n",
    "    # Q2: Your code goes here\n",
    "    # ...\n",
    "    total_notes = sum(note_counts.values())\n",
    "    for note, count in note_counts.items():\n",
    "        unigramProbabilities[note] = count / total_notes\n",
    "    \n",
    "    return unigramProbabilities"
   ]
  },
  {
   "cell_type": "markdown",
   "metadata": {},
   "source": [
    "3. Generate a table of pairwise probabilities containing p(next_note | previous_note) values for the dataset; write a function that randomly generates the next note based on the previous note based on this distribution.\n",
    "\n",
    "`note_bigram_probability()`\n",
    "- **Input**: all midi files `midi_files`\n",
    "\n",
    "- **Output**: two dictionaries:\n",
    "\n",
    "  - `bigramTransitions`: key: previous_note, value: a list of next_note, e.g. {60:[62, 64, ..], 62:[60, 64, ..], ...} (i.e., this is a list of every other note that occured after note 60, every note that occured after note 62, etc.)\n",
    "\n",
    "  - `bigramTransitionProbabilities`: key:previous_note, value: a list of probabilities for next_note in the same order of `bigramTransitions`, e.g. {60:[0.3, 0.4, ..], 62:[0.2, 0.1, ..], ...} (i.e., you are converting the values above to probabilities)\n",
    "\n",
    "`sample_next_note()`\n",
    "- **Input**: a note\n",
    "\n",
    "- **Output**: next note sampled from pairwise probabilities"
   ]
  },
  {
   "cell_type": "code",
   "execution_count": 11,
   "metadata": {
    "ExecuteTime": {
     "end_time": "2025-05-11T20:22:27.470607Z",
     "start_time": "2025-05-11T20:22:27.467509Z"
    }
   },
   "outputs": [],
   "source": [
    "def note_bigram_probability(midi_files):\n",
    "    bigramTransitions = defaultdict(list)\n",
    "    bigramTransitionProbabilities = defaultdict(list)\n",
    "\n",
    "    # Q3a: Your code goes here\n",
    "    # ...\n",
    "        \n",
    "    bigramCounts = defaultdict(dict)\n",
    "    \n",
    "    for midi_file in midi_files:\n",
    "        notes = note_extraction(midi_file)\n",
    "        for i in range(len(notes)-1):\n",
    "            prev_note = notes[i]\n",
    "            next_note = notes[i + 1]\n",
    "            bigramCounts[prev_note][next_note] += 1\n",
    "    \n",
    "    for prev_note, next_note_dict in bigramCounts.items():\n",
    "        next_notes = []\n",
    "        counts = []\n",
    "        total = 0 \n",
    "    \n",
    "        for next_note, count in next_note_dict.items():\n",
    "            next_notes.append(next_note)\n",
    "            counts.append(count)\n",
    "            total += count\n",
    "    \n",
    "        probs = [count / total for count in counts]\n",
    "        bigramTransitions[prev_note] = next_notes\n",
    "        bigramTransitionProbabilities[prev_note] = probs\n",
    "\n",
    "    return bigramTransitions, bigramTransitionProbabilities"
   ]
  },
  {
   "cell_type": "code",
   "execution_count": 12,
   "metadata": {
    "ExecuteTime": {
     "end_time": "2025-05-11T20:22:27.473529Z",
     "start_time": "2025-05-11T20:22:27.471074Z"
    }
   },
   "outputs": [],
   "source": [
    "def sample_next_note(note):\n",
    "    # Q3b: Your code goes here\n",
    "    bigramTransitions, bigramTransitionProbabilities= note_bigram_probability(midi_files)\n",
    "    \n",
    "    if note not in bigramTransitions:\n",
    "        return None  # fallback behavior\n",
    "    next_notes = bigramTransitions[note]\n",
    "    probabilities = bigramTransitionProbabilities[note]\n",
    "    return random.choices(next_notes, weights=probabilities, k=1)[0]"
   ]
  },
  {
   "cell_type": "markdown",
   "metadata": {},
   "source": [
    "4. Write a function to calculate the perplexity of your model on a midi file.\n",
    "\n",
    "    The perplexity of a model is defined as \n",
    "\n",
    "    $\\quad \\text{exp}(-\\frac{1}{N} \\sum_{i=1}^N \\text{log}(p(w_i|w_{i-1})))$\n",
    "\n",
    "    where $p(w_1|w_0) = p(w_1)$, $p(w_i|w_{i-1}) (i>1)$ refers to the pairwise probability p(next_note | previous_note).\n",
    "\n",
    "`note_bigram_perplexity()`\n",
    "- **Input**: a midi file\n",
    "\n",
    "- **Output**: perplexity value"
   ]
  },
  {
   "cell_type": "code",
   "execution_count": 13,
   "metadata": {
    "ExecuteTime": {
     "end_time": "2025-05-11T20:22:27.476176Z",
     "start_time": "2025-05-11T20:22:27.474455Z"
    }
   },
   "outputs": [],
   "source": [
    "def note_bigram_perplexity(midi_file):\n",
    "    unigramProbabilities = note_unigram_probability(midi_files)\n",
    "    bigramTransitions, bigramTransitionProbabilities = note_bigram_probability(midi_files)\n",
    "    \n",
    "    # Q4: Your code goes here\n",
    "    # Can use regular numpy.log (i.e., natural logarithm)\n",
    "    \n",
    "    notes = note_extraction(midi_file)\n",
    "    if len(notes)<2:\n",
    "        return float('inf')\n",
    "    \n",
    "    log_prob_sum = 0.0\n",
    "    N = len(notes)    \n",
    "    \n",
    "    first_note = notes[0]\n",
    "    p_first = unigramProbabilities[first_note]\n",
    "    log_prob_sum += np.log(p_first)\n",
    "    \n",
    "    for i in range(1,N):\n",
    "        prev_note = notes[i-1]\n",
    "        curr_note = notes[i]\n",
    "        \n",
    "        next_notes = bigramTransitions[prev_note]\n",
    "        probs = bigramTransitionProbabilities.get(prev_note, [])\n",
    "\n",
    "        if curr_note in next_notes:\n",
    "            idx = next_notes.index(curr_note)\n",
    "            p = probs[idx]\n",
    "        else:\n",
    "            p = 1e-6\n",
    "\n",
    "        log_prob_sum += np.log(p)\n",
    "\n",
    "    perplexity = np.exp(-log_prob_sum / N)\n",
    "    return perplexity\n",
    "    \n",
    "    \n",
    "    "
   ]
  },
  {
   "cell_type": "markdown",
   "metadata": {},
   "source": [
    "5. Implement a second-order Markov chain, i.e., one which estimates p(next_note | next_previous_note, previous_note); write a function to compute the perplexity of this new model on a midi file. \n",
    "\n",
    "    The perplexity of this model is defined as \n",
    "\n",
    "    $\\quad \\text{exp}(-\\frac{1}{N} \\sum_{i=1}^N \\text{log}(p(w_i|w_{i-2}, w_{i-1})))$\n",
    "\n",
    "    where $p(w_1|w_{-1}, w_0) = p(w_1)$, $p(w_2|w_0, w_1) = p(w_2|w_1)$, $p(w_i|w_{i-2}, w_{i-1}) (i>2)$ refers to the probability p(next_note | next_previous_note, previous_note).\n",
    "\n",
    "\n",
    "`note_trigram_probability()`\n",
    "- **Input**: all midi files `midi_files`\n",
    "\n",
    "- **Output**: two dictionaries:\n",
    "\n",
    "  - `trigramTransitions`: key - (next_previous_note, previous_note), value - a list of next_note, e.g. {(60, 62):[64, 66, ..], (60, 64):[60, 64, ..], ...}\n",
    "\n",
    "  - `trigramTransitionProbabilities`: key: (next_previous_note, previous_note), value: a list of probabilities for next_note in the same order of `trigramTransitions`, e.g. {(60, 62):[0.2, 0.2, ..], (60, 64):[0.4, 0.1, ..], ...}\n",
    "\n",
    "`note_trigram_perplexity()`\n",
    "- **Input**: a midi file\n",
    "\n",
    "- **Output**: perplexity value"
   ]
  },
  {
   "cell_type": "code",
   "execution_count": 14,
   "metadata": {
    "ExecuteTime": {
     "end_time": "2025-05-11T20:22:27.502121Z",
     "start_time": "2025-05-11T20:22:27.478547Z"
    }
   },
   "outputs": [],
   "source": [
    "def note_trigram_probability(midi_files):\n",
    "    trigramTransitions = defaultdict(list)\n",
    "    trigramTransitionProbabilities = defaultdict(list)\n",
    "    \n",
    "    # Q5a: Your code goes here\n",
    "    # ...\n",
    "    \n",
    "    trigramTransitionCounts = defaultdict(dict)\n",
    "    \n",
    "    \n",
    "    for midi_file in midi_files:\n",
    "        notes = note_extraction(midi_file)\n",
    "        for i in range(2, len(notes)):\n",
    "            prev_prev = notes[i - 2]\n",
    "            prev = notes[i - 1]\n",
    "            curr = notes[i]\n",
    "\n",
    "            key = (prev_prev, prev)\n",
    "            if curr in trigramTransitionCounts[key]:\n",
    "                trigramTransitionCounts[key][curr] += 1\n",
    "            else:\n",
    "                trigramTransitionCounts[key][curr] = 1\n",
    "\n",
    "    # Now convert counts to transitions and probabilities\n",
    "    for key in trigramTransitionCounts:\n",
    "        next_notes = list(trigramTransitionCounts[key].keys())\n",
    "        counts = list(trigramTransitionCounts[key].values())\n",
    "        total = sum(counts)\n",
    "        probs = [count / total for count in counts]\n",
    "\n",
    "        trigramTransitions[key] = next_notes\n",
    "        trigramTransitionProbabilities[key] = probs\n",
    "\n",
    "    return trigramTransitions, trigramTransitionProbabilities"
   ]
  },
  {
   "cell_type": "code",
   "execution_count": 15,
   "metadata": {
    "ExecuteTime": {
     "end_time": "2025-05-11T20:22:27.502743Z",
     "start_time": "2025-05-11T20:22:27.483034Z"
    }
   },
   "outputs": [],
   "source": [
    "def note_trigram_perplexity(midi_file):\n",
    "    unigramProbabilities = note_unigram_probability(midi_files)\n",
    "    bigramTransitions, bigramTransitionProbabilities = note_bigram_probability(midi_files)\n",
    "    trigramTransitions, trigramTransitionProbabilities = note_trigram_probability(midi_files)\n",
    "    \n",
    "    # Q5b: Your code goes here\n",
    "    \n",
    "    notes = note_extraction(midi_file)\n",
    "    if len(notes) < 3:\n",
    "        return float('inf')\n",
    "\n",
    "    log_prob_sum = 0.0\n",
    "    N = len(notes)\n",
    "    epsilon = 1e-10  # small fallback value\n",
    "\n",
    "    # First note uses unigram\n",
    "    p1 = unigramProbabilities.get[notes[0]]\n",
    "    log_prob_sum += np.log(p1)\n",
    "\n",
    "    # Second note uses bigram\n",
    "    prev = notes[0]\n",
    "    curr = notes[1]\n",
    "    next_notes = bigramTransitions[prev]\n",
    "    probs = bigramTransitionProbabilities[prev]\n",
    "\n",
    "    if curr in next_notes:\n",
    "        idx = next_notes.index(curr)\n",
    "        p2 = probs[idx]\n",
    "    else:\n",
    "        p2 = epsilon\n",
    "    log_prob_sum += np.log(p2)\n",
    "\n",
    "    # From third note onwards use trigram\n",
    "    for i in range(2, N):\n",
    "        prev_prev = notes[i - 2]\n",
    "        prev = notes[i - 1]\n",
    "        curr = notes[i]\n",
    "\n",
    "        key = (prev_prev, prev)\n",
    "        next_notes = trigramTransitions.get(key, [])\n",
    "        probs = trigramTransitionProbabilities.get(key, [])\n",
    "\n",
    "        if curr in next_notes:\n",
    "            idx = next_notes.index(curr)\n",
    "            p = probs[idx]\n",
    "        else:\n",
    "            p = epsilon\n",
    "\n",
    "        log_prob_sum += np.log(p)\n",
    "\n",
    "    perplexity = np.exp(-log_prob_sum / N)\n",
    "    return perplexity"
   ]
  },
  {
   "cell_type": "markdown",
   "metadata": {},
   "source": [
    "6. Our model currently doesn’t have any knowledge of beats. Write a function that extracts beat lengths and outputs a list of [(beat position; beat length)] values.\n",
    "\n",
    "    Recall that each note will be encoded as `Position, Pitch, Velocity, Duration` using REMI. Please keep the `Position` value for beat position, and convert `Duration` to beat length using provided lookup table `duration2length` (see below).\n",
    "\n",
    "    For example, for a note represented by four tokens `('Position_24', 'Pitch_72', 'Velocity_127', 'Duration_0.4.8')`, the extracted (beat position; beat length) value is `(24, 4)`.\n",
    "\n",
    "    As a result, we will obtain a list like [(0,8),(8,16),(24,4),(28,4),(0,4)...], where the next beat position is the previous beat position + the beat length. As we divide each bar into 32 positions by default, when reaching the end of a bar (i.e. 28 + 4 = 32 in the case of (28, 4)), the beat position reset to 0."
   ]
  },
  {
   "cell_type": "code",
   "execution_count": 16,
   "metadata": {
    "ExecuteTime": {
     "end_time": "2025-05-11T20:22:27.503269Z",
     "start_time": "2025-05-11T20:22:27.485529Z"
    }
   },
   "outputs": [],
   "source": [
    "duration2length = {\n",
    "    '0.2.8': 2,  # sixteenth note, 0.25 beat in 4/4 time signature\n",
    "    '0.4.8': 4,  # eighth note, 0.5 beat in 4/4 time signature\n",
    "    '1.0.8': 8,  # quarter note, 1 beat in 4/4 time signature\n",
    "    '2.0.8': 16, # half note, 2 beats in 4/4 time signature\n",
    "    '4.0.4': 32, # whole note, 4 beats in 4/4 time signature\n",
    "}"
   ]
  },
  {
   "cell_type": "markdown",
   "metadata": {},
   "source": [
    "`beat_extraction()`\n",
    "- **Input**: a midi file\n",
    "\n",
    "- **Output**: a list of (beat position; beat length) values"
   ]
  },
  {
   "cell_type": "code",
   "execution_count": 17,
   "metadata": {
    "ExecuteTime": {
     "end_time": "2025-05-11T20:22:27.503785Z",
     "start_time": "2025-05-11T20:22:27.488184Z"
    }
   },
   "outputs": [],
   "source": [
    "def beat_extraction(midi_file):\n",
    "    # Q6: Your code goes here\n",
    "    \n",
    "    midi = MidiFile(midi_file)    \n",
    "    tokenizer = REMI()\n",
    "    tokens = tokenizer(midi)\n",
    "    \n",
    "    output = []\n",
    "    current_pos = None\n",
    "    for token in tokens:\n",
    "        if token.type == \"Position\":\n",
    "            current_pos = int(token.value)\n",
    "        elif token.type == \"Duration\":\n",
    "            beat_length = duration2length.get(token.value)\n",
    "            if current_pos is not None and beat_length is not None:\n",
    "                output.append((current_pos % 32, beat_length))\n",
    "                current_pos = None  # Reset for next note\n",
    "    return output"
   ]
  },
  {
   "cell_type": "markdown",
   "metadata": {},
   "source": [
    "7. Implement a Markov chain that computes p(beat_length | previous_beat_length) based on the above function.\n",
    "\n",
    "`beat_bigram_probability()`\n",
    "- **Input**: all midi files `midi_files`\n",
    "\n",
    "- **Output**: two dictionaries:\n",
    "\n",
    "  - `bigramBeatTransitions`: key: previous_beat_length, value: a list of beat_length, e.g. {4:[8, 2, ..], 8:[8, 4, ..], ...}\n",
    "\n",
    "  - `bigramBeatTransitionProbabilities`: key - previous_beat_length, value - a list of probabilities for beat_length in the same order of `bigramBeatTransitions`, e.g. {4:[0.3, 0.2, ..], 8:[0.4, 0.4, ..], ...}"
   ]
  },
  {
   "cell_type": "code",
   "execution_count": 18,
   "metadata": {
    "ExecuteTime": {
     "end_time": "2025-05-11T20:22:27.504807Z",
     "start_time": "2025-05-11T20:22:27.492584Z"
    }
   },
   "outputs": [],
   "source": [
    "def beat_bigram_probability(midi_files):\n",
    "    bigramBeatTransitions = defaultdict(list)\n",
    "    bigramBeatTransitionProbabilities = defaultdict(list)\n",
    "    \n",
    "    # Q7: Your code goes here\n",
    "    # ...\n",
    "    for midi_file in midi_files:\n",
    "        # Extract beat positions and lengths for each midi file\n",
    "        beat_info = beat_extraction(midi_file)  # Assuming this gives [(position, beat_length), ...]\n",
    "        \n",
    "        # Iterate through the beat lengths and track transitions\n",
    "        for i in range(1, len(beat_info)):\n",
    "            previous_beat_length = beat_info[i - 1][1]  # Get previous beat length\n",
    "            current_beat_length = beat_info[i][1]  # Get current beat length\n",
    "            \n",
    "            # Track the transitions\n",
    "            bigramBeatTransitions[previous_beat_length].append(current_beat_length)\n",
    "    \n",
    "    # Now calculate probabilities\n",
    "    for previous_beat_length, next_beat_lengths in bigramBeatTransitions.items():\n",
    "        total_transitions = len(next_beat_lengths)\n",
    "        transition_counts = defaultdict(int)\n",
    "        \n",
    "        for next_beat_length in next_beat_lengths:\n",
    "            transition_counts[next_beat_length] += 1\n",
    "        \n",
    "        # Calculate probabilities based on counts\n",
    "        probabilities = [count / total_transitions for count in transition_counts.values()]\n",
    "        \n",
    "        bigramBeatTransitionProbabilities[previous_beat_length] = probabilities\n",
    "        # Ensure the list of possible next beat lengths is also in the same order as probabilities\n",
    "        bigramBeatTransitions[previous_beat_length] = list(transition_counts.keys())\n",
    "    \n",
    "    return bigramBeatTransitions, bigramBeatTransitionProbabilities"
   ]
  },
  {
   "cell_type": "markdown",
   "metadata": {},
   "source": [
    "8. Implement a function to compute p(beat length | beat position), and compute the perplexity of your models from Q7 and Q8. For both models, we only consider the probabilities of predicting the sequence of **beat lengths**.\n",
    "\n",
    "`beat_pos_bigram_probability()`\n",
    "- **Input**: all midi files `midi_files`\n",
    "\n",
    "- **Output**: two dictionaries:\n",
    "\n",
    "  - `bigramBeatPosTransitions`: key - beat_position, value - a list of beat_length\n",
    "\n",
    "  - `bigramBeatPosTransitionProbabilities`: key - beat_position, value - a list of probabilities for beat_length in the same order of `bigramBeatPosTransitions`\n",
    "\n",
    "`beat_bigram_perplexity()`\n",
    "- **Input**: a midi file\n",
    "\n",
    "- **Output**: two perplexity values correspond to the models in Q7 and Q8, respectively"
   ]
  },
  {
   "cell_type": "code",
   "execution_count": 19,
   "metadata": {
    "ExecuteTime": {
     "end_time": "2025-05-11T20:22:27.505378Z",
     "start_time": "2025-05-11T20:22:27.496719Z"
    }
   },
   "outputs": [],
   "source": [
    "def beat_pos_bigram_probability(midi_files):\n",
    "    bigramBeatPosTransitions = defaultdict(list)\n",
    "    bigramBeatPosTransitionProbabilities = defaultdict(list)\n",
    "    \n",
    "    # Q8a: Your code goes here\n",
    "    # ...\n",
    "    \n",
    "    for midi_file in midi_files:\n",
    "        # Extract beat position and length pairs from the midi file\n",
    "        beat_info = beat_extraction(midi_file)  # [(position, beat_length), ...]\n",
    "        \n",
    "        for i in range(1, len(beat_info)):\n",
    "            previous_beat_position = beat_info[i - 1][0]  # Beat position\n",
    "            current_beat_length = beat_info[i][1]  # Beat length\n",
    "\n",
    "            # Track transitions for (beat_position -> beat_length)\n",
    "            bigramBeatPosTransitions[previous_beat_position].append(current_beat_length)\n",
    "    \n",
    "    # Calculate transition probabilities\n",
    "    for previous_beat_position, next_beat_lengths in bigramBeatPosTransitions.items():\n",
    "        total_transitions = len(next_beat_lengths)\n",
    "        transition_counts = defaultdict(int)\n",
    "\n",
    "        for next_beat_length in next_beat_lengths:\n",
    "            transition_counts[next_beat_length] += 1\n",
    "        \n",
    "        probabilities = [count / total_transitions for count in transition_counts.values()]\n",
    "        \n",
    "        bigramBeatPosTransitionProbabilities[previous_beat_position] = probabilities\n",
    "        bigramBeatPosTransitions[previous_beat_position] = list(transition_counts.keys())\n",
    "    \n",
    "    return bigramBeatPosTransitions, bigramBeatPosTransitionProbabilities"
   ]
  },
  {
   "cell_type": "code",
   "execution_count": 20,
   "metadata": {
    "ExecuteTime": {
     "end_time": "2025-05-11T20:22:27.524409Z",
     "start_time": "2025-05-11T20:22:27.501314Z"
    }
   },
   "outputs": [],
   "source": [
    "import math\n",
    "\n",
    "\n",
    "def beat_bigram_perplexity(midi_file):\n",
    "    bigramBeatTransitions, bigramBeatTransitionProbabilities = beat_bigram_probability(midi_files)\n",
    "    bigramBeatPosTransitions, bigramBeatPosTransitionProbabilities = beat_pos_bigram_probability(midi_files)\n",
    "    # Q8b: Your code goes here\n",
    "    # Hint: one more probability function needs to be computed\n",
    "    # Helper function to calculate perplexity given a model\n",
    "    def calculate_perplexity(transitions, transition_probabilities, beat_info):\n",
    "        log_prob_sum = 0\n",
    "        N = len(beat_info)\n",
    "        \n",
    "        for i in range(1, N):\n",
    "            prev_value = beat_info[i - 1][1]  # Get previous beat length\n",
    "            current_value = beat_info[i][1]  # Get current beat length\n",
    "            \n",
    "            if prev_value in transitions:\n",
    "                possible_next_values = transitions[prev_value]\n",
    "                probabilities = transition_probabilities[prev_value]\n",
    "                \n",
    "                if current_value in possible_next_values:\n",
    "                    idx = possible_next_values.index(current_value)\n",
    "                    prob = probabilities[idx]\n",
    "                else:\n",
    "                    prob = 1e-6  # Small probability if not found in transitions\n",
    "            else:\n",
    "                prob = 1e-6  # Small probability if previous value has no transition\n",
    "            \n",
    "            log_prob_sum += math.log(prob)\n",
    "        \n",
    "        return math.exp(-log_prob_sum / N)\n",
    "    \n",
    "    beat_info = beat_extraction(midi_file)  # [(position, beat_length), ...]\n",
    "\n",
    "\n",
    "    # perplexity for Q7\n",
    "    perplexity_Q7 = calculate_perplexity(bigramBeatTransitions, bigramBeatTransitionProbabilities, beat_info)\n",
    "    \n",
    "    # perplexity for Q8\n",
    "    perplexity_Q8 = calculate_perplexity(bigramBeatPosTransitions, bigramBeatPosTransitionProbabilities, beat_info)\n",
    "    \n",
    "    return perplexity_Q7, perplexity_Q8"
   ]
  },
  {
   "cell_type": "markdown",
   "metadata": {},
   "source": [
    "9. Implement a Markov chain that computes p(beat_length | previous_beat_length, beat_position), and report its perplexity. \n",
    "\n",
    "`beat_trigram_probability()`\n",
    "- **Input**: all midi files `midi_files`\n",
    "\n",
    "- **Output**: two dictionaries:\n",
    "\n",
    "  - `trigramBeatTransitions`: key: (previous_beat_length, beat_position), value: a list of beat_length\n",
    "\n",
    "  - `trigramBeatTransitionProbabilities`: key: (previous_beat_length, beat_position), value: a list of probabilities for beat_length in the same order of `trigramBeatTransitions`\n",
    "\n",
    "`beat_trigram_perplexity()`\n",
    "- **Input**: a midi file\n",
    "\n",
    "- **Output**: perplexity value"
   ]
  },
  {
   "cell_type": "code",
   "execution_count": 21,
   "metadata": {
    "ExecuteTime": {
     "end_time": "2025-05-11T20:22:27.535336Z",
     "start_time": "2025-05-11T20:22:27.505312Z"
    }
   },
   "outputs": [],
   "source": [
    "def beat_trigram_probability(midi_files):\n",
    "    trigramBeatTransitions = defaultdict(list)\n",
    "    trigramBeatTransitionProbabilities = defaultdict(list)\n",
    "\n",
    "    for midi_file in midi_files:\n",
    "        # Extract beat position and length pairs from the midi file\n",
    "        beat_info = beat_extraction(midi_file)  # [(position, beat_length), ...]\n",
    "        \n",
    "        for i in range(2, len(beat_info)):  # Start from index 2 to have previous two values\n",
    "            previous_beat_length = beat_info[i - 2][1]  # Previous beat length\n",
    "            current_beat_position = beat_info[i - 1][0]  # Current beat position\n",
    "            current_beat_length = beat_info[i][1]  # Current beat length\n",
    "\n",
    "            # Track transitions for (previous_beat_length, beat_position -> beat_length)\n",
    "            trigramBeatTransitions[(previous_beat_length, current_beat_position)].append(current_beat_length)\n",
    "\n",
    "    # Calculate transition probabilities\n",
    "    for (previous_beat_length, current_beat_position), next_beat_lengths in trigramBeatTransitions.items():\n",
    "        total_transitions = len(next_beat_lengths)\n",
    "        transition_counts = defaultdict(int)\n",
    "\n",
    "        for next_beat_length in next_beat_lengths:\n",
    "            transition_counts[next_beat_length] += 1\n",
    "        \n",
    "        probabilities = [count / total_transitions for count in transition_counts.values()]\n",
    "        \n",
    "        trigramBeatTransitionProbabilities[(previous_beat_length, current_beat_position)] = probabilities\n",
    "        trigramBeatTransitions[(previous_beat_length, current_beat_position)] = list(transition_counts.keys())\n",
    "    \n",
    "    return trigramBeatTransitions, trigramBeatTransitionProbabilities"
   ]
  },
  {
   "cell_type": "code",
   "execution_count": 22,
   "metadata": {
    "ExecuteTime": {
     "end_time": "2025-05-11T20:22:27.536122Z",
     "start_time": "2025-05-11T20:22:27.509190Z"
    }
   },
   "outputs": [],
   "source": [
    "def beat_trigram_perplexity(midi_file):\n",
    "    # Q7: Get the beat length model (previous model from Q7)\n",
    "    bigramBeatPosTransitions, bigramBeatPosTransitionProbabilities = beat_pos_bigram_probability(midi_files)\n",
    "    \n",
    "    # Q9a: Get the trigram-based model\n",
    "    trigramBeatTransitions, trigramBeatTransitionProbabilities = beat_trigram_probability(midi_files)\n",
    "    \n",
    "    # Helper function to calculate perplexity given a model\n",
    "    def calculate_perplexity(transitions, transition_probabilities, beat_info):\n",
    "        log_prob_sum = 0\n",
    "        N = len(beat_info)\n",
    "        \n",
    "        for i in range(2, N):\n",
    "            prev_beat_length = beat_info[i - 2][1]  # Previous beat length\n",
    "            current_beat_position = beat_info[i - 1][0]  # Current beat position\n",
    "            current_beat_length = beat_info[i][1]  # Current beat length\n",
    "            \n",
    "            if (prev_beat_length, current_beat_position) in transitions:\n",
    "                possible_next_values = transitions[(prev_beat_length, current_beat_position)]\n",
    "                probabilities = transition_probabilities[(prev_beat_length, current_beat_position)]\n",
    "                \n",
    "                if current_beat_length in possible_next_values:\n",
    "                    idx = possible_next_values.index(current_beat_length)\n",
    "                    prob = probabilities[idx]\n",
    "                else:\n",
    "                    prob = 1e-6  # Small probability if not found in transitions\n",
    "            else:\n",
    "                prob = 1e-6  # Small probability if previous value has no transition\n",
    "            \n",
    "            log_prob_sum += math.log(prob)\n",
    "        \n",
    "        return math.exp(-log_prob_sum / N)\n",
    "    \n",
    "    # Extract beat information from the midi file\n",
    "    beat_info = beat_extraction(midi_file)  # [(position, beat_length), ...]\n",
    "    \n",
    "    # Perplexity for Q9 (Trigram Model)\n",
    "    perplexity_Q9 = calculate_perplexity(trigramBeatTransitions, trigramBeatTransitionProbabilities, beat_info)\n",
    "    \n",
    "    return perplexity_Q9"
   ]
  },
  {
   "cell_type": "markdown",
   "metadata": {},
   "source": [
    "10. Use the model from Q5 to generate N notes, and the model from Q8 to generate beat lengths for each note. Save the generated music as a midi file (see code from workbook1) as q10.mid. Remember to reset the beat position to 0 when reaching the end of a bar.\n",
    "\n",
    "`music_generate`\n",
    "- **Input**: target length, e.g. 500\n",
    "\n",
    "- **Output**: a midi file q10.mid\n",
    "\n",
    "Note: the duration of one beat in MIDIUtil is 1, while in MidiTok is 8. Divide beat length by 8 if you use methods in MIDIUtil to save midi files."
   ]
  },
  {
   "cell_type": "code",
   "execution_count": 23,
   "metadata": {
    "ExecuteTime": {
     "end_time": "2025-05-11T20:22:27.545166Z",
     "start_time": "2025-05-11T20:22:27.515189Z"
    }
   },
   "outputs": [],
   "source": [
    "def music_generate(length):\n",
    "    # sample notes\n",
    "    unigramProbabilities = note_unigram_probability(midi_files)\n",
    "    bigramTransitions, bigramTransitionProbabilities = note_bigram_probability(midi_files)\n",
    "    trigramTransitions, trigramTransitionProbabilities = note_trigram_probability(midi_files)\n",
    "    \n",
    "    # Initialize the sampled notes list with a starting note (e.g., a random note from the unigram model)\n",
    "    sampled_notes = [random.choice(list(unigramProbabilities.keys()))]  # Start with a random note\n",
    "    \n",
    "    # Sample notes based on the trigram model\n",
    "    for i in range(2, length):  # Start from index 2 because we need at least 2 notes to form a trigram\n",
    "        prev_prev = sampled_notes[i - 2]\n",
    "        prev = sampled_notes[i - 1]\n",
    "        \n",
    "        key = (prev_prev, prev)\n",
    "        if key in trigramTransitions:\n",
    "            next_notes = trigramTransitions[key]\n",
    "            probs = trigramTransitionProbabilities[key]\n",
    "            sampled_notes.append(random.choices(next_notes, probs)[0])\n",
    "        else:\n",
    "            sampled_notes.append(random.choice(list(unigramProbabilities.keys())))  # Fall back to unigram\n",
    "    \n",
    "    # Step 2: Sample beat lengths using the trigram model (Q8)\n",
    "    trigramBeatTransitions, trigramBeatTransitionProbabilities = beat_trigram_probability(midi_files)\n",
    "    \n",
    "    # Initialize the sampled beats list\n",
    "    sampled_beats = []\n",
    "    current_beat_position = 0\n",
    "    previous_beat_length = random.choice(list(trigramBeatTransitions.keys()))[0]  # Start with a random previous beat length\n",
    "    \n",
    "    for i in range(length):\n",
    "        key = (previous_beat_length, current_beat_position)\n",
    "        if key in trigramBeatTransitions:\n",
    "            next_beat_lengths = trigramBeatTransitions[key]\n",
    "            probs = trigramBeatTransitionProbabilities[key]\n",
    "            beat_length = random.choices(next_beat_lengths, probs)[0]\n",
    "        else:\n",
    "            beat_length = random.choice(list(trigramBeatTransitions.values()))[0]  # Fall back to random beat length\n",
    "\n",
    "        sampled_beats.append(beat_length)\n",
    "        \n",
    "        # Update the beat position, and reset to 0 if the end of a bar is reached (assuming 4 beats per bar)\n",
    "        current_beat_position += 1\n",
    "        if current_beat_position == 4:\n",
    "            current_beat_position = 0\n",
    "        \n",
    "        # Update previous beat length for next iteration\n",
    "        previous_beat_length = beat_length\n",
    "    \n",
    "    # Step 3: Save generated music as a MIDI file (q10.mid)\n",
    "    midi = MIDIFile(1)  # Create a new MIDI file with one track\n",
    "    track = 0\n",
    "    midi.addTrackName(track, 0, \"Generated Music\")\n",
    "    midi.addTempo(track, 0, 120)  # Set the tempo (beats per minute)\n",
    "    \n",
    "    time = 0  # Start time in beats\n",
    "    for note, beat_length in zip(sampled_notes, sampled_beats):\n",
    "        midi.addNote(track, 0, note, time, beat_length / 8, 100)  # Divide beat length by 8 for MIDIUtil\n",
    "        time += beat_length / 8  # Increment the time by the length of the note in beats\n",
    "    \n",
    "    with open(\"q10.mid\", \"wb\") as f:\n",
    "        midi.writeFile(f)"
   ]
  },
  {
   "cell_type": "code",
   "outputs": [
    {
     "name": "stderr",
     "output_type": "stream",
     "text": [
      "huggingface/tokenizers: The current process just got forked, after parallelism has already been used. Disabling parallelism to avoid deadlocks...\n",
      "To disable this warning, you can either:\n",
      "\t- Avoid using `tokenizers` before the fork if possible\n",
      "\t- Explicitly set the environment variable TOKENIZERS_PARALLELISM=(true | false)\n"
     ]
    },
    {
     "name": "stdout",
     "output_type": "stream",
     "text": [
      "[NbConvertApp] Converting notebook homework3.ipynb to python\r\n",
      "[NbConvertApp] Writing 27853 bytes to homework3.py\r\n"
     ]
    }
   ],
   "source": [
    "!jupyter nbconvert homework3.ipynb --to python"
   ],
   "metadata": {
    "collapsed": false,
    "ExecuteTime": {
     "end_time": "2025-05-11T20:22:28.434780Z",
     "start_time": "2025-05-11T20:22:27.520366Z"
    }
   },
   "execution_count": 24
  }
 ],
 "metadata": {
  "kernelspec": {
   "display_name": "Python 3 (ipykernel)",
   "language": "python",
   "name": "python3"
  },
  "language_info": {
   "codemirror_mode": {
    "name": "ipython",
    "version": 3
   },
   "file_extension": ".py",
   "mimetype": "text/x-python",
   "name": "python",
   "nbconvert_exporter": "python",
   "pygments_lexer": "ipython3",
   "version": "3.11.2"
  }
 },
 "nbformat": 4,
 "nbformat_minor": 2
}
