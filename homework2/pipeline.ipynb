{
 "cells": [
  {
   "cell_type": "markdown",
   "metadata": {},
   "source": [
    "# Homework 2: training pipeline\n",
    "\n",
    "This code will test your homework 2 solutions by using them in a complete ML pipeline. You should run this code in order to tune your model and save your model weights (which will also be uploaded as part of your solution)"
   ]
  },
  {
   "cell_type": "code",
   "execution_count": 1,
   "metadata": {
    "ExecuteTime": {
     "end_time": "2025-04-26T22:40:56.008106Z",
     "start_time": "2025-04-26T22:40:55.944276Z"
    }
   },
   "outputs": [],
   "source": [
    "# Download the training data from the homework2 folder:\n",
    "# unzip using tar xzvvf nsynth_subset.tar.gz\n",
    "# (this is a small subset of the \"nsynth\" dataset: https://magenta.tensorflow.org/datasets/nsynth)"
   ]
  },
  {
   "cell_type": "code",
   "execution_count": 2,
   "metadata": {
    "ExecuteTime": {
     "end_time": "2025-04-26T22:41:06.206483Z",
     "start_time": "2025-04-26T22:40:56.012506Z"
    }
   },
   "outputs": [
    {
     "name": "stdout",
     "output_type": "stream",
     "text": [
      "821\n",
      "[0, 0, 1, 1, 0]\n"
     ]
    }
   ],
   "source": [
    "import homework2"
   ]
  },
  {
   "cell_type": "markdown",
   "metadata": {},
   "source": [
    "### Install and Load Required Libraries  "
   ]
  },
  {
   "cell_type": "code",
   "execution_count": 3,
   "metadata": {
    "ExecuteTime": {
     "end_time": "2025-04-26T22:41:06.208462Z",
     "start_time": "2025-04-26T22:41:06.206075Z"
    }
   },
   "outputs": [],
   "source": [
    "# !pip install librosa\n",
    "# !pip install torch\n",
    "# !pip install glob\n",
    "# !pip install numpy"
   ]
  },
  {
   "cell_type": "code",
   "execution_count": 4,
   "metadata": {
    "ExecuteTime": {
     "end_time": "2025-04-26T22:41:06.212060Z",
     "start_time": "2025-04-26T22:41:06.207399Z"
    }
   },
   "outputs": [],
   "source": [
    "import torch\n",
    "import torch.nn as nn\n",
    "import torch.nn.functional as nnF\n",
    "import torch.optim as optim\n",
    "from torch.utils.data import Dataset, DataLoader\n",
    "import numpy as np\n",
    "import librosa\n",
    "import random\n",
    "import glob"
   ]
  },
  {
   "cell_type": "code",
   "execution_count": 5,
   "metadata": {
    "ExecuteTime": {
     "end_time": "2025-04-26T22:41:06.213316Z",
     "start_time": "2025-04-26T22:41:06.210123Z"
    }
   },
   "outputs": [],
   "source": [
    "BATCH_SIZE = 16\n",
    "torch.use_deterministic_algorithms(True)"
   ]
  },
  {
   "cell_type": "code",
   "execution_count": 6,
   "metadata": {
    "ExecuteTime": {
     "end_time": "2025-04-26T22:41:06.215420Z",
     "start_time": "2025-04-26T22:41:06.212485Z"
    }
   },
   "outputs": [],
   "source": [
    "if not len(homework2.audio_paths):\n",
    "    print(\"You probably need to set the dataroot folder correctly\")"
   ]
  },
  {
   "cell_type": "code",
   "execution_count": 7,
   "metadata": {
    "ExecuteTime": {
     "end_time": "2025-04-26T22:41:06.224787Z",
     "start_time": "2025-04-26T22:41:06.214410Z"
    }
   },
   "outputs": [],
   "source": [
    "# Some helper functions. These are the same as what the autograder runs."
   ]
  },
  {
   "cell_type": "code",
   "execution_count": 8,
   "metadata": {
    "ExecuteTime": {
     "end_time": "2025-04-26T22:41:06.225942Z",
     "start_time": "2025-04-26T22:41:06.216045Z"
    }
   },
   "outputs": [],
   "source": [
    "# Split dataset into train / valid / test\n",
    "def split_data(waveforms, labels, train_ratio=0.7, valid_ratio=0.15):\n",
    "    assert(train_ratio + valid_ratio < 1)\n",
    "    test_ratio = 1 - (train_ratio + valid_ratio)\n",
    "    N = len(waveforms)\n",
    "    Ntrain = int(N * train_ratio)\n",
    "    Nvalid = int(N * valid_ratio)\n",
    "    Ntest = int(N * test_ratio)\n",
    "    Wtrain = waveforms[:Ntrain]\n",
    "    Wvalid = waveforms[Ntrain:Ntrain + Nvalid]\n",
    "    Wtest = waveforms[Ntrain + Nvalid:]\n",
    "    ytrain = labels[:Ntrain]\n",
    "    yvalid = labels[Ntrain:Ntrain + Nvalid]\n",
    "    ytest = labels[Ntrain + Nvalid:]\n",
    "    return Wtrain,Wvalid,Wtest,ytrain,yvalid,ytest"
   ]
  },
  {
   "cell_type": "code",
   "execution_count": 9,
   "metadata": {
    "ExecuteTime": {
     "end_time": "2025-04-26T22:41:06.226550Z",
     "start_time": "2025-04-26T22:41:06.219753Z"
    }
   },
   "outputs": [],
   "source": [
    "def process_data(W, feature_function):\n",
    "    return [feature_function(path) for path in W]"
   ]
  },
  {
   "cell_type": "code",
   "execution_count": 10,
   "metadata": {
    "ExecuteTime": {
     "end_time": "2025-04-26T22:41:06.227041Z",
     "start_time": "2025-04-26T22:41:06.222617Z"
    }
   },
   "outputs": [],
   "source": [
    "class InstrumentDataset(Dataset):\n",
    "    def __init__(self, features, labels):\n",
    "        self.features = features\n",
    "        self.labels = labels\n",
    "        \n",
    "    def __len__(self):\n",
    "        return len(self.labels)\n",
    "\n",
    "    def __getitem__(self, idx):\n",
    "        features = self.features[idx]\n",
    "        label = self.labels[idx]\n",
    "\n",
    "        return features, torch.tensor(label, dtype=torch.long)"
   ]
  },
  {
   "cell_type": "code",
   "execution_count": 11,
   "metadata": {
    "ExecuteTime": {
     "end_time": "2025-04-26T22:41:06.253353Z",
     "start_time": "2025-04-26T22:41:06.228593Z"
    }
   },
   "outputs": [],
   "source": [
    "class Loaders():\n",
    "    def __init__(self, waveforms, labels, feature_function, seed = 0):\n",
    "        torch.manual_seed(seed)\n",
    "        random.seed(seed)\n",
    "        self.Wtrain, self.Wvalid, self.Wtest, self.ytrain, self.yvalid, self.ytest = split_data(waveforms, labels)\n",
    "        \n",
    "        self.Xtrain = process_data(self.Wtrain, feature_function)\n",
    "        self.Xvalid = process_data(self.Wvalid, feature_function)\n",
    "        self.Xtest = process_data(self.Wtest, feature_function)\n",
    "        \n",
    "        self.dataTrain = InstrumentDataset(self.Xtrain, self.ytrain)\n",
    "        self.dataValid = InstrumentDataset(self.Xvalid, self.yvalid)\n",
    "        self.dataTest = InstrumentDataset(self.Xtest, self.ytest)\n",
    "        \n",
    "        self.loaderTrain = DataLoader(self.dataTrain, batch_size=BATCH_SIZE, shuffle=False, num_workers=0)\n",
    "        self.loaderValid = DataLoader(self.dataValid, batch_size=BATCH_SIZE, shuffle=False, num_workers=0)\n",
    "        self.loaderTest = DataLoader(self.dataTest, batch_size=BATCH_SIZE, shuffle=False, num_workers=0)"
   ]
  },
  {
   "cell_type": "code",
   "execution_count": 12,
   "metadata": {
    "ExecuteTime": {
     "end_time": "2025-04-26T22:41:06.253919Z",
     "start_time": "2025-04-26T22:41:06.237916Z"
    }
   },
   "outputs": [],
   "source": [
    "class Pipeline():\n",
    "    def __init__(self, module, learning_rate, seed = 0):\n",
    "        # These two lines will (mostly) make things deterministic.\n",
    "        # You're welcome to modify them to try to get a better solution.\n",
    "        torch.manual_seed(seed)\n",
    "        random.seed(seed)\n",
    "\n",
    "        self.device = torch.device(\"cpu\") # Can change this if you have a GPU, but the autograder will use CPU\n",
    "        self.criterion = nn.CrossEntropyLoss()\n",
    "        \n",
    "        self.model = module.to(self.device)\n",
    "        self.optimizer = optim.Adam(self.model.parameters(), lr=learning_rate)\n",
    "\n",
    "    def evaluate(self, loader, which = \"valid\"):\n",
    "        self.model.eval()\n",
    "\n",
    "        correct = 0\n",
    "        total = 0\n",
    "\n",
    "        with torch.no_grad():\n",
    "            for inputs, labels in loader:\n",
    "                inputs, labels = inputs.to(self.device), labels.to(self.device)\n",
    "\n",
    "                outputs = self.model(inputs)\n",
    "                #loss = criterion(outputs, labels) # validation loss\n",
    "\n",
    "                _, predicted = torch.max(outputs.data, 1)\n",
    "                total += labels.size(0)\n",
    "                correct += (predicted == labels).sum().item()\n",
    "\n",
    "        acc = correct / total\n",
    "        \n",
    "        return acc\n",
    "    \n",
    "    def train(self, loaders,\n",
    "          num_epochs=1, # Train for a single epoch by default\n",
    "          model_path=None): # (Optionally) provide a path to save the best model\n",
    "        val_acc = 0\n",
    "        best_val_acc = 0\n",
    "        for epoch in range(num_epochs):\n",
    "            self.model.train()\n",
    "            \n",
    "            losses = []\n",
    "\n",
    "            for inputs, labels in loaders.loaderTrain:\n",
    "                inputs, labels = inputs.to(self.device), labels.to(self.device)\n",
    "\n",
    "                self.optimizer.zero_grad()\n",
    "                outputs = self.model(inputs)\n",
    "                loss = self.criterion(outputs, labels)\n",
    "                loss.backward()\n",
    "                self.optimizer.step()\n",
    "                losses.append(float(loss))\n",
    "            \n",
    "            self.model.eval()\n",
    "            val_acc = self.evaluate(loaders.loaderValid)\n",
    "            print(\"Epoch \" + str(epoch) + \", loss = \" + str(sum(losses)/len(losses)) +\\\n",
    "                  \", validation accuracy = \" + str(val_acc))\n",
    "\n",
    "            if val_acc > best_val_acc:\n",
    "                best_val_acc = val_acc\n",
    "                if (model_path):\n",
    "                    torch.save(self.model.state_dict(), model_path)\n",
    "        print(\"Final validation accuracy = \" + str(val_acc) + \", best = \" + str(best_val_acc))\n",
    "        return val_acc, best_val_acc\n",
    "\n",
    "    def load(self, path):\n",
    "        self.model.load_state_dict(torch.load(path, weights_only=True))"
   ]
  },
  {
   "cell_type": "code",
   "execution_count": 13,
   "metadata": {
    "ExecuteTime": {
     "end_time": "2025-04-26T22:41:06.254423Z",
     "start_time": "2025-04-26T22:41:06.240686Z"
    }
   },
   "outputs": [],
   "source": [
    "# The function below is the basis of how the autograder tests your code. Try to understand this one."
   ]
  },
  {
   "cell_type": "code",
   "execution_count": 14,
   "metadata": {
    "ExecuteTime": {
     "end_time": "2025-04-26T22:41:06.254898Z",
     "start_time": "2025-04-26T22:41:06.243882Z"
    }
   },
   "outputs": [],
   "source": [
    "def test(waveforms, labels, feature_func, classifier, learning_rate, path):\n",
    "    print(\"Extracting features...\")\n",
    "    test_loaders = Loaders(waveforms, labels, feature_func)\n",
    "    test_pipeline = Pipeline(classifier, learning_rate)\n",
    "    \n",
    "    # Note: the autograder will not run this line: it will just load your saved model (next line)\n",
    "    acc, best_acc = test_pipeline.train(test_loaders, 10, path)\n",
    "    \n",
    "    test_pipeline.load(path)\n",
    "    test_acc = test_pipeline.evaluate(test_loaders.loaderTest)\n",
    "    print(\"Test accuracy = \" + str(test_acc))"
   ]
  },
  {
   "cell_type": "code",
   "execution_count": 15,
   "metadata": {
    "ExecuteTime": {
     "end_time": "2025-04-26T22:41:06.255634Z",
     "start_time": "2025-04-26T22:41:06.247290Z"
    }
   },
   "outputs": [],
   "source": [
    "# 1. Paths, labels, waveforms"
   ]
  },
  {
   "cell_type": "code",
   "execution_count": 16,
   "metadata": {
    "ExecuteTime": {
     "end_time": "2025-04-26T22:41:06.270276Z",
     "start_time": "2025-04-26T22:41:06.255430Z"
    }
   },
   "outputs": [
    {
     "data": {
      "text/plain": "[0,\n 0,\n 1,\n 1,\n 0,\n 0,\n 0,\n 0,\n 0,\n 1,\n 1,\n 1,\n 0,\n 1,\n 0,\n 1,\n 0,\n 1,\n 0,\n 0,\n 1,\n 0,\n 1,\n 0,\n 0,\n 0,\n 1,\n 1,\n 0,\n 0,\n 1,\n 0,\n 1,\n 0,\n 0,\n 1,\n 1,\n 1,\n 0,\n 0,\n 0,\n 0,\n 1,\n 0,\n 1,\n 0,\n 0,\n 1,\n 0,\n 0,\n 1,\n 1,\n 0,\n 0,\n 1,\n 0,\n 1,\n 1,\n 0,\n 1,\n 1,\n 1,\n 1,\n 0,\n 1,\n 1,\n 1,\n 1,\n 1,\n 0,\n 1,\n 1,\n 1,\n 0,\n 0,\n 1,\n 1,\n 1,\n 0,\n 1,\n 0,\n 0,\n 1,\n 0,\n 1,\n 0,\n 0,\n 0,\n 1,\n 0,\n 0,\n 0,\n 1,\n 1,\n 0,\n 1,\n 1,\n 0,\n 1,\n 0,\n 0,\n 1,\n 1,\n 0,\n 0,\n 0,\n 1,\n 0,\n 0,\n 0,\n 1,\n 1,\n 0,\n 0,\n 0,\n 0,\n 1,\n 0,\n 0,\n 1,\n 0,\n 1,\n 1,\n 1,\n 0,\n 0,\n 0,\n 1,\n 1,\n 0,\n 0,\n 1,\n 0,\n 0,\n 1,\n 1,\n 1,\n 1,\n 1,\n 1,\n 0,\n 0,\n 0,\n 1,\n 1,\n 1,\n 0,\n 1,\n 1,\n 0,\n 1,\n 0,\n 1,\n 1,\n 1,\n 0,\n 1,\n 1,\n 1,\n 0,\n 0,\n 0,\n 0,\n 0,\n 0,\n 0,\n 0,\n 0,\n 1,\n 1,\n 1,\n 1,\n 1,\n 0,\n 1,\n 0,\n 0,\n 0,\n 1,\n 1,\n 0,\n 1,\n 1,\n 0,\n 1,\n 0,\n 0,\n 1,\n 1,\n 0,\n 1,\n 0,\n 1,\n 1,\n 0,\n 1,\n 1,\n 0,\n 1,\n 1,\n 0,\n 0,\n 1,\n 0,\n 0,\n 0,\n 0,\n 1,\n 0,\n 1,\n 0,\n 0,\n 1,\n 0,\n 0,\n 1,\n 0,\n 1,\n 1,\n 1,\n 0,\n 0,\n 0,\n 1,\n 0,\n 0,\n 0,\n 0,\n 0,\n 0,\n 1,\n 1,\n 0,\n 0,\n 0,\n 1,\n 0,\n 1,\n 0,\n 0,\n 1,\n 0,\n 1,\n 1,\n 0,\n 1,\n 1,\n 1,\n 1,\n 1,\n 1,\n 1,\n 0,\n 0,\n 0,\n 0,\n 0,\n 1,\n 0,\n 1,\n 0,\n 0,\n 1,\n 1,\n 1,\n 0,\n 0,\n 0,\n 0,\n 1,\n 0,\n 0,\n 0,\n 0,\n 1,\n 0,\n 0,\n 1,\n 0,\n 1,\n 1,\n 0,\n 1,\n 0,\n 0,\n 1,\n 0,\n 1,\n 0,\n 1,\n 1,\n 1,\n 0,\n 1,\n 1,\n 0,\n 1,\n 1,\n 0,\n 0,\n 1,\n 0,\n 0,\n 0,\n 1,\n 1,\n 0,\n 0,\n 0,\n 0,\n 0,\n 0,\n 1,\n 0,\n 0,\n 0,\n 0,\n 0,\n 1,\n 0,\n 1,\n 0,\n 1,\n 1,\n 0,\n 1,\n 1,\n 0,\n 1,\n 0,\n 1,\n 0,\n 1,\n 1,\n 0,\n 0,\n 1,\n 0,\n 1,\n 1,\n 0,\n 0,\n 1,\n 1,\n 1,\n 0,\n 1,\n 0,\n 0,\n 0,\n 0,\n 1,\n 0,\n 0,\n 0,\n 0,\n 1,\n 1,\n 1,\n 1,\n 1,\n 1,\n 0,\n 1,\n 0,\n 1,\n 1,\n 0,\n 0,\n 0,\n 1,\n 0,\n 1,\n 0,\n 1,\n 1,\n 0,\n 0,\n 1,\n 1,\n 0,\n 1,\n 0,\n 0,\n 0,\n 0,\n 0,\n 0,\n 0,\n 1,\n 0,\n 1,\n 1,\n 1,\n 0,\n 0,\n 1,\n 1,\n 1,\n 1,\n 0,\n 1,\n 0,\n 0,\n 0,\n 1,\n 1,\n 1,\n 1,\n 0,\n 1,\n 1,\n 0,\n 0,\n 1,\n 1,\n 1,\n 0,\n 1,\n 0,\n 1,\n 0,\n 1,\n 1,\n 0,\n 1,\n 1,\n 1,\n 0,\n 0,\n 1,\n 1,\n 1,\n 1,\n 1,\n 0,\n 1,\n 0,\n 1,\n 1,\n 1,\n 1,\n 0,\n 1,\n 1,\n 1,\n 0,\n 0,\n 1,\n 1,\n 1,\n 1,\n 1,\n 1,\n 0,\n 0,\n 1,\n 1,\n 0,\n 1,\n 0,\n 0,\n 1,\n 0,\n 0,\n 1,\n 1,\n 0,\n 0,\n 1,\n 0,\n 1,\n 0,\n 0,\n 0,\n 0,\n 1,\n 1,\n 1,\n 0,\n 0,\n 0,\n 0,\n 0,\n 1,\n 0,\n 1,\n 1,\n 0,\n 0,\n 1,\n 1,\n 1,\n 1,\n 0,\n 1,\n 1,\n 0,\n 1,\n 0,\n 0,\n 0,\n 1,\n 1,\n 0,\n 0,\n 0,\n 0,\n 1,\n 1,\n 1,\n 0,\n 0,\n 0,\n 1,\n 1,\n 1,\n 1,\n 1,\n 1,\n 1,\n 1,\n 1,\n 1,\n 0,\n 1,\n 0,\n 0,\n 1,\n 1,\n 1,\n 0,\n 1,\n 0,\n 0,\n 0,\n 1,\n 1,\n 1,\n 0,\n 0,\n 0,\n 1,\n 0,\n 1,\n 1,\n 1,\n 1,\n 0,\n 0,\n 0,\n 0,\n 0,\n 1,\n 0,\n 1,\n 1,\n 0,\n 1,\n 1,\n 0,\n 1,\n 1,\n 0,\n 1,\n 1,\n 1,\n 0,\n 1,\n 0,\n 1,\n 0,\n 1,\n 0,\n 0,\n 0,\n 1,\n 1,\n 0,\n 1,\n 1,\n 1,\n 0,\n 0,\n 1,\n 0,\n 1,\n 0,\n 1,\n 0,\n 1,\n 0,\n 0,\n 1,\n 1,\n 1,\n 0,\n 0,\n 0,\n 0,\n 0,\n 1,\n 0,\n 1,\n 0,\n 0,\n 0,\n 0,\n 1,\n 1,\n 1,\n 0,\n 0,\n 1,\n 1,\n 1,\n 1,\n 0,\n 0,\n 0,\n 0,\n 1,\n 0,\n 1,\n 1,\n 0,\n 1,\n 1,\n 0,\n 1,\n 1,\n 0,\n 1,\n 0,\n 0,\n 1,\n 0,\n 1,\n 0,\n 0,\n 0,\n 0,\n 0,\n 0,\n 1,\n 0,\n 1,\n 1,\n 0,\n 0,\n 0,\n 0,\n 0,\n 0,\n 0,\n 1,\n 1,\n 0,\n 0,\n 1,\n 0,\n 1,\n 0,\n 0,\n 0,\n 0,\n 1,\n 0,\n 0,\n 1,\n 0,\n 1,\n 1,\n 1,\n 1,\n 1,\n 1,\n 0,\n 1,\n 1,\n 1,\n 1,\n 1,\n 0,\n 0,\n 0,\n 1,\n 0,\n 1,\n 0,\n 0,\n 0,\n 1,\n 1,\n 1,\n 0,\n 0,\n 1,\n 1,\n 0,\n 0,\n 0,\n 1,\n 0,\n 0,\n 0,\n 1,\n 0,\n 0,\n 1,\n 0,\n 0,\n 0,\n 0,\n 0,\n 0,\n 1,\n 1,\n 1,\n 0,\n 1,\n 0,\n 1,\n 1,\n 1,\n 0,\n 1,\n 0,\n 0,\n 0,\n 0,\n 1,\n 1,\n 1,\n 0,\n 1,\n 0,\n 0,\n 0,\n 0,\n 1,\n 1,\n 1,\n 0,\n 1,\n 1,\n 0,\n 1,\n 0,\n 0,\n 1,\n 0,\n 1,\n 1,\n 1,\n 0,\n 1,\n 1,\n 1,\n 0,\n 0,\n 0,\n 0,\n 1,\n 0,\n 0,\n 0,\n 0,\n 1,\n 1,\n 1,\n 1,\n 1,\n 1,\n 1,\n 1,\n 1,\n 1,\n 1,\n 1,\n 1,\n 1,\n 0,\n 1,\n 0,\n 0,\n 0,\n 1,\n 1,\n 0,\n 1,\n 0,\n 0,\n 0,\n 0,\n 0,\n 0,\n 0,\n 0,\n 0,\n 0,\n 0,\n 1,\n 0,\n 1,\n 1,\n 1,\n 1,\n 1,\n 0,\n 1,\n 1,\n 1,\n 1,\n 0,\n 0,\n 0,\n 1,\n 1,\n 0,\n 0]"
     },
     "execution_count": 16,
     "metadata": {},
     "output_type": "execute_result"
    }
   ],
   "source": [
    "# Once you've written the corresponding code in homework2.py, print these out or visualize them if you want\n",
    "homework2.waveforms\n",
    "homework2.labels"
   ]
  },
  {
   "cell_type": "code",
   "execution_count": 17,
   "metadata": {
    "ExecuteTime": {
     "end_time": "2025-04-26T22:41:06.317699Z",
     "start_time": "2025-04-26T22:41:06.258956Z"
    }
   },
   "outputs": [],
   "source": [
    "# 2. MFCC"
   ]
  },
  {
   "cell_type": "code",
   "execution_count": 18,
   "metadata": {
    "ExecuteTime": {
     "end_time": "2025-04-26T22:41:06.318388Z",
     "start_time": "2025-04-26T22:41:06.263715Z"
    }
   },
   "outputs": [],
   "source": [
    "# test(homework2.waveforms,\n",
    "#      homework2.labels,\n",
    "#      homework2.extract_mfcc,\n",
    "#      homework2.MLPClassifier(),\n",
    "#      0.0001,\n",
    "#      \"best_mlp_model.weights\")"
   ]
  },
  {
   "cell_type": "code",
   "execution_count": 19,
   "metadata": {
    "ExecuteTime": {
     "end_time": "2025-04-26T22:41:06.319614Z",
     "start_time": "2025-04-26T22:41:06.266085Z"
    }
   },
   "outputs": [],
   "source": [
    "# 3. Spectrogram"
   ]
  },
  {
   "cell_type": "code",
   "execution_count": 20,
   "metadata": {
    "ExecuteTime": {
     "end_time": "2025-04-26T22:41:06.330297Z",
     "start_time": "2025-04-26T22:41:06.268899Z"
    }
   },
   "outputs": [],
   "source": [
    "# test(homework2.waveforms,\n",
    "#      homework2.labels,\n",
    "#      homework2.extract_spec,\n",
    "#      homework2.SimpleCNN(),\n",
    "#      0.00005,\n",
    "#      \"best_spec_model.weights\")"
   ]
  },
  {
   "cell_type": "code",
   "execution_count": 21,
   "metadata": {
    "ExecuteTime": {
     "end_time": "2025-04-26T22:41:06.331550Z",
     "start_time": "2025-04-26T22:41:06.271853Z"
    }
   },
   "outputs": [],
   "source": [
    "# 4. Mel-spectrogram"
   ]
  },
  {
   "cell_type": "code",
   "execution_count": 22,
   "metadata": {
    "ExecuteTime": {
     "end_time": "2025-04-26T22:41:06.331641Z",
     "start_time": "2025-04-26T22:41:06.275055Z"
    }
   },
   "outputs": [],
   "source": [
    "# test(homework2.waveforms,\n",
    "#      homework2.labels,\n",
    "#      homework2.extract_mel,\n",
    "#      homework2.SimpleCNN(),\n",
    "#      0.0001,\n",
    "#      \"best_mel_model.weights\")"
   ]
  },
  {
   "cell_type": "code",
   "execution_count": 23,
   "metadata": {
    "ExecuteTime": {
     "end_time": "2025-04-26T22:41:06.332122Z",
     "start_time": "2025-04-26T22:41:06.279649Z"
    }
   },
   "outputs": [],
   "source": [
    "# 5. Constant-Q"
   ]
  },
  {
   "cell_type": "code",
   "execution_count": 24,
   "metadata": {
    "ExecuteTime": {
     "end_time": "2025-04-26T22:41:22.542167Z",
     "start_time": "2025-04-26T22:41:06.380709Z"
    }
   },
   "outputs": [
    {
     "name": "stdout",
     "output_type": "stream",
     "text": [
      "Extracting features...\n",
      "Epoch 0, loss = 0.5712604365415044, validation accuracy = 0.7804878048780488\n",
      "Epoch 1, loss = 0.4233920168545511, validation accuracy = 0.8699186991869918\n",
      "Epoch 2, loss = 0.32506580278277397, validation accuracy = 0.967479674796748\n",
      "Epoch 3, loss = 0.2551571987569332, validation accuracy = 1.0\n",
      "Epoch 4, loss = 0.21170783249868286, validation accuracy = 1.0\n",
      "Epoch 5, loss = 0.17884797147578663, validation accuracy = 1.0\n",
      "Epoch 6, loss = 0.1533509265217516, validation accuracy = 1.0\n",
      "Epoch 7, loss = 0.13342386111617088, validation accuracy = 1.0\n",
      "Epoch 8, loss = 0.11785287968814373, validation accuracy = 1.0\n",
      "Epoch 9, loss = 0.10530565472112761, validation accuracy = 1.0\n",
      "Final validation accuracy = 1.0, best = 1.0\n",
      "Test accuracy = 0.967741935483871\n"
     ]
    }
   ],
   "source": [
    "test(homework2.waveforms,\n",
    "     homework2.labels,\n",
    "     homework2.extract_q,\n",
    "     homework2.SimpleCNN(),\n",
    "     0.0001,\n",
    "     \"best_q_model.weights\")"
   ]
  },
  {
   "cell_type": "code",
   "execution_count": 25,
   "metadata": {
    "ExecuteTime": {
     "end_time": "2025-04-26T22:41:22.549713Z",
     "start_time": "2025-04-26T22:41:22.543318Z"
    }
   },
   "outputs": [],
   "source": [
    "# 6. Pitch shift"
   ]
  },
  {
   "cell_type": "code",
   "execution_count": 26,
   "metadata": {
    "ExecuteTime": {
     "end_time": "2025-04-26T22:42:08.843195Z",
     "start_time": "2025-04-26T22:41:22.549192Z"
    }
   },
   "outputs": [
    {
     "name": "stdout",
     "output_type": "stream",
     "text": [
      "Extracting features...\n",
      "Epoch 0, loss = 0.49425197599662674, validation accuracy = 0.8943089430894309\n",
      "Epoch 1, loss = 0.386057752839945, validation accuracy = 0.943089430894309\n",
      "Epoch 2, loss = 0.33359160805466, validation accuracy = 0.978319783197832\n",
      "Epoch 3, loss = 0.29166853572759366, validation accuracy = 0.989159891598916\n",
      "Epoch 4, loss = 0.25573513222237426, validation accuracy = 0.994579945799458\n",
      "Epoch 5, loss = 0.22500362343810223, validation accuracy = 0.997289972899729\n",
      "Epoch 6, loss = 0.19957225028149508, validation accuracy = 0.997289972899729\n",
      "Epoch 7, loss = 0.17919540832991954, validation accuracy = 0.997289972899729\n",
      "Epoch 8, loss = 0.16299175329644372, validation accuracy = 0.997289972899729\n",
      "Epoch 9, loss = 0.15000129725646089, validation accuracy = 0.997289972899729\n",
      "Final validation accuracy = 0.997289972899729, best = 0.997289972899729\n",
      "Test accuracy = 0.981081081081081\n"
     ]
    }
   ],
   "source": [
    "test(homework2.augmented_waveforms,\n",
    "     homework2.augmented_labels,\n",
    "     homework2.extract_q,\n",
    "     homework2.SimpleCNN(),\n",
    "     0.0001,\n",
    "     \"best_augmented_model.weights\")"
   ]
  },
  {
   "cell_type": "code",
   "execution_count": 27,
   "metadata": {
    "ExecuteTime": {
     "end_time": "2025-04-26T22:42:08.846232Z",
     "start_time": "2025-04-26T22:42:08.841689Z"
    }
   },
   "outputs": [],
   "source": [
    "# 7. Extend your model to handle four classes and creatively improve its performance"
   ]
  },
  {
   "cell_type": "code",
   "execution_count": 28,
   "metadata": {
    "ExecuteTime": {
     "end_time": "2025-04-26T22:42:08.847441Z",
     "start_time": "2025-04-26T22:42:08.844289Z"
    }
   },
   "outputs": [],
   "source": [
    "# test(homework2.waveforms,\n",
    "#      homework2.labels_7,\n",
    "#      homework2.feature_func_7,\n",
    "#      homework2.model_7,\n",
    "#      0.001,\n",
    "#      \"best_model_7.weights\")"
   ]
  },
  {
   "cell_type": "code",
   "outputs": [],
   "source": [],
   "metadata": {
    "collapsed": false,
    "ExecuteTime": {
     "end_time": "2025-04-26T22:42:08.854185Z",
     "start_time": "2025-04-26T22:42:08.849953Z"
    }
   },
   "execution_count": 28
  }
 ],
 "metadata": {
  "kernelspec": {
   "display_name": "Python 3 (ipykernel)",
   "language": "python",
   "name": "python3"
  },
  "language_info": {
   "codemirror_mode": {
    "name": "ipython",
    "version": 3
   },
   "file_extension": ".py",
   "mimetype": "text/x-python",
   "name": "python",
   "nbconvert_exporter": "python",
   "pygments_lexer": "ipython3",
   "version": "3.10.12"
  }
 },
 "nbformat": 4,
 "nbformat_minor": 2
}
