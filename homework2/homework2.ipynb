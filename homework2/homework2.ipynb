{
 "cells": [
  {
   "cell_type": "markdown",
   "id": "82bb727c",
   "metadata": {
    "id": "82bb727c"
   },
   "source": [
    "# Homework 2  \n",
    "\n",
    "The goal of this assignment is experiment with classification pipelines (in this case, for instrument classification) using spectrograms."
   ]
  },
  {
   "cell_type": "code",
   "execution_count": 41,
   "id": "22e9780f",
   "metadata": {
    "id": "22e9780f",
    "ExecuteTime": {
     "end_time": "2025-04-23T00:21:37.304204Z",
     "start_time": "2025-04-23T00:21:37.246618Z"
    }
   },
   "outputs": [],
   "source": [
    "# Set this yourself depending where you put the files\n",
    "dataroot = \".\"\n",
    "# On the autograder it should be here:\n",
    "dataroot = \".\""
   ]
  },
  {
   "cell_type": "code",
   "execution_count": 42,
   "id": "58eb3564",
   "metadata": {
    "id": "58eb3564",
    "ExecuteTime": {
     "end_time": "2025-04-23T00:21:37.313322Z",
     "start_time": "2025-04-23T00:21:37.307635Z"
    }
   },
   "outputs": [],
   "source": [
    "# !pip install librosa\n",
    "# !pip install torch\n",
    "# !pip install glob\n",
    "# !pip install numpy"
   ]
  },
  {
   "cell_type": "code",
   "execution_count": 43,
   "id": "0b490c05",
   "metadata": {
    "id": "0b490c05",
    "ExecuteTime": {
     "end_time": "2025-04-23T00:21:37.331120Z",
     "start_time": "2025-04-23T00:21:37.323353Z"
    }
   },
   "outputs": [],
   "source": [
    "import torch\n",
    "import torch.nn as nn\n",
    "import torch.nn.functional as nnF\n",
    "import torch.optim as optim\n",
    "from torch.utils.data import Dataset, DataLoader\n",
    "import numpy as np\n",
    "import librosa\n",
    "import random\n",
    "import glob"
   ]
  },
  {
   "cell_type": "code",
   "execution_count": 44,
   "id": "884745cd",
   "metadata": {
    "id": "884745cd",
    "ExecuteTime": {
     "end_time": "2025-04-23T00:21:37.334754Z",
     "start_time": "2025-04-23T00:21:37.327832Z"
    }
   },
   "outputs": [],
   "source": [
    "torch.use_deterministic_algorithms(True) # Try to make things less random, though not required"
   ]
  },
  {
   "cell_type": "code",
   "execution_count": 45,
   "id": "55a5f028",
   "metadata": {
    "id": "55a5f028",
    "ExecuteTime": {
     "end_time": "2025-04-23T00:21:37.365059Z",
     "start_time": "2025-04-23T00:21:37.337438Z"
    }
   },
   "outputs": [],
   "source": [
    "audio_paths = glob.glob(dataroot + \"/nsynth_subset/*.wav\")\n",
    "random.seed(0)\n",
    "random.shuffle(audio_paths)"
   ]
  },
  {
   "cell_type": "code",
   "execution_count": 46,
   "id": "57f5ab0b",
   "metadata": {
    "id": "57f5ab0b",
    "ExecuteTime": {
     "end_time": "2025-04-23T00:21:37.366355Z",
     "start_time": "2025-04-23T00:21:37.351548Z"
    }
   },
   "outputs": [],
   "source": [
    "if not len(audio_paths):\n",
    "    print(\"You probably need to set the dataroot folder correctly\")"
   ]
  },
  {
   "cell_type": "code",
   "outputs": [
    {
     "name": "stdout",
     "output_type": "stream",
     "text": [
      "821\n"
     ]
    }
   ],
   "source": [
    "print(len(audio_paths))"
   ],
   "metadata": {
    "collapsed": false,
    "ExecuteTime": {
     "end_time": "2025-04-23T00:21:37.373617Z",
     "start_time": "2025-04-23T00:21:37.354053Z"
    }
   },
   "id": "c5d0b079c63dfa4a",
   "execution_count": 47
  },
  {
   "cell_type": "code",
   "execution_count": 48,
   "id": "8d7a98a0",
   "metadata": {
    "id": "8d7a98a0",
    "ExecuteTime": {
     "end_time": "2025-04-23T00:21:37.374102Z",
     "start_time": "2025-04-23T00:21:37.357473Z"
    }
   },
   "outputs": [],
   "source": [
    "SAMPLE_RATE = 8000 # Very low sample rate, just so things run quickly\n",
    "N_MFCC = 13\n",
    "INSTRUMENT_MAP = {'guitar': 0, 'vocal': 1} # Only two classes (also so that things run quickly)\n",
    "NUM_CLASSES = len(INSTRUMENT_MAP)\n",
    "\n",
    "# If we used all the classes we would have:\n",
    "# INSTRUMENT_MAP = {\n",
    "#     'bass': 0, 'brass': 1, 'flute': 2, 'guitar': 3,\n",
    "#     'keyboard': 4, 'mallet': 5, 'organ': 6, 'reed': 7,\n",
    "#     'string': 8, 'synth_lead': 9, 'vocal': 10\n",
    "# }"
   ]
  },
  {
   "cell_type": "markdown",
   "id": "e9de9554",
   "metadata": {
    "id": "e9de9554"
   },
   "source": [
    "1. Extract prediction labels and construct waveforms\n",
    "\n",
    "`extract_waveform()`\n",
    "\n",
    "**Inputs**\n",
    "- `path`: A string that represents a path to the wav file\n",
    "\n",
    "**Outputs**\n",
    "- `waveform`: an array containing the waveform; use librosa.load, remember to set the sample rate correctly\n",
    "\n",
    "`extract_label()`\n",
    "\n",
    "**Inputs**\n",
    "- `path'\n",
    "\n",
    "**Outputs**\n",
    "- `label`: A integer that represents the label of the path (hint: look at the filename and make use of `INSTRUMENT_MAP`)"
   ]
  },
  {
   "cell_type": "code",
   "execution_count": 49,
   "id": "8f9838f9",
   "metadata": {
    "id": "8f9838f9",
    "ExecuteTime": {
     "end_time": "2025-04-23T00:21:37.374536Z",
     "start_time": "2025-04-23T00:21:37.360392Z"
    }
   },
   "outputs": [],
   "source": [
    "def extract_waveform(path):\n",
    "    # Your code here\n",
    "    wave, sr = librosa.load(path, sr=SAMPLE_RATE)\n",
    "    return wave "
   ]
  },
  {
   "cell_type": "code",
   "execution_count": 50,
   "id": "c7f5927c",
   "metadata": {
    "id": "c7f5927c",
    "ExecuteTime": {
     "end_time": "2025-04-23T00:21:37.377069Z",
     "start_time": "2025-04-23T00:21:37.365971Z"
    }
   },
   "outputs": [],
   "source": [
    "def extract_label(path):\n",
    "    \"\"\"Returns based on instrument map (guitar : 0), (vocal:1)\"\"\"\n",
    "    # Your code here\n",
    "    path = path.split('/')\n",
    "    # print(path)\n",
    "    return INSTRUMENT_MAP[path[2].split('_')[0]]"
   ]
  },
  {
   "cell_type": "code",
   "execution_count": 51,
   "id": "19795b2d",
   "metadata": {
    "id": "19795b2d",
    "ExecuteTime": {
     "end_time": "2025-04-23T00:21:38.188838Z",
     "start_time": "2025-04-23T00:21:37.372969Z"
    }
   },
   "outputs": [],
   "source": [
    "waveforms = [extract_waveform(p) for p in audio_paths]\n",
    "labels = [extract_label(p) for p in audio_paths]"
   ]
  },
  {
   "cell_type": "markdown",
   "id": "dab24201",
   "metadata": {
    "id": "dab24201"
   },
   "source": [
    "A few simple classifiers are provided. You don't need to modify these (though the autograder will *probably* work if you'd like to experiment with architectural changes)"
   ]
  },
  {
   "cell_type": "code",
   "outputs": [
    {
     "name": "stdout",
     "output_type": "stream",
     "text": [
      "[0, 0, 1, 1, 0]\n"
     ]
    }
   ],
   "source": [
    "print(labels[:5])"
   ],
   "metadata": {
    "collapsed": false,
    "ExecuteTime": {
     "end_time": "2025-04-23T00:21:38.200786Z",
     "start_time": "2025-04-23T00:21:38.196260Z"
    }
   },
   "id": "1153e712d7f4d34e",
   "execution_count": 52
  },
  {
   "cell_type": "code",
   "execution_count": 53,
   "id": "8e261212",
   "metadata": {
    "id": "8e261212",
    "ExecuteTime": {
     "end_time": "2025-04-23T00:21:38.205984Z",
     "start_time": "2025-04-23T00:21:38.198597Z"
    }
   },
   "outputs": [],
   "source": [
    "class MLPClassifier(nn.Module):\n",
    "    def __init__(self):\n",
    "        super(MLPClassifier, self).__init__()\n",
    "        self.fc1 = nn.Linear(2 * N_MFCC, 64)\n",
    "        self.fc2 = nn.Linear(64, 32)\n",
    "        self.fc3 = nn.Linear(32, NUM_CLASSES)\n",
    "        self.relu = nn.ReLU()\n",
    "\n",
    "    def forward(self, x):\n",
    "        x = self.relu(self.fc1(x))\n",
    "        x = self.relu(self.fc2(x))\n",
    "        x = self.fc3(x)\n",
    "        return x"
   ]
  },
  {
   "cell_type": "code",
   "execution_count": 54,
   "id": "9b6fb390",
   "metadata": {
    "id": "9b6fb390",
    "ExecuteTime": {
     "end_time": "2025-04-23T00:21:38.227030Z",
     "start_time": "2025-04-23T00:21:38.211139Z"
    }
   },
   "outputs": [],
   "source": [
    "class SimpleCNN(nn.Module):\n",
    "    def __init__(self):\n",
    "        super(SimpleCNN, self).__init__()\n",
    "        self.conv1 = nn.Conv2d(1, 16, kernel_size=3, padding=1)\n",
    "        self.bn1 = nn.BatchNorm2d(16)\n",
    "        self.pool1 = nn.MaxPool2d(kernel_size=2, stride=2)\n",
    "\n",
    "        self.conv2 = nn.Conv2d(16, 32, kernel_size=3, padding=1)\n",
    "        self.bn2 = nn.BatchNorm2d(32)\n",
    "        self.pool2 = nn.MaxPool2d(kernel_size=2, stride=2)\n",
    "\n",
    "        self.conv3 = nn.Conv2d(32, 64, kernel_size=3, padding=1)\n",
    "        self.bn3 = nn.BatchNorm2d(64)\n",
    "        self.pool3 = nn.AdaptiveAvgPool2d((1, 1))\n",
    "\n",
    "        self.fc = nn.Linear(64, NUM_CLASSES)\n",
    "\n",
    "    def forward(self, x):\n",
    "        x = x.unsqueeze(1)\n",
    "        x = self.pool1(nnF.relu(self.bn1(self.conv1(x))))\n",
    "        x = self.pool2(nnF.relu(self.bn2(self.conv2(x))))\n",
    "        x = self.pool3(nnF.relu(self.bn3(self.conv3(x))))\n",
    "        x = x.view(x.size(0), -1)\n",
    "        x = self.fc(x)\n",
    "        return x"
   ]
  },
  {
   "cell_type": "markdown",
   "id": "0f23cde9",
   "metadata": {
    "id": "0f23cde9"
   },
   "source": [
    "2. Extract mfcc features\n",
    "\n",
    "`extract_mfcc()`\n",
    "\n",
    "**Inputs**\n",
    "- `waveform`: an array containing the waveform\n",
    "\n",
    "**Outputs**\n",
    "- `feature`: a PyTorch float tensor that represents a concatenation of 13 mean values and 13 standard deviation values\n",
    "\n",
    "**Process**\n",
    "- Extract feature using `librosa.feature.mfcc`; remember to set the sample rate and n_mfcc\n",
    "- Compute 13 mean and 13 standard deviation values\n",
    "- Concatenate them together"
   ]
  },
  {
   "cell_type": "code",
   "execution_count": 55,
   "id": "0e72a796",
   "metadata": {
    "id": "0e72a796",
    "ExecuteTime": {
     "end_time": "2025-04-23T00:21:38.227776Z",
     "start_time": "2025-04-23T00:21:38.214394Z"
    }
   },
   "outputs": [],
   "source": [
    "def extract_mfcc(w):\n",
    "    # Your code here:\n",
    "    # load using librosa.feature.mfcc\n",
    "    mfcc = librosa.feature.mfcc(y=w, sr=SAMPLE_RATE, n_mfcc = N_MFCC)\n",
    "    # extract mean and \n",
    "    means = np.mean(mfcc, axis=1)\n",
    "    \n",
    "    stds = np.std(mfcc, axis=1)\n",
    "    # concatenate\n",
    "    features = np.concatenate([means, stds])\n",
    "    \n",
    "    return torch.FloatTensor(features)"
   ]
  },
  {
   "cell_type": "markdown",
   "id": "a83dbca5",
   "metadata": {
    "id": "a83dbca5"
   },
   "source": [
    "## Note:\n",
    "\n",
    "The autograder will test that your MFCC features are correct, and it will *also* use them within an ML pipeline. The test_suite can be used to run the full pipeline after you've implemented these functions. If you've implemented your features correctly this should \"just work\" and you'll be able to upload the trained; this is mostly here just so that you can see how the full pipeline works (which will be useful when you develop your own pipelines for Assignment 1)"
   ]
  },
  {
   "cell_type": "markdown",
   "id": "52f4577a",
   "metadata": {
    "id": "52f4577a"
   },
   "source": [
    "3. Extract spectrograms\n",
    "\n",
    "`extract_spec()`\n",
    "\n",
    "**Inputs**\n",
    "- `waveform`: an array containing the waveform\n",
    "\n",
    "**Outputs**\n",
    "- `feature`: a PyTorch float tensor that contains a spectrogram\n",
    "\n",
    "**Process**\n",
    "- apply STFT to the given waveform\n",
    "- square the absolute values of the complex numbers from the STFT"
   ]
  },
  {
   "cell_type": "code",
   "execution_count": 56,
   "id": "a3325a7e",
   "metadata": {
    "id": "a3325a7e",
    "ExecuteTime": {
     "end_time": "2025-04-23T00:21:38.228243Z",
     "start_time": "2025-04-23T00:21:38.217419Z"
    }
   },
   "outputs": [],
   "source": [
    "def extract_spec(w):\n",
    "    # Your code here\n",
    "    # load\n",
    "    stft = librosa.stft(y=w)\n",
    "    # take squared absolute values\n",
    "    spec = np.abs(stft) ** 2\n",
    "    \n",
    "    \n",
    "    return torch.FloatTensor(spec)"
   ]
  },
  {
   "cell_type": "markdown",
   "id": "5e4d252d",
   "metadata": {
    "id": "5e4d252d"
   },
   "source": [
    "4. Extract mel-spectrograms\n",
    "\n",
    "`extract_mel()`\n",
    "\n",
    "**Inputs**\n",
    "- `waveform`: an array containing the waveform\n",
    "- `n_mels`: number of mel bands\n",
    "- `hop_length`: hop length\n",
    "\n",
    "**Outputs**\n",
    "- `feature`: A PyTorch Float Tensor that contains a mel-spectrogram\n",
    "\n",
    "**Process**\n",
    "- generate melspectrograms with `librosa.feature.melspectrogram`; make sure to se the sample rate, n_mels, and hop_length\n",
    "- convert them to decibel units with `librosa.power_to_db`\n",
    "- normalize values to be in the range 0 to 1"
   ]
  },
  {
   "cell_type": "code",
   "execution_count": 57,
   "id": "e994623d",
   "metadata": {
    "id": "e994623d",
    "ExecuteTime": {
     "end_time": "2025-04-23T00:21:38.228625Z",
     "start_time": "2025-04-23T00:21:38.222961Z"
    }
   },
   "outputs": [],
   "source": [
    "def extract_mel(w, n_mels = 128, hop_length = 512):\n",
    "    # Your code here\n",
    "    # load\n",
    "    melspec = librosa.feature.melspectrogram(y=w, sr=SAMPLE_RATE, n_mels=n_mels, hop_length=hop_length)\n",
    "    # convert to db\n",
    "    mel_spec_db = librosa.power_to_db(melspec)\n",
    "    \n",
    "    # normalize\n",
    "    mel_spec_db_norm = (mel_spec_db - mel_spec_db.min()) / (mel_spec_db.max() - mel_spec_db.min() + 1e-6)\n",
    "\n",
    "    \n",
    "    return torch.FloatTensor(mel_spec_db_norm)"
   ]
  },
  {
   "cell_type": "markdown",
   "id": "12708c02",
   "metadata": {
    "id": "12708c02"
   },
   "source": [
    "5. Extract constant-Q transform\n",
    "\n",
    "`extract_q()`\n",
    "\n",
    "**Inputs**\n",
    "- `waveform`: an array containing the waveform\n",
    "\n",
    "**Outputs**\n",
    "- `feature`: A PyTorch Float Tensor that contains a constant-Q transform\n",
    "\n",
    "**Process**\n",
    "- generate constant-Q transform with `librosa.cqt`; this one will need a higher sample rate (use 16000) to work"
   ]
  },
  {
   "cell_type": "code",
   "execution_count": 58,
   "id": "4cd405c1",
   "metadata": {
    "id": "4cd405c1",
    "ExecuteTime": {
     "end_time": "2025-04-23T00:21:38.229831Z",
     "start_time": "2025-04-23T00:21:38.225466Z"
    }
   },
   "outputs": [],
   "source": [
    "def extract_q(w):\n",
    "    # Your code here\n",
    "    result = librosa.cqt(y=w, sr=16000)\n",
    "\n",
    "    return torch.FloatTensor(result)"
   ]
  },
  {
   "cell_type": "markdown",
   "id": "4f0f6ac5",
   "metadata": {
    "id": "4f0f6ac5"
   },
   "source": [
    "6. Pitch shift\n",
    "\n",
    "`pitch_shift()`\n",
    "\n",
    "**Inputs**\n",
    "- `waveform`: an array containing the waveform\n",
    "- `n`: number of semitones to shift by (integer, can be positive or negative)\n",
    "\n",
    "**Outputs**\n",
    "- `waveform`: a pitch-shifted waveform\n",
    "\n",
    "**Process**\n",
    "- use `librosa.effects.pitch_shift`"
   ]
  },
  {
   "cell_type": "code",
   "execution_count": 59,
   "id": "b71abf8f",
   "metadata": {
    "id": "b71abf8f",
    "ExecuteTime": {
     "end_time": "2025-04-23T00:21:38.246194Z",
     "start_time": "2025-04-23T00:21:38.230069Z"
    }
   },
   "outputs": [],
   "source": [
    "def pitch_shift(w, n):\n",
    "    # Your code here\n",
    "    return librosa.effects.pitch_shift(y=w, sr = SAMPLE_RATE, n_steps=n)"
   ]
  },
  {
   "cell_type": "code",
   "execution_count": 60,
   "id": "f16e3f0a",
   "metadata": {
    "id": "f16e3f0a",
    "ExecuteTime": {
     "end_time": "2025-04-23T00:21:46.690056Z",
     "start_time": "2025-04-23T00:21:38.247676Z"
    }
   },
   "outputs": [],
   "source": [
    "# Code below augments the datasets\n",
    "\n",
    "augmented_waveforms = []\n",
    "augmented_labels = []\n",
    "\n",
    "for w,y in zip(waveforms,labels):\n",
    "    augmented_waveforms.append(w)\n",
    "    augmented_waveforms.append(pitch_shift(w,1))\n",
    "    augmented_waveforms.append(pitch_shift(w,-1))\n",
    "    augmented_labels += [y,y,y]"
   ]
  },
  {
   "cell_type": "markdown",
   "id": "bc0c48ae",
   "metadata": {
    "id": "bc0c48ae"
   },
   "source": [
    "7. Extend the model to work for four classes.\n",
    "\n",
    "By making data augmentations, or modifying the model architecture, build a model with test accuracy > 0.93"
   ]
  },
  {
   "cell_type": "code",
   "execution_count": 61,
   "id": "9f9b2fc1",
   "metadata": {
    "id": "9f9b2fc1",
    "ExecuteTime": {
     "end_time": "2025-04-23T00:21:46.690654Z",
     "start_time": "2025-04-23T00:21:46.685606Z"
    }
   },
   "outputs": [],
   "source": [
    "INSTRUMENT_MAP_7 = {'guitar_acoustic': 0, 'guitar_electronic': 1, 'vocal_acoustic': 2, 'vocal_synthetic': 3}"
   ]
  },
  {
   "cell_type": "code",
   "execution_count": 62,
   "id": "5be77a1f",
   "metadata": {
    "id": "5be77a1f",
    "ExecuteTime": {
     "end_time": "2025-04-23T00:21:46.692285Z",
     "start_time": "2025-04-23T00:21:46.689325Z"
    }
   },
   "outputs": [],
   "source": [
    "NUM_CLASSES_7 = 4"
   ]
  },
  {
   "cell_type": "code",
   "execution_count": 63,
   "id": "b3b2e8a9",
   "metadata": {
    "id": "b3b2e8a9",
    "ExecuteTime": {
     "end_time": "2025-04-23T00:21:46.698019Z",
     "start_time": "2025-04-23T00:21:46.695590Z"
    }
   },
   "outputs": [],
   "source": [
    "def extract_label_7(path):\n",
    "    # Your code here\n",
    "    pass"
   ]
  },
  {
   "cell_type": "code",
   "execution_count": 64,
   "id": "42d6f20d",
   "metadata": {
    "id": "42d6f20d",
    "ExecuteTime": {
     "end_time": "2025-04-23T00:21:46.702440Z",
     "start_time": "2025-04-23T00:21:46.699022Z"
    }
   },
   "outputs": [],
   "source": [
    "# Select which feature function to use.\n",
    "# Can be one of the existing ones (e.g. extract_mfcc), or you can write a new one.\n",
    "feature_func_7 = None"
   ]
  },
  {
   "cell_type": "code",
   "execution_count": 65,
   "id": "6a05958c",
   "metadata": {
    "id": "6a05958c",
    "ExecuteTime": {
     "end_time": "2025-04-23T00:21:46.707030Z",
     "start_time": "2025-04-23T00:21:46.702633Z"
    }
   },
   "outputs": [],
   "source": [
    "labels_7 = [extract_label_7(p) for p in audio_paths]"
   ]
  },
  {
   "cell_type": "code",
   "execution_count": 66,
   "id": "d710b28f",
   "metadata": {
    "id": "d710b28f",
    "ExecuteTime": {
     "end_time": "2025-04-23T00:21:46.708124Z",
     "start_time": "2025-04-23T00:21:46.704902Z"
    }
   },
   "outputs": [],
   "source": [
    "# Select which model to use.\n",
    "# Can use an existing model (e.g. MLPClassifier) or modify it.\n",
    "# Note that you'll need to copy and (slightly) modify the existing class to handle 4 labels.\n",
    "# model_7 = MLPClassifier_4classes()"
   ]
  },
  {
   "cell_type": "code",
   "execution_count": 68,
   "id": "1b8bcd59",
   "metadata": {
    "id": "1b8bcd59",
    "ExecuteTime": {
     "end_time": "2025-04-23T00:21:58.400255Z",
     "start_time": "2025-04-23T00:21:57.328247Z"
    }
   },
   "outputs": [
    {
     "name": "stdout",
     "output_type": "stream",
     "text": [
      "[NbConvertApp] Converting notebook homework2.ipynb to python\r\n",
      "[NbConvertApp] Writing 8891 bytes to homework2.py\r\n"
     ]
    }
   ],
   "source": [
    "# !jupyter nbconvert homework2.ipynb --to python"
   ]
  }
 ],
 "metadata": {
  "kernelspec": {
   "display_name": "Python 3 (ipykernel)",
   "language": "python",
   "name": "python3"
  },
  "language_info": {
   "codemirror_mode": {
    "name": "ipython",
    "version": 3
   },
   "file_extension": ".py",
   "mimetype": "text/x-python",
   "name": "python",
   "nbconvert_exporter": "python",
   "pygments_lexer": "ipython3",
   "version": "3.10.12"
  },
  "colab": {
   "provenance": []
  }
 },
 "nbformat": 4,
 "nbformat_minor": 5
}
